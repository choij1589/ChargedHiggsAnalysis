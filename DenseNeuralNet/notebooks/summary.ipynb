{
 "cells": [
  {
   "cell_type": "code",
   "execution_count": 6,
   "metadata": {},
   "outputs": [],
   "source": [
    "import os, shutil\n",
    "import pandas as pd\n",
    "from itertools import product"
   ]
  },
  {
   "cell_type": "code",
   "execution_count": 7,
   "metadata": {},
   "outputs": [
    {
     "data": {
      "text/plain": [
       "'Adam'"
      ]
     },
     "execution_count": 7,
     "metadata": {},
     "output_type": "execute_result"
    }
   ],
   "source": [
    "WORKDIR = \"/home/choij/workspace/ChargedHiggsAnalysis\"\n",
    "\n",
    "CHANNEL = \"Skim3Mu\"\n",
    "\n",
    "SIG = \"MHc-130_MA-90\"\n",
    "BKG = \"ttX\"\n",
    "\n",
    "model = pd.read_csv(f\"{WORKDIR}/DenseNeuralNet/{CHANNEL}/{SIG}_vs_{BKG}/results/summary.txt\", header=None, sep=\",\\s\", engine=\"python\").transpose()[0][4]\n",
    "\n",
    "model"
   ]
  },
  {
   "cell_type": "code",
   "execution_count": 8,
   "metadata": {},
   "outputs": [],
   "source": [
    "WORKDIR = \"/home/choij/workspace/ChargedHiggsAnalysis\"\n",
    "\n",
    "CHANNEL = \"Skim3Mu\"\n",
    "\n",
    "SIGNALs = [\"MHc-70_MA-15\", \"MHc-70_MA-40\", \"MHc-70_MA-65\",\n",
    "           \"MHc-100_MA-15\", \"MHc-100_MA-60\", \"MHc-100_MA-95\",\n",
    "           \"MHc-130_MA-15\", \"MHc-130_MA-55\", \"MHc-130_MA-90\", \"MHc-130_MA-125\",\n",
    "           \"MHc-160_MA-15\", \"MHc-160_MA-85\", \"MHc-160_MA-120\", \"MHc-160_MA-155\"]\n",
    "BACKGROUNDs = [\"TTLL_powheg\", \"ttX\"]"
   ]
  },
  {
   "cell_type": "code",
   "execution_count": 9,
   "metadata": {},
   "outputs": [],
   "source": [
    "os.makedirs(f\"{WORKDIR}/summary/DenseNeuralNet/{CHANNEL}/models\")\n",
    "os.makedirs(f\"{WORKDIR}/summary/DenseNeuralNet/{CHANNEL}/results\")\n",
    "\n",
    "for SIG, BKG in product(SIGNALs, BACKGROUNDs):\n",
    "    try:\n",
    "        csv = pd.Series(pd.read_csv(f\"{WORKDIR}/DenseNeuralNet/{CHANNEL}/{SIG}_vs_{BKG}/results/summary.txt\", header=None, sep=\",\\s\", engine=\"python\").transpose()[0])\n",
    "        modelIdx, model, optimizer, initLR, scheduler = csv[2:7]\n",
    "    \n",
    "        init_path = f\"{WORKDIR}/DenseNeuralNet/{CHANNEL}/{SIG}_vs_{BKG}/results/summary.txt\"\n",
    "        remap_path = f\"{WORKDIR}/summary/DenseNeuralNet/{CHANNEL}/results/summary_{SIG}_vs_{BKG}.txt\"\n",
    "        shutil.copy2(init_path, remap_path)\n",
    "\n",
    "        init_path = f\"{WORKDIR}/DenseNeuralNet/{CHANNEL}/{SIG}_vs_{BKG}/results/ROC-model{modelIdx}.png\"\n",
    "        remap_path = f\"{WORKDIR}/summary/DenseNeuralNet/{CHANNEL}/results/ROC-{SIG}_vs_{BKG}.png\"\n",
    "        shutil.copy2(init_path, remap_path)\n",
    "\n",
    "        init_path = f\"{WORKDIR}/DenseNeuralNet/{CHANNEL}/{SIG}_vs_{BKG}/results/training-model{modelIdx}.png\"\n",
    "        remap_path = f\"{WORKDIR}/summary/DenseNeuralNet/{CHANNEL}/results/training-{SIG}_vs_{BKG}.png\"\n",
    "        shutil.copy2(init_path, remap_path)\n",
    "\n",
    "        model_path = f\"{WORKDIR}/DenseNeuralNet/{CHANNEL}/{SIG}_vs_{BKG}/models/{model}_{optimizer}_initLR-{str(initLR).replace('.', 'p')}_{scheduler}.pt\"\n",
    "        remap_path = f\"{WORKDIR}/summary/DenseNeuralNet/{CHANNEL}/models/{SIG}_vs_{BKG}.pt\"\n",
    "        shutil.copy2(model_path, remap_path)\n",
    "    except Exception as e:\n",
    "        print(e)\n",
    "        print(SIG, BKG)"
   ]
  },
  {
   "cell_type": "code",
   "execution_count": null,
   "metadata": {},
   "outputs": [],
   "source": []
  }
 ],
 "metadata": {
  "kernelspec": {
   "display_name": "torch",
   "language": "python",
   "name": "python3"
  },
  "language_info": {
   "codemirror_mode": {
    "name": "ipython",
    "version": 3
   },
   "file_extension": ".py",
   "mimetype": "text/x-python",
   "name": "python",
   "nbconvert_exporter": "python",
   "pygments_lexer": "ipython3",
   "version": "3.10.6"
  },
  "orig_nbformat": 4,
  "vscode": {
   "interpreter": {
    "hash": "52271d38ade95bb6a13d6b9f62707b1e1d13e0b0d12317a3cb0ffc117384cb38"
   }
  }
 },
 "nbformat": 4,
 "nbformat_minor": 2
}
