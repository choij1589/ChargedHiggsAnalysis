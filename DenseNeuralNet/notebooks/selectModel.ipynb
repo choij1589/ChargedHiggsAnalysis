{
 "cells": [
  {
   "cell_type": "code",
   "execution_count": 70,
   "metadata": {},
   "outputs": [],
   "source": [
    "import numpy as np\n",
    "from sklearn import metrics\n",
    "from array import array\n",
    "from ROOT import TFile, TH1D, TCanvas\n",
    "\n",
    "WORKDIR = \"/home/choij/workspace/ChargedHiggsAnalysis\"\n",
    "CHANNEL = \"Skim3Mu\"\n",
    "SIG = \"MHc-130_MA-90\"\n",
    "BKG = \"ttX\""
   ]
  },
  {
   "cell_type": "code",
   "execution_count": 71,
   "metadata": {},
   "outputs": [
    {
     "data": {
      "text/plain": [
       "4"
      ]
     },
     "execution_count": 71,
     "metadata": {},
     "output_type": "execute_result"
    }
   ],
   "source": [
    "f = TFile.Open(f\"{WORKDIR}/DenseNeuralNet/{CHANNEL}/{SIG}_vs_{BKG}/root/scores.root\")\n",
    "tree = f.Get(\"Events\")\n",
    "\n",
    "\n",
    "scores = {}\n",
    "for idx in range(18):\n",
    "    scores[f\"model{idx}\"] = array('f', [0.]); tree.SetBranchAddress(f\"score-model{idx}\", scores[f\"model{idx}\"])\n",
    "trainMask = array(\"B\", [False]); tree.SetBranchAddress(f\"trainMask\", trainMask)\n",
    "validMask = array(\"B\", [False]); tree.SetBranchAddress(f\"validMask\", validMask)\n",
    "testMask = array(\"B\", [False]); tree.SetBranchAddress(f\"testMask\", testMask)\n",
    "signalMask = array(\"B\", [False]); tree.SetBranchAddress(f\"signalMask\", signalMask)"
   ]
  },
  {
   "cell_type": "code",
   "execution_count": 72,
   "metadata": {},
   "outputs": [],
   "source": [
    "def checkCompatibility(idx, cut):\n",
    "    hTrain = TH1D(\"hTrain\", \"\", 10000, 0., 1.)\n",
    "    hTest = TH1D(\"hTest\", \"\", 10000, 0., 1.)\n",
    "    \n",
    "    for i in range(tree.GetEntries()):\n",
    "        tree.GetEntry(i)\n",
    "        if trainMask[0]: hTrain.Fill(scores[f\"model{idx}\"][0])\n",
    "        if testMask[0]:  hTest.Fill(scores[f\"model{idx}\"][0])\n",
    "        \n",
    "    ksprob = hTrain.KolmogorovTest(hTest)\n",
    "    del hTrain, hTest\n",
    "\n",
    "    return ksprob > cut"
   ]
  },
  {
   "cell_type": "code",
   "execution_count": 73,
   "metadata": {},
   "outputs": [],
   "source": [
    "def getAUC(idx, whichset):\n",
    "    predictions = []\n",
    "    answers = []\n",
    "    \n",
    "    for i in range(tree.GetEntries()):\n",
    "        tree.GetEntry(i)\n",
    "        if whichset == \"train\":\n",
    "            if not trainMask[0]: continue\n",
    "        elif whichset == \"valid\":\n",
    "            if not validMask[0]: continue\n",
    "        elif whichset == \"test\":\n",
    "            if not testMask[0]: continue\n",
    "        else:\n",
    "            print(f\"Wrong input {whichset}\")\n",
    "            return None\n",
    "\n",
    "        predictions.append(scores[f\"model{idx}\"][0])\n",
    "        answers.append(signalMask[0])\n",
    "    \n",
    "    fpr, tpr, _ = metrics.roc_curve(answers, predictions, pos_label=1)\n",
    "    auc = metrics.auc(fpr, tpr)\n",
    "    return auc"
   ]
  },
  {
   "cell_type": "code",
   "execution_count": 74,
   "metadata": {},
   "outputs": [
    {
     "name": "stdout",
     "output_type": "stream",
     "text": [
      "model-0 with testAUC = 0.791\n",
      "model-1 with testAUC = 0.783\n",
      "model-2 with testAUC = 0.786\n",
      "model-3 with testAUC = 0.772\n",
      "model-4 with testAUC = 0.766\n",
      "model-5 with testAUC = 0.776\n",
      "model-6 with testAUC = 0.764\n",
      "model-7 with testAUC = 0.788\n",
      "model-8 with testAUC = 0.778\n",
      "model-9 with testAUC = 0.792\n",
      "model-10 with testAUC = 0.792\n",
      "model-11 with testAUC = 0.783\n",
      "model-12 with testAUC = 0.781\n",
      "model-13 with testAUC = 0.781\n",
      "model-14 with testAUC = 0.783\n",
      "model-15 with testAUC = 0.782\n",
      "model-16 with testAUC = 0.791\n",
      "model-17 with testAUC = 0.797\n",
      "best model: model-17 with test AUC 0.797\n"
     ]
    }
   ],
   "source": [
    "bestModelIdx = -1\n",
    "bestAUC = 0.\n",
    "for idx in range(18):\n",
    "    if not checkCompatibility(idx, 0.1):\n",
    "        continue\n",
    "    \n",
    "    testAUC = getAUC(idx, \"test\")\n",
    "    print(f\"model-{idx} with testAUC = {testAUC:.3f}\")\n",
    "    if bestAUC < testAUC:\n",
    "        bestModelIdx = idx\n",
    "        bestAUC = testAUC\n",
    "print(f\"best model: model-{bestModelIdx} with test AUC {bestAUC:.3f}\")"
   ]
  },
  {
   "cell_type": "code",
   "execution_count": null,
   "metadata": {},
   "outputs": [],
   "source": []
  }
 ],
 "metadata": {
  "kernelspec": {
   "display_name": "torch",
   "language": "python",
   "name": "python3"
  },
  "language_info": {
   "codemirror_mode": {
    "name": "ipython",
    "version": 3
   },
   "file_extension": ".py",
   "mimetype": "text/x-python",
   "name": "python",
   "nbconvert_exporter": "python",
   "pygments_lexer": "ipython3",
   "version": "3.10.6 | packaged by conda-forge | (main, Aug 22 2022, 20:35:26) [GCC 10.4.0]"
  },
  "orig_nbformat": 4,
  "vscode": {
   "interpreter": {
    "hash": "52271d38ade95bb6a13d6b9f62707b1e1d13e0b0d12317a3cb0ffc117384cb38"
   }
  }
 },
 "nbformat": 4,
 "nbformat_minor": 2
}
