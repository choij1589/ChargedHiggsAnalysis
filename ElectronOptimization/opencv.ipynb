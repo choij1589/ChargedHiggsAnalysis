{
 "cells": [
  {
   "cell_type": "code",
   "execution_count": 1,
   "metadata": {},
   "outputs": [],
   "source": [
    "import cv2\n",
    "import os\n",
    "from IPython.display import Video, HTML"
   ]
  },
  {
   "cell_type": "code",
   "execution_count": 18,
   "metadata": {},
   "outputs": [],
   "source": [
    "ERA = \"2016postVFP\"\n",
    "REGION = \"EE\""
   ]
  },
  {
   "cell_type": "code",
   "execution_count": 16,
   "metadata": {},
   "outputs": [
    {
     "name": "stdout",
     "output_type": "stream",
     "text": [
      "['fakerate.EB1.0p9.png', 'fakerate.EB1.0p91.png', 'fakerate.EB1.0p92.png', 'fakerate.EB1.0p93.png', 'fakerate.EB1.0p94.png', 'fakerate.EB1.0p95.png', 'fakerate.EB1.0p96.png', 'fakerate.EB1.0p97.png', 'fakerate.EB1.0p98.png', 'fakerate.EB1.0p99.png']\n"
     ]
    }
   ],
   "source": [
    "image_folder = f\"results/{ERA}/plots\"\n",
    "video_name = f\"results/{ERA}/videos/{REGION}.mp4\"\n",
    "os.makedirs(os.path.dirname(video_name), exist_ok=True)\n",
    "\n",
    "images = [img for img in os.listdir(image_folder) if img.startswith(f'fakerate.{REGION}') and img.endswith(\".png\")]\n",
    "images.sort()\n",
    "print(images)\n",
    "\n",
    "frame = cv2.imread(os.path.join(image_folder, images[0]))\n",
    "height, width, layers = frame.shape\n",
    "video = cv2.VideoWriter(video_name, cv2.VideoWriter_fourcc(*'mp4v'), 0.1, (width, height))\n",
    "\n",
    "for image in images:\n",
    "    video.write(cv2.imread(os.path.join(image_folder, image)))\n",
    "video.release()"
   ]
  },
  {
   "cell_type": "code",
   "execution_count": null,
   "metadata": {},
   "outputs": [],
   "source": []
  }
 ],
 "metadata": {
  "kernelspec": {
   "display_name": "pyg",
   "language": "python",
   "name": "python3"
  },
  "language_info": {
   "codemirror_mode": {
    "name": "ipython",
    "version": 3
   },
   "file_extension": ".py",
   "mimetype": "text/x-python",
   "name": "python",
   "nbconvert_exporter": "python",
   "pygments_lexer": "ipython3",
   "version": "3.11.6"
  }
 },
 "nbformat": 4,
 "nbformat_minor": 2
}
