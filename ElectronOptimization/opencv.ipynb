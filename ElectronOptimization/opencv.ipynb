{
 "cells": [
  {
   "cell_type": "code",
   "execution_count": 2,
   "metadata": {},
   "outputs": [],
   "source": [
    "import cv2\n",
    "import os\n",
    "from IPython.display import Video, HTML"
   ]
  },
  {
   "cell_type": "code",
   "execution_count": 29,
   "metadata": {},
   "outputs": [],
   "source": [
    "ERA = \"2018\"\n",
    "REGION = \"EE\""
   ]
  },
  {
   "cell_type": "code",
   "execution_count": 30,
   "metadata": {},
   "outputs": [
    {
     "name": "stdout",
     "output_type": "stream",
     "text": [
      "['fakerate.EE.0p5.png', 'fakerate.EE.0p51.png', 'fakerate.EE.0p52.png', 'fakerate.EE.0p53.png', 'fakerate.EE.0p54.png', 'fakerate.EE.0p55.png', 'fakerate.EE.0p56.png', 'fakerate.EE.0p57.png', 'fakerate.EE.0p58.png', 'fakerate.EE.0p59.png', 'fakerate.EE.0p6.png', 'fakerate.EE.0p61.png', 'fakerate.EE.0p62.png', 'fakerate.EE.0p63.png', 'fakerate.EE.0p64.png', 'fakerate.EE.0p65.png', 'fakerate.EE.0p66.png', 'fakerate.EE.0p67.png', 'fakerate.EE.0p68.png', 'fakerate.EE.0p69.png', 'fakerate.EE.0p7.png', 'fakerate.EE.0p71.png', 'fakerate.EE.0p72.png', 'fakerate.EE.0p73.png', 'fakerate.EE.0p74.png', 'fakerate.EE.0p75.png', 'fakerate.EE.0p76.png', 'fakerate.EE.0p77.png', 'fakerate.EE.0p78.png', 'fakerate.EE.0p79.png', 'fakerate.EE.0p8.png', 'fakerate.EE.0p81.png', 'fakerate.EE.0p82.png', 'fakerate.EE.0p83.png', 'fakerate.EE.0p84.png']\n"
     ]
    }
   ],
   "source": [
    "image_folder = f\"results/{ERA}/plots\"\n",
    "video_name = f\"results/{ERA}/videos/{REGION}.mp4\"\n",
    "os.makedirs(os.path.dirname(video_name), exist_ok=True)\n",
    "\n",
    "images = [img for img in os.listdir(image_folder) if img.startswith(f'fakerate.{REGION}') and img.endswith(\".png\")]\n",
    "images.sort()\n",
    "print(images)\n",
    "\n",
    "frame = cv2.imread(os.path.join(image_folder, images[0]))\n",
    "height, width, layers = frame.shape\n",
    "video = cv2.VideoWriter(video_name, cv2.VideoWriter_fourcc(*'mp4v'), 3, (width, height))\n",
    "\n",
    "for image in images:\n",
    "    video.write(cv2.imread(os.path.join(image_folder, image)))\n",
    "video.release()"
   ]
  },
  {
   "cell_type": "code",
   "execution_count": null,
   "metadata": {},
   "outputs": [],
   "source": []
  }
 ],
 "metadata": {
  "kernelspec": {
   "display_name": "pyg",
   "language": "python",
   "name": "python3"
  },
  "language_info": {
   "codemirror_mode": {
    "name": "ipython",
    "version": 3
   },
   "file_extension": ".py",
   "mimetype": "text/x-python",
   "name": "python",
   "nbconvert_exporter": "python",
   "pygments_lexer": "ipython3",
   "version": "3.11.6"
  }
 },
 "nbformat": 4,
 "nbformat_minor": 2
}
