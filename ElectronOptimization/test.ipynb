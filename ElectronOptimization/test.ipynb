{
 "cells": [
  {
   "cell_type": "code",
   "execution_count": 1,
   "metadata": {},
   "outputs": [
    {
     "name": "stdout",
     "output_type": "stream",
     "text": [
      "Welcome to JupyROOT 6.28/04\n"
     ]
    }
   ],
   "source": [
    "import ROOT"
   ]
  },
  {
   "cell_type": "code",
   "execution_count": 2,
   "metadata": {},
   "outputs": [],
   "source": [
    "ERA = \"2017\"\n",
    "REGION = \"EB1\""
   ]
  },
  {
   "cell_type": "code",
   "execution_count": 3,
   "metadata": {},
   "outputs": [],
   "source": [
    "class Electron:\n",
    "    def __init__(self):\n",
    "        self.pt = -999.\n",
    "        self.scEta = -999.\n",
    "        self.mvaNoIso = -999.\n",
    "        self.miniRelIso = -999.\n",
    "        self.sip3d = -999\n",
    "        self.deltaR = -999.\n",
    "        self.passMVANoIsoWP90 = False\n",
    "        self.passMVANoIsoWPLoose = False\n",
    "        self.nearestJetFlavour = -999\n",
    "        self.genWeight = -999.\n",
    "    \n",
    "    def setPt(self, pt):\n",
    "        self.pt = pt\n",
    "    \n",
    "    def setPtCorr(self):\n",
    "        self.ptCorr = self.pt*(1.0 + max(0., self.miniRelIso-0.1))\n",
    "        \n",
    "    def setScEta(self, scEta):\n",
    "        self.scEta = scEta\n",
    "        \n",
    "    def setMVANoIso(self, mvaNoIso):\n",
    "        self.mvaNoIso = mvaNoIso\n",
    "    \n",
    "    def setMiniRelIso(self, miniRelIso):\n",
    "        self.miniRelIso = miniRelIso\n",
    "    \n",
    "    def setSIP3D(self, sip3d):\n",
    "        self.sip3d = sip3d\n",
    "        \n",
    "    def setDeltaR(self, deltaR):\n",
    "        self.deltaR = deltaR\n",
    "        \n",
    "    def setID(self, passMVANoIsoWP90, passMVANoIsoWPLoose):\n",
    "        self.passMVANoIsoWP90 = passMVANoIsoWP90\n",
    "        self.passMVANoIsoWPLoose = passMVANoIsoWPLoose\n",
    "        \n",
    "    def setNearestJetFlavour(self, nearestJetFlavour):\n",
    "        self.nearestJetFlavour = nearestJetFlavour\n",
    "        \n",
    "    # Only required HcToWA Veto ID while skimming\n",
    "    def passLooseID(self):\n",
    "        if not (self.mvaNoIso > 0.75 or self.passMVANoIsoWP90): return False\n",
    "        if not self.miniRelIso < 0.6: return False\n",
    "        if not self.sip3d < 6: return False\n",
    "        return True\n",
    "        \n",
    "    def passTightID(self):\n",
    "        if not self.passMVANoIsoWP90: return False\n",
    "        if not self.miniRelIso < 0.1: return False\n",
    "        if not self.sip3d < 4: return False\n",
    "        return True"
   ]
  },
  {
   "cell_type": "code",
   "execution_count": 4,
   "metadata": {},
   "outputs": [],
   "source": [
    "def is_valid_region(eta, region):\n",
    "    if region == \"EB1\":\n",
    "        return abs(eta) < 0.8\n",
    "    elif region == \"EB2\":\n",
    "        return abs(eta) > 0.8 and abs(eta) < 1.479\n",
    "    elif region == \"EE\":\n",
    "        return abs(eta) > 1.479 and abs(eta) < 2.5\n",
    "    else:\n",
    "        raise ValueError(f\"Region {region} is not valid\")    "
   ]
  },
  {
   "cell_type": "code",
   "execution_count": 27,
   "metadata": {},
   "outputs": [],
   "source": [
    "def draw_canvas(h_ljet, h_cjet, h_bjet, setLogy=False):\n",
    "    h_ljet.SetStats(0); h_ljet.Scale(1./h_ljet.Integral())\n",
    "    h_cjet.SetStats(0); h_cjet.Scale(1./h_cjet.Integral())\n",
    "    h_bjet.SetStats(0); h_bjet.Scale(1./h_bjet.Integral())\n",
    "\n",
    "    h_ljet.SetLineColor(ROOT.kBlack); h_ljet.SetLineWidth(2)\n",
    "    h_cjet.SetLineColor(ROOT.kGreen); h_cjet.SetLineWidth(2)\n",
    "    h_bjet.SetLineColor(ROOT.kBlue); h_bjet.SetLineWidth(2)\n",
    "\n",
    "    h_ljet.GetYaxis().SetRangeUser(0., 1.)\n",
    "    if setLogy:\n",
    "        h_ljet.GetYaxis().SetRangeUser(1e-5, 1.)\n",
    "        \n",
    "    legend = ROOT.TLegend(0.7, 0.7, 0.9, 0.9)\n",
    "    legend.AddEntry(h_ljet, \"l-jet\", \"lep\")\n",
    "    legend.AddEntry(h_cjet, \"c-jet\", \"lep\")\n",
    "    legend.AddEntry(h_bjet, \"b-jet\", \"lep\")\n",
    "    \n",
    "    c = ROOT.TCanvas(\"c\", \"\", 800, 900)\n",
    "    c.SetLogy(setLogy)\n",
    "    c.cd()\n",
    "    h_ljet.Draw()\n",
    "    h_cjet.Draw(\"same\")\n",
    "    h_bjet.Draw(\"same\")\n",
    "    legend.Draw(\"same\")\n",
    "    c.Draw()"
   ]
  },
  {
   "cell_type": "code",
   "execution_count": 11,
   "metadata": {},
   "outputs": [
    {
     "name": "stderr",
     "output_type": "stream",
     "text": [
      "Error in <THashList::Delete>: A list is accessing an object (0x30979f0f0) already deleted (list name = THashList)\n"
     ]
    }
   ],
   "source": [
    "# Draw miniRelIso for electrons with pt > 10 GeV and pt < 40 GeV\n",
    "h_ljet_mIso = ROOT.TH1F(\"miniRelIso_ljet\", \"\", 70, 0, 0.7); h_ljet_mIso.SetDirectory(0)\n",
    "h_cjet_mIso = ROOT.TH1F(\"miniRelIso_cjet\", \"\", 70, 0, 0.7); h_cjet_mIso.SetDirectory(0)\n",
    "h_bjet_mIso = ROOT.TH1F(\"miniRelIso_bjet\", \"\", 70, 0, 0.7); h_bjet_mIso.SetDirectory(0)\n",
    "\n",
    "# mvaNoIso\n",
    "h_ljet_mva = ROOT.TH1F(\"mvaNoIso_ljet\", \"\", 200, -1, 1); h_ljet_mva.SetDirectory(0)\n",
    "h_cjet_mva = ROOT.TH1F(\"mvaNoIso_cjet\", \"\", 200, -1, 1); h_cjet_mva.SetDirectory(0)\n",
    "h_bjet_mva = ROOT.TH1F(\"mvaNoIso_bjet\", \"\", 200, -1, 1); h_bjet_mva.SetDirectory(0)\n",
    "\n",
    "# SIP3D\n",
    "h_ljet_sip3d = ROOT.TH1F(\"mvaNoIso_ljet\", \"\", 100, 0, 10); h_ljet_sip3d.SetDirectory(0)\n",
    "h_cjet_sip3d = ROOT.TH1F(\"mvaNoIso_cjet\", \"\", 100, 0, 10); h_cjet_sip3d.SetDirectory(0)\n",
    "h_bjet_sip3d = ROOT.TH1F(\"mvaNoIso_bjet\", \"\", 100, 0, 10); h_bjet_sip3d.SetDirectory(0)\n",
    "\n",
    "f = ROOT.TFile.Open(f\"Skimmed/{ERA}/ElectronOptimization_TTLL_powheg.root\")\n",
    "for evt in f.Events:\n",
    "    electrons = []\n",
    "    genWeight = evt.genWeight\n",
    "    for i in range(evt.nElectrons):\n",
    "        el = Electron()\n",
    "        el.setPt(evt.Pt[i])\n",
    "        el.setScEta(evt.scEta[i])\n",
    "        el.setMVANoIso(evt.MVANoIso[i])\n",
    "        el.setMiniRelIso(evt.MiniRelIso[i])\n",
    "        el.setSIP3D(evt.SIP3D[i])\n",
    "        el.setDeltaR(evt.DeltaR[i])\n",
    "        el.setID(evt.PassMVANoIsoWP90[i], evt.PassMVANoIsoWPLoose[i])\n",
    "        el.setNearestJetFlavour(evt.NearestJetFlavour[i])\n",
    "        el.setPtCorr()\n",
    "        electrons.append(el)\n",
    "    \n",
    "    for el in electrons:\n",
    "        if not is_valid_region(el.scEta, REGION): continue\n",
    "        if not el.deltaR < 0.4: continue\n",
    "        if not (el.ptCorr > 10. and el.ptCorr < 40.): continue\n",
    "        \n",
    "        if el.nearestJetFlavour == 5:\n",
    "            h_bjet_mIso.Fill(el.miniRelIso, genWeight)\n",
    "            h_bjet_mva.Fill(el.mvaNoIso, genWeight)\n",
    "            h_bjet_sip3d.Fill(el.sip3d, genWeight)\n",
    "        elif el.nearestJetFlavour == 4:\n",
    "            h_cjet_mIso.Fill(el.miniRelIso, genWeight)\n",
    "            h_cjet_mva.Fill(el.mvaNoIso, genWeight)\n",
    "            h_cjet_sip3d.Fill(el.sip3d, genWeight)\n",
    "        elif el.nearestJetFlavour == 1:\n",
    "            h_ljet_mIso.Fill(el.miniRelIso, genWeight)\n",
    "            h_ljet_mva.Fill(el.mvaNoIso, genWeight)\n",
    "            h_ljet_sip3d.Fill(el.sip3d, genWeight)\n",
    "        else:\n",
    "            continue\n",
    "f.Close()"
   ]
  },
  {
   "cell_type": "code",
   "execution_count": 28,
   "metadata": {},
   "outputs": [
    {
     "name": "stderr",
     "output_type": "stream",
     "text": [
      "Warning in <TCanvas::Constructor>: Deleting canvas with same name: c\n"
     ]
    },
    {
     "data": {
      "image/png": "[encoded data removed]",
      "text/plain": [
       "<IPython.core.display.Image object>"
      ]
     },
     "metadata": {},
     "output_type": "display_data"
    }
   ],
   "source": [
    "draw_canvas(h_ljet_mva, h_cjet_mva, h_bjet_mva, setLogy=True)"
   ]
  },
  {
   "cell_type": "code",
   "execution_count": 29,
   "metadata": {},
   "outputs": [
    {
     "name": "stderr",
     "output_type": "stream",
     "text": [
      "Warning in <TCanvas::Constructor>: Deleting canvas with same name: c\n"
     ]
    },
    {
     "data": {
      "image/png": "[encoded data removed]",
      "text/plain": [
       "<IPython.core.display.Image object>"
      ]
     },
     "metadata": {},
     "output_type": "display_data"
    }
   ],
   "source": [
    "draw_canvas(h_ljet_mIso, h_cjet_mIso, h_bjet_mIso, setLogy=True)"
   ]
  },
  {
   "cell_type": "code",
   "execution_count": 30,
   "metadata": {},
   "outputs": [
    {
     "name": "stderr",
     "output_type": "stream",
     "text": [
      "Warning in <TCanvas::Constructor>: Deleting canvas with same name: c\n"
     ]
    },
    {
     "data": {
      "image/png": "[encoded data removed]",
      "text/plain": [
       "<IPython.core.display.Image object>"
      ]
     },
     "metadata": {},
     "output_type": "display_data"
    }
   ],
   "source": [
    "draw_canvas(h_ljet_sip3d, h_cjet_sip3d, h_bjet_sip3d, setLogy=True)"
   ]
  },
  {
   "cell_type": "code",
   "execution_count": 33,
   "metadata": {},
   "outputs": [],
   "source": [
    "h_ljet_loose = ROOT.TH1F(\"ljet_loose\", \"\", 28, 10, 150); h_ljet_loose.SetDirectory(0)\n",
    "h_cjet_loose = ROOT.TH1F(\"cjet_loose\", \"\", 28, 10, 150); h_cjet_loose.SetDirectory(0)\n",
    "h_bjet_loose = ROOT.TH1F(\"bjet_loose\", \"\", 28, 10, 150); h_bjet_loose.SetDirectory(0)\n",
    "\n",
    "h_ljet_tight = ROOT.TH1F(\"ljet_tight\", \"\", 28, 10, 150); h_ljet_tight.SetDirectory(0)\n",
    "h_cjet_tight = ROOT.TH1F(\"cjet_tight\", \"\", 28, 10, 150); h_cjet_tight.SetDirectory(0)\n",
    "h_bjet_tight = ROOT.TH1F(\"bjet_tight\", \"\", 28, 10, 150); h_bjet_tight.SetDirectory(0)\n",
    "\n",
    "f = ROOT.TFile.Open(f\"Skimmed/{ERA}/ElectronOptimization_TTLL_powheg.root\")\n",
    "for evt in f.Events:\n",
    "    electrons = []\n",
    "    genWeight = evt.genWeight\n",
    "    for i in range(evt.nElectrons):\n",
    "        el = Electron()\n",
    "        el.setPt(evt.Pt[i])\n",
    "        el.setScEta(evt.scEta[i])\n",
    "        el.setMVANoIso(evt.MVANoIso[i])\n",
    "        el.setMiniRelIso(evt.MiniRelIso[i])\n",
    "        el.setSIP3D(evt.SIP3D[i])\n",
    "        el.setDeltaR(evt.DeltaR[i])\n",
    "        el.setID(evt.PassMVANoIsoWP90[i], evt.PassMVANoIsoWPLoose[i])\n",
    "        el.setNearestJetFlavour(evt.NearestJetFlavour[i])\n",
    "        el.setPtCorr()\n",
    "        electrons.append(el)\n",
    "    \n",
    "    for el in electrons:\n",
    "        if el.deltaR > 0.4: continue\n",
    "        if not is_valid_region(el.scEta, REGION): continue\n",
    "        if not el.passLooseID(): continue\n",
    "        \n",
    "        if el.nearestJetFlavour == 1:\n",
    "            h_ljet_loose.Fill(el.ptCorr, genWeight)\n",
    "            if el.passTightID(): h_ljet_tight.Fill(el.ptCorr, genWeight)\n",
    "        elif el.nearestJetFlavour == 4:\n",
    "            h_cjet_loose.Fill(el.ptCorr, genWeight)\n",
    "            if el.passTightID(): h_cjet_tight.Fill(el.ptCorr, genWeight)\n",
    "        elif el.nearestJetFlavour == 5:\n",
    "            h_bjet_loose.Fill(el.ptCorr, genWeight)\n",
    "            if el.passTightID(): h_bjet_tight.Fill(el.ptCorr, genWeight)\n",
    "        else:\n",
    "            continue\n",
    "f.Close()"
   ]
  },
  {
   "cell_type": "code",
   "execution_count": 34,
   "metadata": {},
   "outputs": [],
   "source": [
    "# calculate fake rate\n",
    "fake_ljet = h_ljet_tight.Clone(\"fake_ljet\"); fake_ljet.Divide(h_ljet_loose)\n",
    "fake_cjet = h_cjet_tight.Clone(\"fake_cjet\"); fake_cjet.Divide(h_cjet_loose)\n",
    "fake_bjet = h_bjet_tight.Clone(\"fake_bjet\"); fake_bjet.Divide(h_bjet_loose)\n",
    "\n",
    "fake_ljet.SetStats(0)\n",
    "fake_ljet.SetLineColor(ROOT.kBlack)\n",
    "fake_ljet.SetLineWidth(2)\n",
    "fake_ljet.GetXaxis().SetRangeUser(10., 100.)\n",
    "fake_ljet.GetYaxis().SetRangeUser(0.01, 1.)\n",
    "\n",
    "fake_cjet.SetStats(0)\n",
    "fake_cjet.SetLineColor(ROOT.kGreen)\n",
    "fake_cjet.SetLineWidth(2)\n",
    "\n",
    "fake_bjet.SetStats(0)\n",
    "fake_bjet.SetLineColor(ROOT.kBlue)\n",
    "fake_bjet.SetLineWidth(2)"
   ]
  },
  {
   "cell_type": "code",
   "execution_count": 35,
   "metadata": {},
   "outputs": [
    {
     "name": "stderr",
     "output_type": "stream",
     "text": [
      "Warning in <TCanvas::Constructor>: Deleting canvas with same name: cvs\n"
     ]
    },
    {
     "data": {
      "image/png": "[encoded data removed]",
      "text/plain": [
       "<IPython.core.display.Image object>"
      ]
     },
     "metadata": {},
     "output_type": "display_data"
    }
   ],
   "source": [
    "c = ROOT.TCanvas(\"cvs\", \"\", 800, 900)\n",
    "#c.SetLogy()\n",
    "c.cd()\n",
    "fake_ljet.Draw()\n",
    "#fake_cjet.Draw(\"same\")\n",
    "fake_bjet.Draw(\"same\")\n",
    "c.Draw()"
   ]
  },
  {
   "cell_type": "code",
   "execution_count": null,
   "metadata": {},
   "outputs": [],
   "source": []
  }
 ],
 "metadata": {
  "kernelspec": {
   "display_name": "pyg",
   "language": "python",
   "name": "python3"
  },
  "language_info": {
   "codemirror_mode": {
    "name": "ipython",
    "version": 3
   },
   "file_extension": ".py",
   "mimetype": "text/x-python",
   "name": "python",
   "nbconvert_exporter": "python",
   "pygments_lexer": "ipython3",
   "version": "3.11.6"
  }
 },
 "nbformat": 4,
 "nbformat_minor": 2
}
