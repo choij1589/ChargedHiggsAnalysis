{
 "cells": [
  {
   "cell_type": "code",
   "execution_count": 1,
   "metadata": {},
   "outputs": [
    {
     "name": "stdout",
     "output_type": "stream",
     "text": [
      "Welcome to JupyROOT 6.30/02\n"
     ]
    }
   ],
   "source": [
    "import ROOT"
   ]
  },
  {
   "cell_type": "code",
   "execution_count": 2,
   "metadata": {},
   "outputs": [],
   "source": [
    "ERA = \"2017\"\n",
    "REGION = \"EB1\""
   ]
  },
  {
   "cell_type": "code",
   "execution_count": 3,
   "metadata": {},
   "outputs": [],
   "source": [
    "class Electron:\n",
    "    def __init__(self):\n",
    "        self.pt = -999.\n",
    "        self.scEta = -999.\n",
    "        self.mvaNoIso = -999.\n",
    "        self.miniRelIso = -999.\n",
    "        self.sip3d = -999\n",
    "        self.deltaR = -999.\n",
    "        self.passMVANoIsoWP90 = False\n",
    "        self.passMVANoIsoWPLoose = False\n",
    "        self.nearestJetFlavour = -999\n",
    "        self.genWeight = -999.\n",
    "    \n",
    "    def setPt(self, pt):\n",
    "        self.pt = pt\n",
    "    \n",
    "    def setPtCorr(self):\n",
    "        self.ptCorr = self.pt*(1.0 + max(0., self.miniRelIso-0.1))\n",
    "        \n",
    "    def setScEta(self, scEta):\n",
    "        self.scEta = scEta\n",
    "        \n",
    "    def setMVANoIso(self, mvaNoIso):\n",
    "        self.mvaNoIso = mvaNoIso\n",
    "    \n",
    "    def setMiniRelIso(self, miniRelIso):\n",
    "        self.miniRelIso = miniRelIso\n",
    "    \n",
    "    def setSIP3D(self, sip3d):\n",
    "        self.sip3d = sip3d\n",
    "        \n",
    "    def setDeltaR(self, deltaR):\n",
    "        self.deltaR = deltaR\n",
    "        \n",
    "    def setID(self, passMVANoIsoWP90, passMVANoIsoWPLoose):\n",
    "        self.passMVANoIsoWP90 = passMVANoIsoWP90\n",
    "        self.passMVANoIsoWPLoose = passMVANoIsoWPLoose\n",
    "        \n",
    "    def setNearestJetFlavour(self, nearestJetFlavour):\n",
    "        self.nearestJetFlavour = nearestJetFlavour"
   ]
  },
  {
   "cell_type": "code",
   "execution_count": 4,
   "metadata": {},
   "outputs": [],
   "source": [
    "def is_valid_region(eta, region):\n",
    "    if region == \"EB1\":\n",
    "        return abs(eta) < 0.8\n",
    "    elif region == \"EB2\":\n",
    "        return abs(eta) > 0.8 and abs(eta) < 1.479\n",
    "    elif region == \"EE\":\n",
    "        return abs(eta) > 1.479 and abs(eta) < 2.5\n",
    "    else:\n",
    "        raise ValueError(f\"Region {region} is not valid\")    "
   ]
  },
  {
   "cell_type": "code",
   "execution_count": 8,
   "metadata": {},
   "outputs": [],
   "source": [
    "# Check distributions of variables first\n",
    "# MVANoIso\n",
    "h_ljet_mvaNoIso = ROOT.TH1F(\"h_ljet_mvaNoIso\", \"h_ljet_mvaNoIso\", 200, -1, 1); h_ljet_mvaNoIso.SetDirectory(0)\n",
    "h_cjet_mvaNoIso = ROOT.TH1F(\"h_cjet_mvaNoIso\", \"h_cjet_mvaNoIso\", 200, -1, 1); h_cjet_mvaNoIso.SetDirectory(0)\n",
    "h_bjet_mvaNoIso = ROOT.TH1F(\"h_bjet_mvaNoIso\", \"h_bjet_mvaNoIso\", 200, -1, 1); h_bjet_mvaNoIso.SetDirectory(0)"
   ]
  },
  {
   "cell_type": "code",
   "execution_count": 9,
   "metadata": {},
   "outputs": [],
   "source": [
    "f = ROOT.TFile.Open(f\"Skimmed/{ERA}/ElectronOptimization_TTLL_powheg.root\")\n",
    "for evt in f.Events:\n",
    "    electrons = []\n",
    "    genWeight = evt.genWeight\n",
    "    for i in range(evt.nElectrons):\n",
    "        el = Electron()\n",
    "        el.setPtCorr(evt.ptCorr[i])\n",
    "        el.setScEta(evt.scEta[i])\n",
    "        el.setMVANoIso(evt.MVANoIso[i])\n",
    "        el.setMiniRelIso(evt.MiniRelIso[i])\n",
    "        el.setSIP3D(evt.SIP3D[i])\n",
    "        el.setDeltaR(evt.DeltaR[i])\n",
    "        el.setID(evt.PassMVANoIsoWP90[i], evt.PassMVANoIsoWPLoose[i])\n",
    "        el.setNearestJetFlavour(evt.NearestJetFlavour[i])\n",
    "        electrons.append(el)\n",
    "    \n",
    "    for el in electrons:\n",
    "        if el.deltaR > 0.4: continue\n",
    "        if el.miniRelIso > 0.4: continue\n",
    "        if el.sip3d > 4: continue\n",
    "        if not is_valid_region(el.scEta, REGION): continue\n",
    "        \n",
    "        if el.nearestJetFlavour == 1:\n",
    "            h_ljet_mvaNoIso.Fill(el.mvaNoIso, genWeight)\n",
    "        elif el.nearestJetFlavour == 4:\n",
    "            h_cjet_mvaNoIso.Fill(el.mvaNoIso, genWeight)\n",
    "        elif el.nearestJetFlavour == 5:\n",
    "            h_bjet_mvaNoIso.Fill(el.mvaNoIso, genWeight)\n",
    "        else:\n",
    "            continue\n",
    "f.Close()"
   ]
  },
  {
   "cell_type": "code",
   "execution_count": 10,
   "metadata": {},
   "outputs": [],
   "source": [
    "h_ljet_mvaNoIso.SetStats(0)\n",
    "h_cjet_mvaNoIso.SetStats(0)\n",
    "h_bjet_mvaNoIso.SetStats(0)\n",
    "\n",
    "h_ljet_mvaNoIso.Scale(1./h_ljet_mvaNoIso.Integral())\n",
    "h_cjet_mvaNoIso.Scale(1./h_cjet_mvaNoIso.Integral())\n",
    "h_bjet_mvaNoIso.Scale(1./h_bjet_mvaNoIso.Integral())\n",
    "\n",
    "h_ljet_mvaNoIso.SetLineColor(ROOT.kBlack); h_ljet_mvaNoIso.SetLineWidth(2)\n",
    "h_cjet_mvaNoIso.SetLineColor(ROOT.kGreen); h_ljet_mvaNoIso.SetLineWidth(2)\n",
    "h_bjet_mvaNoIso.SetLineColor(ROOT.kBlue); h_bjet_mvaNoIso.SetLineWidth(2)"
   ]
  },
  {
   "cell_type": "code",
   "execution_count": 11,
   "metadata": {},
   "outputs": [
    {
     "data": {
      "image/png": "[encoded data removed]",
      "text/plain": [
       "<IPython.core.display.Image object>"
      ]
     },
     "metadata": {},
     "output_type": "display_data"
    }
   ],
   "source": [
    "c = ROOT.TCanvas()\n",
    "c.SetLogy()\n",
    "c.cd()\n",
    "h_bjet_mvaNoIso.Draw(\"hist\")\n",
    "h_cjet_mvaNoIso.Draw(\"hist&same\")\n",
    "h_ljet_mvaNoIso.Draw(\"hist&same\")\n",
    "c.Draw()"
   ]
  },
  {
   "cell_type": "code",
   "execution_count": 14,
   "metadata": {},
   "outputs": [],
   "source": [
    "h_ljet_miniRelIso = ROOT.TH1F(\"h_ljet_miniRelIso\", \"h_ljet\", 100, 0, 1); h_ljet_miniRelIso.SetDirectory(0)\n",
    "h_cjet_miniRelIso = ROOT.TH1F(\"h_cjet_miniRelIso\", \"h_cjet\", 100, 0, 1); h_cjet_miniRelIso.SetDirectory(0)\n",
    "h_bjet_miniRelIso = ROOT.TH1F(\"h_bjet_miniRelIso\", \"h_bjet\", 100, 0, 1); h_bjet_miniRelIso.SetDirectory(0)"
   ]
  },
  {
   "cell_type": "code",
   "execution_count": 15,
   "metadata": {},
   "outputs": [],
   "source": [
    "f = ROOT.TFile.Open(f\"Skimmed/{ERA}/ElectronOptimization_TTLL_powheg.root\")\n",
    "for evt in f.Events:\n",
    "    electrons = []\n",
    "    genWeight = evt.genWeight\n",
    "    for i in range(evt.nElectrons):\n",
    "        el = Electron()\n",
    "        el.setPtCorr(evt.ptCorr[i])\n",
    "        el.setScEta(evt.scEta[i])\n",
    "        el.setMVANoIso(evt.MVANoIso[i])\n",
    "        el.setMiniRelIso(evt.MiniRelIso[i])\n",
    "        el.setSIP3D(evt.SIP3D[i])\n",
    "        el.setDeltaR(evt.DeltaR[i])\n",
    "        el.setID(evt.PassMVANoIsoWP90[i], evt.PassMVANoIsoWPLoose[i])\n",
    "        el.setNearestJetFlavour(evt.NearestJetFlavour[i])\n",
    "        electrons.append(el)\n",
    "    \n",
    "    for el in electrons:\n",
    "        if el.deltaR > 0.4: continue\n",
    "        if el.sip3d > 4: continue\n",
    "        if el.mvaNoIso < -0.2: continue\n",
    "        if not is_valid_region(el.scEta, REGION): continue\n",
    "        \n",
    "        if el.nearestJetFlavour == 1:\n",
    "            h_ljet_miniRelIso.Fill(el.miniRelIso, genWeight)\n",
    "        elif el.nearestJetFlavour == 4:\n",
    "            h_cjet_miniRelIso.Fill(el.miniRelIso, genWeight)\n",
    "        elif el.nearestJetFlavour == 5:\n",
    "            h_bjet_miniRelIso.Fill(el.miniRelIso, genWeight)\n",
    "        else:\n",
    "            continue\n",
    "f.Close()"
   ]
  },
  {
   "cell_type": "code",
   "execution_count": 16,
   "metadata": {},
   "outputs": [],
   "source": [
    "h_ljet_miniRelIso.SetStats(0)\n",
    "h_cjet_miniRelIso.SetStats(0)\n",
    "h_bjet_miniRelIso.SetStats(0)\n",
    "\n",
    "h_ljet_miniRelIso.Scale(1./h_ljet_miniRelIso.Integral())\n",
    "h_cjet_miniRelIso.Scale(1./h_cjet_miniRelIso.Integral())\n",
    "h_bjet_miniRelIso.Scale(1./h_bjet_miniRelIso.Integral())\n",
    "\n",
    "h_ljet_miniRelIso.SetLineColor(ROOT.kBlack); h_ljet_miniRelIso.SetLineWidth(2)\n",
    "h_cjet_miniRelIso.SetLineColor(ROOT.kGreen); h_ljet_miniRelIso.SetLineWidth(2)\n",
    "h_bjet_miniRelIso.SetLineColor(ROOT.kBlue); h_bjet_miniRelIso.SetLineWidth(2)"
   ]
  },
  {
   "cell_type": "code",
   "execution_count": 17,
   "metadata": {},
   "outputs": [
    {
     "data": {
      "image/png": "[encoded data removed]",
      "text/plain": [
       "<IPython.core.display.Image object>"
      ]
     },
     "metadata": {},
     "output_type": "display_data"
    }
   ],
   "source": [
    "c = ROOT.TCanvas()\n",
    "#c.SetLogy()\n",
    "c.cd()\n",
    "h_bjet_miniRelIso.Draw(\"hist\")\n",
    "h_cjet_miniRelIso.Draw(\"hist&same\")\n",
    "h_ljet_miniRelIso.Draw(\"hist&same\")\n",
    "c.Draw()"
   ]
  },
  {
   "cell_type": "code",
   "execution_count": 18,
   "metadata": {},
   "outputs": [],
   "source": [
    "h_ljet_sip3d = ROOT.TH1F(\"h_ljet_sip3d\", \"h_ljet\", 80, 0, 8); h_ljet_sip3d.SetDirectory(0)\n",
    "h_cjet_sip3d = ROOT.TH1F(\"h_cjet_sip3d\", \"h_cjet\", 80, 0, 8); h_cjet_sip3d.SetDirectory(0)\n",
    "h_bjet_sip3d = ROOT.TH1F(\"h_bjet_sip3d\", \"h_bjet\", 80, 0, 8); h_bjet_sip3d.SetDirectory(0)"
   ]
  },
  {
   "cell_type": "code",
   "execution_count": 19,
   "metadata": {},
   "outputs": [],
   "source": [
    "f = ROOT.TFile.Open(f\"Skimmed/{ERA}/ElectronOptimization_TTLL_powheg.root\")\n",
    "for evt in f.Events:\n",
    "    electrons = []\n",
    "    genWeight = evt.genWeight\n",
    "    for i in range(evt.nElectrons):\n",
    "        el = Electron()\n",
    "        el.setPtCorr(evt.ptCorr[i])\n",
    "        el.setScEta(evt.scEta[i])\n",
    "        el.setMVANoIso(evt.MVANoIso[i])\n",
    "        el.setMiniRelIso(evt.MiniRelIso[i])\n",
    "        el.setSIP3D(evt.SIP3D[i])\n",
    "        el.setDeltaR(evt.DeltaR[i])\n",
    "        el.setID(evt.PassMVANoIsoWP90[i], evt.PassMVANoIsoWPLoose[i])\n",
    "        el.setNearestJetFlavour(evt.NearestJetFlavour[i])\n",
    "        electrons.append(el)\n",
    "    \n",
    "    for el in electrons:\n",
    "        if el.deltaR > 0.4: continue\n",
    "        if el.miniRelIso > 0.4: continue\n",
    "        if el.mvaNoIso < 0.9: continue\n",
    "        if not is_valid_region(el.scEta, REGION): continue\n",
    "        \n",
    "        if el.nearestJetFlavour == 1:\n",
    "            h_ljet_sip3d.Fill(el.sip3d, genWeight)\n",
    "        elif el.nearestJetFlavour == 4:\n",
    "            h_cjet_sip3d.Fill(el.sip3d, genWeight)\n",
    "        elif el.nearestJetFlavour == 5:\n",
    "            h_bjet_sip3d.Fill(el.sip3d, genWeight)\n",
    "        else:\n",
    "            continue\n",
    "f.Close()"
   ]
  },
  {
   "cell_type": "code",
   "execution_count": 20,
   "metadata": {},
   "outputs": [
    {
     "data": {
      "image/png": "[encoded data removed]",
      "text/plain": [
       "<IPython.core.display.Image object>"
      ]
     },
     "metadata": {},
     "output_type": "display_data"
    }
   ],
   "source": [
    "h_ljet_sip3d.SetStats(0)\n",
    "h_cjet_sip3d.SetStats(0)\n",
    "h_bjet_sip3d.SetStats(0)\n",
    "\n",
    "h_ljet_sip3d.Scale(1./h_ljet_sip3d.Integral())\n",
    "h_cjet_sip3d.Scale(1./h_cjet_sip3d.Integral())\n",
    "h_bjet_sip3d.Scale(1./h_bjet_sip3d.Integral())\n",
    "\n",
    "h_ljet_sip3d.SetLineColor(ROOT.kBlack); h_ljet_sip3d.SetLineWidth(2)\n",
    "h_cjet_sip3d.SetLineColor(ROOT.kGreen); h_ljet_sip3d.SetLineWidth(2)\n",
    "h_bjet_sip3d.SetLineColor(ROOT.kBlue); h_bjet_sip3d.SetLineWidth(2)\n",
    "\n",
    "c = ROOT.TCanvas()\n",
    "#c.SetLogy()\n",
    "c.cd()\n",
    "h_ljet_sip3d.Draw(\"hist\")\n",
    "h_cjet_sip3d.Draw(\"hist&same\")\n",
    "h_bjet_sip3d.Draw(\"hist&same\")\n",
    "c.Draw()"
   ]
  },
  {
   "cell_type": "code",
   "execution_count": 5,
   "metadata": {},
   "outputs": [],
   "source": [
    "MiniRelIsoLooseCut = 0.4\n",
    "MVANoIsoLooseCut = -0.2\n",
    "SIP3DCut = 4"
   ]
  },
  {
   "cell_type": "code",
   "execution_count": 47,
   "metadata": {},
   "outputs": [],
   "source": [
    "h_ljet_loose = ROOT.TH1F(\"ljet_loose\", \"\", 28, 10, 150); h_ljet_loose.SetDirectory(0)\n",
    "h_cjet_loose = ROOT.TH1F(\"cjet_loose\", \"\", 28, 10, 150); h_cjet_loose.SetDirectory(0)\n",
    "h_bjet_loose = ROOT.TH1F(\"bjet_loose\", \"\", 28, 10, 150); h_bjet_loose.SetDirectory(0)\n",
    "\n",
    "h_ljet_tight = ROOT.TH1F(\"ljet_tight\", \"\", 28, 10, 150); h_ljet_tight.SetDirectory(0)\n",
    "h_cjet_tight = ROOT.TH1F(\"cjet_tight\", \"\", 28, 10, 150); h_cjet_tight.SetDirectory(0)\n",
    "h_bjet_tight = ROOT.TH1F(\"bjet_tight\", \"\", 28, 10, 150); h_bjet_tight.SetDirectory(0)"
   ]
  },
  {
   "cell_type": "code",
   "execution_count": 49,
   "metadata": {},
   "outputs": [],
   "source": [
    "f = ROOT.TFile.Open(f\"Skimmed/{ERA}/ElectronOptimization_TTLL_powheg.root\")\n",
    "for evt in f.Events:\n",
    "    electrons = []\n",
    "    genWeight = evt.genWeight\n",
    "    for i in range(evt.nElectrons):\n",
    "        el = Electron()\n",
    "        el.setPt(evt.Pt[i])\n",
    "        el.setScEta(evt.scEta[i])\n",
    "        el.setMVANoIso(evt.MVANoIso[i])\n",
    "        el.setMiniRelIso(evt.MiniRelIso[i])\n",
    "        el.setSIP3D(evt.SIP3D[i])\n",
    "        el.setDeltaR(evt.DeltaR[i])\n",
    "        el.setID(evt.PassMVANoIsoWP90[i], evt.PassMVANoIsoWPLoose[i])\n",
    "        el.setNearestJetFlavour(evt.NearestJetFlavour[i])\n",
    "        el.setPtCorr()\n",
    "        electrons.append(el)\n",
    "    \n",
    "    for el in electrons:\n",
    "        if el.deltaR < 0.15 or el.deltaR > 0.4: continue\n",
    "        if not is_valid_region(el.scEta, REGION): continue\n",
    "        # Loose ID cut\n",
    "        if not (el.passMVANoIsoWPLoose or el.miniRelIso < 0.5): continue\n",
    "        if not el.sip3d < 4: continue\n",
    "        \n",
    "        if el.nearestJetFlavour == 1:\n",
    "            h_ljet_loose.Fill(el.ptCorr, genWeight)\n",
    "            if el.miniRelIso < 0.1 and el.passMVANoIsoWP90:\n",
    "                h_ljet_tight.Fill(el.ptCorr, genWeight)\n",
    "        elif el.nearestJetFlavour == 4:\n",
    "            h_cjet_loose.Fill(el.ptCorr, genWeight)\n",
    "            if el.miniRelIso < 0.1 and el.passMVANoIsoWP90:\n",
    "                h_cjet_tight.Fill(el.ptCorr, genWeight)\n",
    "        elif el.nearestJetFlavour == 5:\n",
    "            h_bjet_loose.Fill(el.ptCorr, genWeight)\n",
    "            if el.miniRelIso < 0.1 and el.passMVANoIsoWP90:\n",
    "                h_bjet_tight.Fill(el.ptCorr, genWeight)\n",
    "        else:\n",
    "            continue\n",
    "f.Close()"
   ]
  },
  {
   "cell_type": "code",
   "execution_count": 53,
   "metadata": {},
   "outputs": [
    {
     "data": {
      "text/plain": [
       "True"
      ]
     },
     "execution_count": 53,
     "metadata": {},
     "output_type": "execute_result"
    }
   ],
   "source": [
    "# calculate fake rate\n",
    "fake_ljet = h_ljet_tight.Clone(\"fake_ljet\")\n",
    "fake_ljet.Divide(h_ljet_loose)\n",
    "\n",
    "fake_cjet = h_cjet_tight.Clone(\"fake_cjet\")\n",
    "fake_cjet.Divide(h_cjet_loose)\n",
    "\n",
    "fake_bjet = h_bjet_tight.Clone(\"fake_bjet\")\n",
    "fake_bjet.Divide(h_bjet_loose)"
   ]
  },
  {
   "cell_type": "code",
   "execution_count": 54,
   "metadata": {},
   "outputs": [],
   "source": [
    "fake_ljet.SetStats(0)\n",
    "fake_ljet.SetLineColor(ROOT.kBlack)\n",
    "fake_ljet.SetLineWidth(2)\n",
    "fake_ljet.GetXaxis().SetRangeUser(10., 100.)\n",
    "fake_ljet.GetYaxis().SetRangeUser(0.01, 1.)\n",
    "\n",
    "fake_cjet.SetStats(0)\n",
    "fake_cjet.SetLineColor(ROOT.kGreen)\n",
    "fake_cjet.SetLineWidth(2)\n",
    "\n",
    "fake_bjet.SetStats(0)\n",
    "fake_bjet.SetLineColor(ROOT.kBlue)\n",
    "fake_bjet.SetLineWidth(2)"
   ]
  },
  {
   "cell_type": "code",
   "execution_count": 55,
   "metadata": {},
   "outputs": [
    {
     "name": "stderr",
     "output_type": "stream",
     "text": [
      "Warning in <TCanvas::Constructor>: Deleting canvas with same name: cvs\n"
     ]
    },
    {
     "data": {
      "image/png": "[encoded data removed]",
      "text/plain": [
       "<IPython.core.display.Image object>"
      ]
     },
     "metadata": {},
     "output_type": "display_data"
    }
   ],
   "source": [
    "c = ROOT.TCanvas(\"cvs\", \"\", 800, 900)\n",
    "#c.SetLogy()\n",
    "c.cd()\n",
    "fake_ljet.Draw()\n",
    "#fake_cjet.Draw(\"same\")\n",
    "fake_bjet.Draw(\"same\")\n",
    "c.Draw()"
   ]
  },
  {
   "cell_type": "code",
   "execution_count": null,
   "metadata": {},
   "outputs": [],
   "source": []
  }
 ],
 "metadata": {
  "kernelspec": {
   "display_name": "pyg",
   "language": "python",
   "name": "python3"
  },
  "language_info": {
   "codemirror_mode": {
    "name": "ipython",
    "version": 3
   },
   "file_extension": ".py",
   "mimetype": "text/x-python",
   "name": "python",
   "nbconvert_exporter": "python",
   "pygments_lexer": "ipython3",
   "version": "3.11.6"
  }
 },
 "nbformat": 4,
 "nbformat_minor": 2
}
