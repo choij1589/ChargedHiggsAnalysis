{
 "cells": [
  {
   "cell_type": "code",
   "execution_count": 20,
   "metadata": {},
   "outputs": [],
   "source": [
    "import numpy as np\n",
    "import ROOT\n",
    "from math import sqrt, log"
   ]
  },
  {
   "cell_type": "code",
   "execution_count": 21,
   "metadata": {},
   "outputs": [],
   "source": [
    "SIGNAL = \"MHc-160_MA-120\"\n",
    "k = 5"
   ]
  },
  {
   "cell_type": "code",
   "execution_count": 22,
   "metadata": {},
   "outputs": [],
   "source": [
    "def load_dataset(SIGNAL, k):\n",
    "    mA = int(SIGNAL.split(\"_\")[1].split(\"-\")[1])\n",
    "    sigma_dict = {65: 0.76,\n",
    "                  85: 1.03,\n",
    "                  90: 1.08,\n",
    "                  95: 1.19,\n",
    "                120: 1.58}\n",
    "    sigma = sigma_dict[mA]\n",
    "    \n",
    "    col_sig = []\n",
    "    f = ROOT.TFile(f\"samples/2018/Skim3Mu__GraphNet__/{SIGNAL}/{SIGNAL}.root\")\n",
    "    tree = f.Get(f\"{SIGNAL}_Central\")\n",
    "    for idx, evt in enumerate(tree, start=1):\n",
    "        condition = (mA - k*sigma < evt.mass1 < mA + k*sigma) or (mA - k*sigma < evt.mass2 < mA + k*sigma)\n",
    "        if not condition:\n",
    "            continue\n",
    "        col_sig.append([evt.scoreX, evt.scoreY, evt.scoreZ, evt.weight, 1.])\n",
    "    col_sig = np.array(col_sig)\n",
    "\n",
    "    col_VV = []\n",
    "    f = ROOT.TFile(f\"samples/2018/Skim3Mu__GraphNet__/{SIGNAL}/diboson.root\")\n",
    "    tree = f.Get(\"diboson_Central\")\n",
    "    for idx, evt in enumerate(tree, start=1):\n",
    "        condition = (mA - k*sigma < evt.mass1 < mA + k*sigma) or (mA - k*sigma < evt.mass2 < mA + k*sigma)\n",
    "        if not condition:\n",
    "            continue\n",
    "        col_VV.append([evt.scoreX, evt.scoreY, evt.scoreZ, evt.weight, 0.])\n",
    "    col_VV = np.array(col_VV)\n",
    "\n",
    "    col_ttX = []\n",
    "    f = ROOT.TFile(f\"samples/2018/Skim3Mu__GraphNet__/{SIGNAL}/ttX.root\")\n",
    "    tree = f.Get(\"ttX_Central\")\n",
    "    for idx, evt in enumerate(tree, start=1):\n",
    "        condition = (mA - k*sigma < evt.mass1 < mA + k*sigma) or (mA - k*sigma < evt.mass2 < mA + k*sigma)\n",
    "        if not condition:\n",
    "            continue\n",
    "        col_ttX.append([evt.scoreX, evt.scoreY, evt.scoreZ, evt.weight, 0.])\n",
    "    col_ttX = np.array(col_ttX)\n",
    "    \n",
    "    col_conv = []\n",
    "    f = ROOT.TFile(f\"samples/2018/Skim3Mu__GraphNet__/{SIGNAL}/conversion.root\")\n",
    "    tree = f.Get(\"conversion_Central\")\n",
    "    for idx, evt in enumerate(tree, start=1):\n",
    "        condition = (mA - k*sigma < evt.mass1 < mA + k*sigma) or (mA - k*sigma < evt.mass2 < mA + k*sigma)\n",
    "        if not condition:\n",
    "            continue\n",
    "        col_conv.append([evt.scoreX, evt.scoreY, evt.scoreZ, evt.weight, 0.])\n",
    "    col_conv = np.array(col_conv)\n",
    "\n",
    "    col_fake = []\n",
    "    f = ROOT.TFile(f\"samples/2018/Skim3Mu__GraphNet__/{SIGNAL}/nonprompt.root\")\n",
    "    tree = f.Get(\"nonprompt_Central\")\n",
    "    for idx, evt in enumerate(tree, start=1):\n",
    "        condition = (mA - k*sigma < evt.mass1 < mA + k*sigma) or (mA - k*sigma < evt.mass2 < mA + k*sigma)\n",
    "        if not condition:\n",
    "            continue\n",
    "        col_fake.append([evt.scoreX, evt.scoreY, evt.scoreZ, evt.weight, 0.])\n",
    "    col_fake = np.array(col_fake)\n",
    "\n",
    "    col_others = []\n",
    "    f = ROOT.TFile(f\"samples/2018/Skim3Mu__GraphNet__/{SIGNAL}/others.root\")\n",
    "    tree = f.Get(\"others_Central\")\n",
    "    for idx, evt in enumerate(tree, start=1):\n",
    "        condition = (mA - k*sigma < evt.mass1 < mA + k*sigma) or (mA - k*sigma < evt.mass2 < mA + k*sigma)\n",
    "        if not condition:\n",
    "            continue\n",
    "        col_others.append([evt.scoreX, evt.scoreY, evt.scoreZ, evt.weight, 0.])\n",
    "    col_others = np.array(col_others)\n",
    "    \n",
    "    col_bkg = np.concatenate([col_VV, col_ttX, col_others, col_conv, col_fake], axis=0)\n",
    "    \n",
    "    return col_sig, col_bkg"
   ]
  },
  {
   "cell_type": "code",
   "execution_count": 23,
   "metadata": {},
   "outputs": [],
   "source": [
    "def scale_signal(col_sig, col_bkg):\n",
    "    hX_sig = ROOT.TH1D(\"hX_sig\", \"\", 100, 0., 1.)\n",
    "    hY_sig = ROOT.TH1D(\"hY_sig\", \"\", 100, 0., 1.)\n",
    "    hZ_sig = ROOT.TH1D(\"hZ_sig\", \"\", 100, 0., 1.)\n",
    "    hX_bkg = ROOT.TH1D(\"hX_bkg\", \"\", 100, 0., 1.)\n",
    "    hY_bkg = ROOT.TH1D(\"hY_bkg\", \"\", 100, 0., 1.)\n",
    "    hZ_bkg = ROOT.TH1D(\"hZ_bkg\", \"\", 100, 0., 1.)\n",
    "    \n",
    "    for evt in col_sig:\n",
    "        scoreX, scoreY, scoreZ, weight = tuple(evt[:4])\n",
    "        hX_sig.Fill(scoreX, weight)\n",
    "        hY_sig.Fill(scoreY, weight)\n",
    "        hZ_sig.Fill(scoreZ, weight)\n",
    "        \n",
    "    for evt in col_bkg:\n",
    "        scoreX, scoreY, scoreZ, weight = tuple(evt[:4])\n",
    "        hX_bkg.Fill(scoreX, weight)\n",
    "        hY_bkg.Fill(scoreY, weight)\n",
    "        hZ_bkg.Fill(scoreZ, weight)\n",
    "    \n",
    "    print(hX_sig.Integral())\n",
    "    print(hX_bkg.Integral())\n",
    "    sigScaleFactor = hX_bkg.Integral() / hX_sig.Integral()\n",
    "    return sigScaleFactor"
   ]
  },
  {
   "cell_type": "code",
   "execution_count": 24,
   "metadata": {},
   "outputs": [],
   "source": [
    "from sklearn.ensemble import GradientBoostingClassifier\n",
    "from sklearn.utils import shuffle\n",
    "from sklearn.model_selection import train_test_split"
   ]
  },
  {
   "cell_type": "code",
   "execution_count": 25,
   "metadata": {},
   "outputs": [
    {
     "name": "stdout",
     "output_type": "stream",
     "text": [
      "35.11459326343838\n",
      "65.95652442976662\n"
     ]
    }
   ],
   "source": [
    "col_sig, col_bkg = load_dataset(SIGNAL, k=5)\n",
    "sigScaleFactor = scale_signal(col_sig, col_bkg)\n",
    "col_sig[:, 3] = col_sig[:, 3]*sigScaleFactor\n",
    "\n",
    "col_bkg = shuffle(col_bkg, random_state=42)\n",
    "events = np.concatenate([col_sig, col_bkg], axis=0)\n",
    "events = shuffle(events, random_state=42)"
   ]
  },
  {
   "cell_type": "code",
   "execution_count": 26,
   "metadata": {},
   "outputs": [],
   "source": [
    "X, weights, y = events[:, :3], events[:, 3], events[:, 4]\n",
    "X_train, X_test, y_train, y_test, sw_train, sw_test = train_test_split(X, y, weights, test_size=0.4, random_state=42)"
   ]
  },
  {
   "cell_type": "code",
   "execution_count": 64,
   "metadata": {},
   "outputs": [
    {
     "data": {
      "text/html": [
       "<style>#sk-container-id-14 {color: black;background-color: white;}#sk-container-id-14 pre{padding: 0;}#sk-container-id-14 div.sk-toggleable {background-color: white;}#sk-container-id-14 label.sk-toggleable__label {cursor: pointer;display: block;width: 100%;margin-bottom: 0;padding: 0.3em;box-sizing: border-box;text-align: center;}#sk-container-id-14 label.sk-toggleable__label-arrow:before {content: \"▸\";float: left;margin-right: 0.25em;color: #696969;}#sk-container-id-14 label.sk-toggleable__label-arrow:hover:before {color: black;}#sk-container-id-14 div.sk-estimator:hover label.sk-toggleable__label-arrow:before {color: black;}#sk-container-id-14 div.sk-toggleable__content {max-height: 0;max-width: 0;overflow: hidden;text-align: left;background-color: #f0f8ff;}#sk-container-id-14 div.sk-toggleable__content pre {margin: 0.2em;color: black;border-radius: 0.25em;background-color: #f0f8ff;}#sk-container-id-14 input.sk-toggleable__control:checked~div.sk-toggleable__content {max-height: 200px;max-width: 100%;overflow: auto;}#sk-container-id-14 input.sk-toggleable__control:checked~label.sk-toggleable__label-arrow:before {content: \"▾\";}#sk-container-id-14 div.sk-estimator input.sk-toggleable__control:checked~label.sk-toggleable__label {background-color: #d4ebff;}#sk-container-id-14 div.sk-label input.sk-toggleable__control:checked~label.sk-toggleable__label {background-color: #d4ebff;}#sk-container-id-14 input.sk-hidden--visually {border: 0;clip: rect(1px 1px 1px 1px);clip: rect(1px, 1px, 1px, 1px);height: 1px;margin: -1px;overflow: hidden;padding: 0;position: absolute;width: 1px;}#sk-container-id-14 div.sk-estimator {font-family: monospace;background-color: #f0f8ff;border: 1px dotted black;border-radius: 0.25em;box-sizing: border-box;margin-bottom: 0.5em;}#sk-container-id-14 div.sk-estimator:hover {background-color: #d4ebff;}#sk-container-id-14 div.sk-parallel-item::after {content: \"\";width: 100%;border-bottom: 1px solid gray;flex-grow: 1;}#sk-container-id-14 div.sk-label:hover label.sk-toggleable__label {background-color: #d4ebff;}#sk-container-id-14 div.sk-serial::before {content: \"\";position: absolute;border-left: 1px solid gray;box-sizing: border-box;top: 0;bottom: 0;left: 50%;z-index: 0;}#sk-container-id-14 div.sk-serial {display: flex;flex-direction: column;align-items: center;background-color: white;padding-right: 0.2em;padding-left: 0.2em;position: relative;}#sk-container-id-14 div.sk-item {position: relative;z-index: 1;}#sk-container-id-14 div.sk-parallel {display: flex;align-items: stretch;justify-content: center;background-color: white;position: relative;}#sk-container-id-14 div.sk-item::before, #sk-container-id-14 div.sk-parallel-item::before {content: \"\";position: absolute;border-left: 1px solid gray;box-sizing: border-box;top: 0;bottom: 0;left: 50%;z-index: -1;}#sk-container-id-14 div.sk-parallel-item {display: flex;flex-direction: column;z-index: 1;position: relative;background-color: white;}#sk-container-id-14 div.sk-parallel-item:first-child::after {align-self: flex-end;width: 50%;}#sk-container-id-14 div.sk-parallel-item:last-child::after {align-self: flex-start;width: 50%;}#sk-container-id-14 div.sk-parallel-item:only-child::after {width: 0;}#sk-container-id-14 div.sk-dashed-wrapped {border: 1px dashed gray;margin: 0 0.4em 0.5em 0.4em;box-sizing: border-box;padding-bottom: 0.4em;background-color: white;}#sk-container-id-14 div.sk-label label {font-family: monospace;font-weight: bold;display: inline-block;line-height: 1.2em;}#sk-container-id-14 div.sk-label-container {text-align: center;}#sk-container-id-14 div.sk-container {/* jupyter's `normalize.less` sets `[hidden] { display: none; }` but bootstrap.min.css set `[hidden] { display: none !important; }` so we also need the `!important` here to be able to override the default hidden behavior on the sphinx rendered scikit-learn.org. See: https://github.com/scikit-learn/scikit-learn/issues/21755 */display: inline-block !important;position: relative;}#sk-container-id-14 div.sk-text-repr-fallback {display: none;}</style><div id=\"sk-container-id-14\" class=\"sk-top-container\"><div class=\"sk-text-repr-fallback\"><pre>GradientBoostingClassifier(max_depth=2, n_estimators=10)</pre><b>In a Jupyter environment, please rerun this cell to show the HTML representation or trust the notebook. <br />On GitHub, the HTML representation is unable to render, please try loading this page with nbviewer.org.</b></div><div class=\"sk-container\" hidden><div class=\"sk-item\"><div class=\"sk-estimator sk-toggleable\"><input class=\"sk-toggleable__control sk-hidden--visually\" id=\"sk-estimator-id-14\" type=\"checkbox\" checked><label for=\"sk-estimator-id-14\" class=\"sk-toggleable__label sk-toggleable__label-arrow\">GradientBoostingClassifier</label><div class=\"sk-toggleable__content\"><pre>GradientBoostingClassifier(max_depth=2, n_estimators=10)</pre></div></div></div></div></div>"
      ],
      "text/plain": [
       "GradientBoostingClassifier(max_depth=2, n_estimators=10)"
      ]
     },
     "execution_count": 64,
     "metadata": {},
     "output_type": "execute_result"
    }
   ],
   "source": [
    "clf = GradientBoostingClassifier(n_estimators=10, max_depth=2)\n",
    "clf.fit(X_train, y_train, sample_weight=sw_train)"
   ]
  },
  {
   "cell_type": "code",
   "execution_count": 65,
   "metadata": {},
   "outputs": [
    {
     "name": "stdout",
     "output_type": "stream",
     "text": [
      "0.221 0.119\n"
     ]
    },
    {
     "name": "stderr",
     "output_type": "stream",
     "text": [
      "Warning in <TROOT::Append>: Replacing existing TH1: hSigTrain (Potential memory leak).\n",
      "Warning in <TROOT::Append>: Replacing existing TH1: hBkgTrain (Potential memory leak).\n",
      "Warning in <TROOT::Append>: Replacing existing TH1: hSigTest (Potential memory leak).\n",
      "Warning in <TROOT::Append>: Replacing existing TH1: hBkgTest (Potential memory leak).\n",
      "Warning in <TH1D::KolmogorovTest>: Detected bins with negative weights, these have been ignored and output might be skewed. Reduce number of bins for histogram?\n"
     ]
    },
    {
     "data": {
      "image/png": "[encoded data removed]",
      "text/plain": [
       "<IPython.core.display.Image object>"
      ]
     },
     "metadata": {},
     "output_type": "display_data"
    }
   ],
   "source": [
    "hSigTrain = ROOT.TH1D(\"hSigTrain\", \"\", 100, 0., 1.)\n",
    "hBkgTrain = ROOT.TH1D(\"hBkgTrain\", \"\", 100, 0., 1.)\n",
    "hSigTest = ROOT.TH1D(\"hSigTest\", \"\", 100, 0., 1.)\n",
    "hBkgTest = ROOT.TH1D(\"hBkgTest\", \"\", 100, 0., 1.)\n",
    "\n",
    "y_pred = clf.predict_proba(X_train)\n",
    "for score, weight, label in zip(y_pred, sw_train, y_train):\n",
    "    if label == 0: hBkgTrain.Fill(score[1], weight)\n",
    "    else: hSigTrain.Fill(score[1], weight)\n",
    "\n",
    "y_pred = clf.predict_proba(X_test)\n",
    "for score, weight, label in zip(y_pred, sw_test, y_test):\n",
    "    if label == 0: hBkgTest.Fill(score[1], weight)\n",
    "    else: hSigTest.Fill(score[1], weight)\n",
    "\n",
    "hSigTrain.SetLineColor(ROOT.kBlack)\n",
    "hBkgTrain.SetLineColor(ROOT.kBlue)\n",
    "hSigTrain.SetLineWidth(2)\n",
    "hBkgTrain.SetLineWidth(2)\n",
    "hSigTest.SetMarkerStyle(20)\n",
    "hBkgTest.SetMarkerStyle(20)\n",
    "hSigTest.SetMarkerSize(1)\n",
    "hBkgTest.SetMarkerSize(1)\n",
    "hSigTest.SetMarkerColor(ROOT.kBlack)\n",
    "hBkgTest.SetMarkerColor(ROOT.kBlue)\n",
    "hSigTrain.SetStats(0)\n",
    "hBkgTrain.SetStats(0)\n",
    "\n",
    "hSigTrain.Scale(1./hSigTrain.Integral())\n",
    "hBkgTrain.Scale(1./hBkgTrain.Integral())\n",
    "hSigTest.Scale(1./hSigTest.Integral())\n",
    "hBkgTest.Scale(1./hBkgTest.Integral())\n",
    "\n",
    "ksProbSig = hSigTrain.KolmogorovTest(hSigTest, option=\"X\")\n",
    "ksProbBkg = hBkgTrain.KolmogorovTest(hBkgTest, option=\"X\")\n",
    "\n",
    "print(ksProbSig, ksProbBkg)\n",
    "\n",
    "hSigTrain.GetYaxis().SetRangeUser(0., 0.1)\n",
    "c = ROOT.TCanvas()\n",
    "#c.SetLogy()\n",
    "c.cd()\n",
    "hSigTrain.Draw(\"hist\")\n",
    "hBkgTrain.Draw(\"hist&same\")\n",
    "hSigTest.Draw(\"p&same\")\n",
    "hBkgTest.Draw(\"p&same\")\n",
    "c.Draw()"
   ]
  },
  {
   "cell_type": "code",
   "execution_count": 66,
   "metadata": {},
   "outputs": [
    {
     "name": "stdout",
     "output_type": "stream",
     "text": [
      "4.006357558712715\n",
      "56 4.982008212422226\n",
      "0.2435256063422852\n"
     ]
    },
    {
     "name": "stderr",
     "output_type": "stream",
     "text": [
      "Warning in <TROOT::Append>: Replacing existing TH1: hSig (Potential memory leak).\n",
      "Warning in <TROOT::Append>: Replacing existing TH1: hBkg (Potential memory leak).\n"
     ]
    },
    {
     "data": {
      "image/png": "[encoded data removed]",
      "text/plain": [
       "<IPython.core.display.Image object>"
      ]
     },
     "metadata": {},
     "output_type": "display_data"
    }
   ],
   "source": [
    "hSig = ROOT.TH1D(\"hSig\", \"\", 100, 0., 1.)\n",
    "hBkg = ROOT.TH1D(\"hBkg\", \"\", 100, 0., 1.)\n",
    "y_pred = clf.predict_proba(X)\n",
    "for score, weight, label in zip(y_pred, weights, y):\n",
    "    if label == 0: hBkg.Fill(score[1], weight)\n",
    "    else: hSig.Fill(score[1], weight)\n",
    "hSig.Scale(1./sigScaleFactor)\n",
    "\n",
    "from math import sqrt, log\n",
    "\n",
    "nBins = hSig.GetNbinsX()\n",
    "nSig = hSig.Integral(0, nBins+1)\n",
    "nBkg = hBkg.Integral(0, nBins+1)\n",
    "initMetric = sqrt(2*((nSig+nBkg)*log(1+nSig/nBkg)-nSig))\n",
    "print(initMetric)\n",
    "\n",
    "graph = ROOT.TGraph()\n",
    "bestCut = 0\n",
    "bestMetric = initMetric\n",
    "for bin in range(15, nBins-15):\n",
    "    nSig = hSig.Integral(bin, nBins+1)\n",
    "    nBkg = hBkg.Integral(bin, nBins+1)\n",
    "    try:\n",
    "        metric = sqrt(2*((nSig+nBkg)*log(1+nSig/nBkg)-nSig))\n",
    "        graph.AddPoint(bin, metric)\n",
    "    except:\n",
    "        print(bin, nSig, nBkg)\n",
    "        continue\n",
    "    if metric > bestMetric:\n",
    "        bestCut = bin\n",
    "        bestMetric = metric\n",
    "\n",
    "print(bestCut, bestMetric)\n",
    "print((bestMetric-initMetric) / initMetric)\n",
    "\n",
    "c = ROOT.TCanvas()\n",
    "c.cd()\n",
    "graph.Draw()\n",
    "c.Draw()"
   ]
  },
  {
   "cell_type": "code",
   "execution_count": 60,
   "metadata": {},
   "outputs": [
    {
     "ename": "SyntaxError",
     "evalue": "invalid syntax (712065121.py, line 1)",
     "output_type": "error",
     "traceback": [
      "\u001b[0;36m  Cell \u001b[0;32mIn[60], line 1\u001b[0;36m\u001b[0m\n\u001b[0;31m    50  3   0.212   0.183   33%     50  2   0.272   0.157   28%\u001b[0m\n\u001b[0m        ^\u001b[0m\n\u001b[0;31mSyntaxError\u001b[0m\u001b[0;31m:\u001b[0m invalid syntax\n"
     ]
    }
   ],
   "source": [
    "50  3   0.212   0.183   33%     50  2   0.272   0.157   28%\n",
    "40  3   0.283   0.171   33%     40  2   0.154   0.123   28%\n",
    "30  3   0.156   0.134   32%     30  2   0.239   0.231   28%\n",
    "20  3   0.242   0.339   39%     20  2   0.262   0.187   27%\n",
    "10  3   0.169   0.33    28%     10  2   0.221   0.199   24%"
   ]
  },
  {
   "cell_type": "code",
   "execution_count": null,
   "metadata": {},
   "outputs": [],
   "source": []
  }
 ],
 "metadata": {
  "kernelspec": {
   "display_name": "torch",
   "language": "python",
   "name": "python3"
  },
  "language_info": {
   "codemirror_mode": {
    "name": "ipython",
    "version": 3
   },
   "file_extension": ".py",
   "mimetype": "text/x-python",
   "name": "python",
   "nbconvert_exporter": "python",
   "pygments_lexer": "ipython3",
   "version": "3.11.3"
  },
  "orig_nbformat": 4
 },
 "nbformat": 4,
 "nbformat_minor": 2
}
