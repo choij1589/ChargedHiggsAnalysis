{
 "cells": [
  {
   "cell_type": "code",
   "execution_count": 58,
   "metadata": {},
   "outputs": [],
   "source": [
    "import os\n",
    "import ROOT"
   ]
  },
  {
   "cell_type": "code",
   "execution_count": 153,
   "metadata": {},
   "outputs": [
    {
     "data": {
      "text/plain": [
       "<cppyy.gbl.TLegendEntry object at 0x55a267fa4ac0>"
      ]
     },
     "execution_count": 153,
     "metadata": {},
     "output_type": "execute_result"
    }
   ],
   "source": [
    "# get histograms\n",
    "ERA = \"2018\"\n",
    "REGION = \"SR3Mu\"\n",
    "MASSPOINT = \"MHc-160_MA-85\"\n",
    "BKG = \"diboson\"\n",
    "lumiString = {\n",
    "    \"2016preVFP\": \"L_{int} = 19.5 fb^{-1}\",\n",
    "    \"2016postVFP\": \"L_{int} = 16.8 fb^{-1}\",\n",
    "    \"2017\": \"L_{int} = 41.5 fb^{-1}\",\n",
    "    \"2018\": \"L_{int} = 59.8 fb^{-1}\"\n",
    "}\n",
    "\n",
    "# signal\n",
    "f = ROOT.TFile(f\"/home/choij/workspace/ChargedHiggsAnalysis/data/PromptEstimator/{ERA}/Skim3Mu__GraphNet__ScaleVar__WeightVar__/PromptEstimator_TTToHcToWAToMuMu_{MASSPOINT}.root\")\n",
    "h_sig = f.Get(f\"{REGION}/Central/{MASSPOINT}/score_{BKG}\"); h_sig.SetDirectory(0)\n",
    "f.Close()\n",
    "h_sig.Scale(1./h_sig.Integral())\n",
    "h_sig.SetStats(0)\n",
    "h_sig.SetLineColor(ROOT.kBlack)\n",
    "h_sig.SetLineWidth(2)\n",
    "h_sig.SetFillColorAlpha(ROOT.kBlack, 0.3)\n",
    "\n",
    "# nonprompt\n",
    "f = ROOT.TFile(f\"/home/choij/workspace/ChargedHiggsAnalysis/data/MatrixEstimator/{ERA}/Skim3Mu__GraphNet__/DATA/MatrixEstimator_SkimTree_SS2lOR3l_DoubleMuon.root\")\n",
    "h_nonprompt = f.Get(f\"{REGION}/Central/{MASSPOINT}/score_{BKG}\"); h_nonprompt.SetDirectory(0)\n",
    "f.Close()\n",
    "h_nonprompt.Scale(1./h_nonprompt.Integral())\n",
    "h_nonprompt.SetStats(0)\n",
    "h_nonprompt.SetLineColor(ROOT.kGray+1)\n",
    "h_nonprompt.SetLineWidth(2)\n",
    "if BKG == \"nonprompt\":\n",
    "    h_nonprompt.SetFillColorAlpha(ROOT.kGray+1, 0.3)\n",
    "else:\n",
    "    h_nonprompt.SetFillColorAlpha(ROOT.kGray+1, 0.1)\n",
    "\n",
    "\n",
    "# diboson\n",
    "f = ROOT.TFile(f\"/home/choij/workspace/ChargedHiggsAnalysis/data/PromptEstimator/{ERA}/Skim3Mu__GraphNet__ScaleVar__WeightVar__/PromptEstimator_SkimTree_SS2lOR3l_WZTo3LNu_amcatnlo.root\")\n",
    "h = f.Get(f\"{REGION}/Central/{MASSPOINT}/score_{BKG}\"); h.SetDirectory(0); f.Close()\n",
    "h_diboson = h.Clone(\"diboson\")\n",
    "f = ROOT.TFile(f\"/home/choij/workspace/ChargedHiggsAnalysis/data/PromptEstimator/{ERA}/Skim3Mu__GraphNet__ScaleVar__WeightVar__/PromptEstimator_SkimTree_SS2lOR3l_ZZTo4L_powheg.root\")\n",
    "h = f.Get(f\"{REGION}/Central/{MASSPOINT}/score_{BKG}\"); h.SetDirectory(0); f.Close()\n",
    "h_diboson.Add(h)\n",
    "h_diboson.Scale(1./h_diboson.Integral())\n",
    "h_diboson.SetStats(0)\n",
    "h_diboson.SetLineColor(ROOT.kGreen)\n",
    "h_diboson.SetLineWidth(2)\n",
    "if BKG == \"diboson\":\n",
    "    h_diboson.SetFillColorAlpha(ROOT.kGreen, 0.3)\n",
    "else:\n",
    "    h_diboson.SetFillColorAlpha(ROOT.kGreen, 0.1)\n",
    "\n",
    "# ttZ\n",
    "f = ROOT.TFile(f\"/home/choij/workspace/ChargedHiggsAnalysis/data/PromptEstimator/{ERA}/Skim3Mu__GraphNet__ScaleVar__WeightVar__/PromptEstimator_SkimTree_SS2lOR3l_ttZToLLNuNu.root\")\n",
    "h = f.Get(f\"{REGION}/Central/{MASSPOINT}/score_{BKG}\"); h.SetDirectory(0); f.Close()\n",
    "h_ttZ = h.Clone(\"ttZ\")\n",
    "f = ROOT.TFile(f\"/home/choij/workspace/ChargedHiggsAnalysis/data/PromptEstimator/{ERA}/Skim3Mu__GraphNet__ScaleVar__WeightVar__/PromptEstimator_SkimTree_SS2lOR3l_ttWToLNu.root\")\n",
    "h = f.Get(f\"{REGION}/Central/{MASSPOINT}/score_{BKG}\"); h.SetDirectory(0); f.Close()\n",
    "h_ttZ.Add(h)\n",
    "f = ROOT.TFile(f\"/home/choij/workspace/ChargedHiggsAnalysis/data/PromptEstimator/{ERA}/Skim3Mu__GraphNet__ScaleVar__WeightVar__/PromptEstimator_SkimTree_SS2lOR3l_ttHToNonbb.root\")\n",
    "h = f.Get(f\"{REGION}/Central/{MASSPOINT}/score_{BKG}\"); h.SetDirectory(0); f.Close()\n",
    "h_ttZ.Add(h)\n",
    "h_ttZ.Scale(1./h_ttZ.Integral())\n",
    "h_ttZ.SetStats(0)\n",
    "h_ttZ.SetLineColor(ROOT.kViolet)\n",
    "h_ttZ.SetLineWidth(2)\n",
    "if BKG == \"ttZ\":\n",
    "    h_ttZ.SetFillColorAlpha(ROOT.kViolet, 0.3)\n",
    "else:\n",
    "    h_ttZ.SetFillColorAlpha(ROOT.kViolet, 0.1)\n",
    "\n",
    "lg = ROOT.TLegend(0.65, 0.65, 0.87, 0.85)\n",
    "lg.SetFillStyle(0)\n",
    "lg.SetBorderSize(0)\n",
    "lg.AddEntry(h_sig, MASSPOINT, \"f\")\n",
    "lg.AddEntry(h_nonprompt, \"nonprompt\", \"f\")\n",
    "lg.AddEntry(h_diboson, \"diboson\", \"f\")\n",
    "lg.AddEntry(h_ttZ, \"tt+X\", \"f\")"
   ]
  },
  {
   "cell_type": "code",
   "execution_count": 154,
   "metadata": {},
   "outputs": [
    {
     "name": "stderr",
     "output_type": "stream",
     "text": [
      "Warning in <TCanvas::Constructor>: Deleting canvas with same name: c\n",
      "Info in <TCanvas::Print>: png file plots/2018/SR3Mu/scores/MHc-160_MA-85_vs_diboson.png has been created\n"
     ]
    },
    {
     "data": {
      "image/png": "[encoded data removed]",
      "text/plain": [
       "<IPython.core.display.Image object>"
      ]
     },
     "metadata": {},
     "output_type": "display_data"
    }
   ],
   "source": [
    "h_sig.GetYaxis().SetRangeUser(max(h_sig.GetMinimum(), 1e-4), 10.)\n",
    "h_sig.GetXaxis().SetTitle(f\"score(vs. {BKG})\")\n",
    "h_sig.GetYaxis().SetTitle(\"A.U.\")\n",
    "h_sig.GetYaxis().SetTitleOffset(1.1)\n",
    "text = ROOT.TLatex()\n",
    "\n",
    "c = ROOT.TCanvas(\"c\", \"\", 800, 800)\n",
    "c.SetLogy()\n",
    "c.cd()\n",
    "h_sig.Draw(\"hist\")\n",
    "h_diboson.Draw(\"f&hist&same\")\n",
    "h_ttZ.Draw(\"&hist&same\")\n",
    "h_nonprompt.Draw(\"f&hist&same\")\n",
    "h_sig.Draw(\"hist&same\")\n",
    "lg.Draw(\"same\")\n",
    "\n",
    "text.SetTextSize(0.04)\n",
    "text.SetTextFont(61)\n",
    "text.DrawLatexNDC(0.17, 0.83, \"CMS\")\n",
    "\n",
    "text.SetTextSize(0.035)\n",
    "text.SetTextFont(52)\n",
    "text.DrawLatexNDC(0.17, 0.78, \"Work in progress\")\n",
    "\n",
    "text.SetTextSize(0.035)\n",
    "text.SetTextFont(42)\n",
    "text.DrawLatexNDC(0.7, 0.912, lumiString[ERA])\n",
    "c.RedrawAxis()\n",
    "c.Draw()\n",
    "os.makedirs(f\"plots/{ERA}/{REGION}/scores\", exist_ok=True)\n",
    "c.SaveAs(f\"plots/{ERA}/{REGION}/scores/{MASSPOINT}_vs_{BKG}.png\")\n",
    "\n"
   ]
  },
  {
   "cell_type": "code",
   "execution_count": null,
   "metadata": {},
   "outputs": [],
   "source": []
  }
 ],
 "metadata": {
  "kernelspec": {
   "display_name": "torch",
   "language": "python",
   "name": "python3"
  },
  "language_info": {
   "codemirror_mode": {
    "name": "ipython",
    "version": 3
   },
   "file_extension": ".py",
   "mimetype": "text/x-python",
   "name": "python",
   "nbconvert_exporter": "python",
   "pygments_lexer": "ipython3",
   "version": "3.11.3"
  },
  "orig_nbformat": 4
 },
 "nbformat": 4,
 "nbformat_minor": 2
}
