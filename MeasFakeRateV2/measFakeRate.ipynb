{
 "cells": [
  {
   "cell_type": "code",
   "execution_count": 1,
   "metadata": {},
   "outputs": [
    {
     "name": "stdout",
     "output_type": "stream",
     "text": [
      "Welcome to JupyROOT 6.30/04\n"
     ]
    }
   ],
   "source": [
    "import ROOT\n",
    "import pandas as pd"
   ]
  },
  {
   "cell_type": "code",
   "execution_count": 8,
   "metadata": {},
   "outputs": [],
   "source": [
    "ERA = \"2016preVFP\"\n",
    "HLT = \"MeasFakeEl12\"\n",
    "SYST = \"RequireHeavyTag\""
   ]
  },
  {
   "cell_type": "code",
   "execution_count": 9,
   "metadata": {},
   "outputs": [],
   "source": [
    "csv_loose = pd.read_csv(f\"output/{ERA}/{HLT}/fitresult.loose.{SYST}.csv\", index_col=\"prefix\", sep=\", \", engine=\"python\")\n",
    "csv_tight = pd.read_csv(f\"output/{ERA}/{HLT}/fitresult.tight.{SYST}.csv\", index_col=\"prefix\", sep=\", \", engine=\"python\")"
   ]
  },
  {
   "cell_type": "code",
   "execution_count": 10,
   "metadata": {},
   "outputs": [
    {
     "name": "stdout",
     "output_type": "stream",
     "text": [
      "ptcorr_15to20_EB1 765.0098820000001 370.42404799999997 0.4842081869996026\n",
      "ptcorr_15to20_EB2 365.822144 174.860142 0.47799222892313487\n",
      "ptcorr_15to20_EE 468.29187600000006 273.576582 0.5842009994638471\n",
      "ptcorr_20to25_EB1 412.83491200000003 116.550144 0.28231658857378805\n",
      "ptcorr_20to25_EB2 316.494906 104.040768 0.328728096495809\n",
      "ptcorr_20to25_EE 476.036022 187.09106500000001 0.3930187136132316\n",
      "ptcorr_25to35_EB1 411.97268199999996 97.55867999999998 0.23680861441196238\n",
      "ptcorr_25to35_EB2 383.948466 78.719292 0.20502567133579847\n",
      "ptcorr_25to35_EE 616.113344 161.5296 0.26217513639827933\n",
      "ptcorr_35to50_EB1 208.439567 25.692633 0.12326178455360157\n",
      "ptcorr_35to50_EB2 263.495685 57.973084 0.2200153068920275\n",
      "ptcorr_35to50_EE 478.325943 87.61392 0.1831678195217607\n",
      "ptcorr_50to100_EB1 178.298835 40.98276 0.2298543341575956\n",
      "ptcorr_50to100_EB2 133.54672499999998 34.122747 0.2555116720383821\n",
      "ptcorr_50to100_EE 261.914094 56.956416000000004 0.2174622034658433\n",
      "ptcorr_100to200_EB1 38.462985 19.558908000000002 0.5085124828455202\n",
      "ptcorr_100to200_EB2 27.748882000000002 15.986392 0.5761094086601398\n",
      "ptcorr_100to200_EE 26.875449999999997 10.673535 0.3971481407753173\n"
     ]
    }
   ],
   "source": [
    "for idx in csv_loose.index:\n",
    "    data_loose, data_tight = csv_loose.loc[idx, 'data'], csv_tight.loc[idx, 'data']\n",
    "    qcd_loose = data_loose * (csv_loose.loc[idx, 'QCD_EMEnriched'] + csv_loose.loc[idx, 'QCD_bcToE'])\n",
    "    qcd_tight = data_tight * (csv_tight.loc[idx, \"QCD_EMEnriched\"] + csv_tight.loc[idx, \"QCD_bcToE\"])\n",
    "    print(idx, qcd_loose, qcd_tight, qcd_tight / qcd_loose)"
   ]
  },
  {
   "cell_type": "code",
   "execution_count": null,
   "metadata": {},
   "outputs": [],
   "source": []
  }
 ],
 "metadata": {
  "kernelspec": {
   "display_name": "pyg",
   "language": "python",
   "name": "python3"
  },
  "language_info": {
   "codemirror_mode": {
    "name": "ipython",
    "version": 3
   },
   "file_extension": ".py",
   "mimetype": "text/x-python",
   "name": "python",
   "nbconvert_exporter": "python",
   "pygments_lexer": "ipython3",
   "version": "3.11.9"
  }
 },
 "nbformat": 4,
 "nbformat_minor": 2
}
