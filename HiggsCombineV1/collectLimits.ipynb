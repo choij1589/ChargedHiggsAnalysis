{
 "cells": [
  {
   "cell_type": "code",
   "execution_count": 2,
   "metadata": {},
   "outputs": [
    {
     "name": "stdout",
     "output_type": "stream",
     "text": [
      "Welcome to JupyROOT 6.28/00\n"
     ]
    }
   ],
   "source": [
    "import json\n",
    "import ROOT"
   ]
  },
  {
   "cell_type": "code",
   "execution_count": 26,
   "metadata": {},
   "outputs": [],
   "source": [
    "ERA = \"2018\"\n",
    "CHANNEL = \"Skim3Mu\"\n",
    "MASSPOINTs = [\"MHc-130_MA-15\", \"MHc-70_MA-40\", \"MHc-130_MA-55\", \"MHc-100_MA-60\",\n",
    "              \"MHc-70_MA-65\", \"MHc-160_MA-85\", \"MHc-130_MA-90\", \"MHc-100_MA-95\",\n",
    "              \"MHc-160_MA-120\", \"MHc-130_MA-125\", \"MHc-160_MA-155\"]\n",
    "METHOD = \"AsymptoticLimits\""
   ]
  },
  {
   "cell_type": "code",
   "execution_count": 27,
   "metadata": {},
   "outputs": [],
   "source": [
    "def parseAsymptoticLimit(MASSPOINT):\n",
    "    BASEDIR = f\"results/{ERA}/{CHANNEL}__/{MASSPOINT}\"\n",
    "    f = ROOT.TFile(f\"{BASEDIR}/higgsCombineTest.AsymptoticLimits.mH120.root\")\n",
    "    limit = f.Get(\"limit\")\n",
    "    values = {}\n",
    "    for idx, entry in enumerate(limit): values[idx] = entry.limit\n",
    "    f.Close()\n",
    "    \n",
    "    out = {}\n",
    "    out[\"exp-2\"] = values[0] * 5\n",
    "    out[\"exp-1\"] = values[1] * 5\n",
    "    out[\"exp0\"] = values[2] * 5\n",
    "    out[\"exp+1\"] = values[3] * 5\n",
    "    out[\"exp+2\"] = values[4] * 5\n",
    "    out[\"obs\"] = values[5] * 5\n",
    "    return out"
   ]
  },
  {
   "cell_type": "code",
   "execution_count": 28,
   "metadata": {},
   "outputs": [],
   "source": [
    "def readHybridNewResult(path):\n",
    "    f = ROOT.TFile(path)\n",
    "    limit = f.Get(\"limit\")\n",
    "    for entry in limit:\n",
    "        out = entry.limit\n",
    "    return out * 5 \n",
    "\n",
    "def parseHybridNewLimit(MASSPOINT):\n",
    "    BASEDIR = f\"results/{ERA}/{CHANNEL}__/{MASSPOINT}\"\n",
    "    out = {}\n",
    "    out[\"exp-2\"] = readHybridNewResult(f\"{BASEDIR}/higgsCombineTest.HybridNew.mH120.quant0.025.root\")\n",
    "    out[\"exp-1\"] = readHybridNewResult(f\"{BASEDIR}/higgsCombineTest.HybridNew.mH120.quant0.160.root\")\n",
    "    out[\"exp0\"] = readHybridNewResult(f\"{BASEDIR}/higgsCombineTest.HybridNew.mH120.quant0.500.root\")\n",
    "    out[\"exp+1\"] = readHybridNewResult(f\"{BASEDIR}/higgsCombineTest.HybridNew.mH120.quant0.840.root\")\n",
    "    out[\"exp+2\"] = readHybridNewResult(f\"{BASEDIR}/higgsCombineTest.HybridNew.mH120.quant0.975.root\")\n",
    "    out[\"obs\"] = readHybridNewResult(f\"{BASEDIR}/higgsCombineTest.HybridNew.mH120.root\")\n",
    "    return out"
   ]
  },
  {
   "cell_type": "code",
   "execution_count": 33,
   "metadata": {},
   "outputs": [
    {
     "name": "stdout",
     "output_type": "stream",
     "text": [
      "{'15': {'exp-2': 0.67291259765625, 'exp-1': 0.9278416633605957, 'exp0': 1.3671875, 'exp+1': 2.0756442844867706, 'exp+2': 3.059607446193695, 'obs': 1.3683249712281966}, '40': {'exp-2': 1.9495773315429688, 'exp-1': 2.5074025988578796, 'exp0': 3.349609375, 'exp+1': 4.524557888507843, 'exp+2': 5.961950421333313, 'obs': 3.3540414088366575}, '55': {'exp-2': 2.4999237060546875, 'exp-1': 3.2061314582824707, 'exp0': 4.23828125, 'exp+1': 5.6066930294036865, 'exp+2': 7.171034812927246, 'obs': 4.2376896687738554}, '60': {'exp-2': 2.63519287109375, 'exp-1': 3.323233127593994, 'exp0': 4.296875, 'exp+1': 5.581439733505249, 'exp+2': 7.014063596725464, 'obs': 4.296405879703018}, '65': {'exp-2': 3.189697265625, 'exp-1': 4.020347595214844, 'exp0': 5.234375, 'exp+1': 6.7992085218429565, 'exp+2': 8.544405102729797, 'obs': 5.224645472906337}, '85': {'exp-2': 3.748931884765625, 'exp-1': 4.711745977401733, 'exp0': 6.07421875, 'exp+1': 7.89012610912323, 'exp+2': 9.915335774421692, 'obs': 6.079342840413615}, '90': {'exp-2': 8.9422607421875, 'exp-1': 11.168279647827148, 'exp0': 14.21875, 'exp+1': 18.01607847213745, 'exp+2': 22.25242853164673, 'obs': 14.203973949561018}, '95': {'exp-2': 6.0791015625, 'exp-1': 7.589378356933594, 'exp0': 9.7265625, 'exp+1': 12.401726245880127, 'exp+2': 15.42082667350769, 'obs': 9.712271567564816}, '120': {'exp-2': 1.79718017578125, 'exp-1': 2.295105457305908, 'exp0': 3.046875, 'exp+1': 4.079197943210602, 'exp+2': 5.355416536331177, 'obs': 3.047956788727056}, '125': {'exp-2': 1.7974853515625, 'exp-1': 2.2875070571899414, 'exp0': 3.02734375, 'exp+1': 4.0289148688316345, 'exp+2': 5.262448191642761, 'obs': 3.026340538253166}, '155': {'exp-2': 1.6037750244140625, 'exp-1': 2.0988214015960693, 'exp0': 2.87109375, 'exp+1': 3.9811912178993225, 'exp+2': 5.372612476348877, 'obs': 2.8760895752577342}}\n"
     ]
    }
   ],
   "source": [
    "limits = {}\n",
    "\n",
    "for masspoint in MASSPOINTs:\n",
    "    mA = masspoint.split(\"_\")[1].split(\"-\")[1]\n",
    "    limits[mA] = parseAsymptoticLimit(masspoint)\n",
    "\n",
    "print(limits)\n",
    "with open(f\"limits.{ERA}.{CHANNEL}.Asymptotic.json\", \"w\") as f:\n",
    "    json.dump(limits, f, indent=2)"
   ]
  },
  {
   "cell_type": "code",
   "execution_count": null,
   "metadata": {},
   "outputs": [],
   "source": []
  }
 ],
 "metadata": {
  "kernelspec": {
   "display_name": "torch",
   "language": "python",
   "name": "python3"
  },
  "language_info": {
   "codemirror_mode": {
    "name": "ipython",
    "version": 3
   },
   "file_extension": ".py",
   "mimetype": "text/x-python",
   "name": "python",
   "nbconvert_exporter": "python",
   "pygments_lexer": "ipython3",
   "version": "3.11.2"
  },
  "orig_nbformat": 4
 },
 "nbformat": 4,
 "nbformat_minor": 2
}
