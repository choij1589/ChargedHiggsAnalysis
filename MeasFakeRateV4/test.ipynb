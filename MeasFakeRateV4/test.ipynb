{
 "cells": [
  {
   "cell_type": "code",
   "execution_count": 10,
   "metadata": {},
   "outputs": [],
   "source": [
    "import ROOT\n",
    "from itertools import product\n",
    "from array import array\n",
    "from math import pow, sqrt"
   ]
  },
  {
   "cell_type": "code",
   "execution_count": 11,
   "metadata": {},
   "outputs": [],
   "source": [
    "f = ROOT.TFile.Open(\"../results/2017/fakerate_muon.root\")\n",
    "\n",
    "#ptcorr_bins = [10., 15., 20., 25., 35., 50., 70., 100.]   # 20, 35\n",
    "#abseta_bins = [0., 0.8, 1.579, 2.5]\n",
    "\n",
    "ptcorr_bins = [10., 15., 20., 30., 50., 70., 100.]        # 30\n",
    "abseta_bins = [0., 0.9, 1.6, 2.4]"
   ]
  },
  {
   "cell_type": "code",
   "execution_count": 12,
   "metadata": {},
   "outputs": [
    {
     "name": "stdout",
     "output_type": "stream",
     "text": [
      "[0.0, 10.0] total unc. = 0.0764 (21.07)%\n",
      "[0.0, 15.0] total unc. = 0.0289 (15.06)%\n",
      "[0.0, 20.0] total unc. = 0.0871 (69.38)%\n",
      "[0.0, 30.0] total unc. = 0.0609 (98.42)%\n",
      "[0.0, 50.0] total unc. = 0.3833 (869.30)%\n",
      "[0.0, 70.0] total unc. = 13.0785 (15914.51)%\n",
      "[0.9, 10.0] total unc. = 0.0139 (3.52)%\n",
      "[0.9, 15.0] total unc. = 0.0502 (24.00)%\n",
      "[0.9, 20.0] total unc. = 0.1188 (74.67)%\n",
      "[0.9, 30.0] total unc. = 0.0669 (75.01)%\n",
      "[0.9, 50.0] total unc. = 0.4376 (605.34)%\n",
      "[0.9, 70.0] total unc. = 5.6352 (4841.06)%\n",
      "[1.6, 10.0] total unc. = 0.0182 (4.15)%\n",
      "[1.6, 15.0] total unc. = 0.0895 (34.66)%\n",
      "[1.6, 20.0] total unc. = 0.0310 (15.37)%\n",
      "[1.6, 30.0] total unc. = 0.0733 (54.91)%\n",
      "[1.6, 50.0] total unc. = 0.4983 (386.36)%\n",
      "[1.6, 70.0] total unc. = 3.5284 (1752.27)%\n"
     ]
    }
   ],
   "source": [
    "# estimate error bin by bin\n",
    "# and add up the histograms\n",
    "# muon\n",
    "# systematics: Central, PromptNormUp, PromptNormDown, MotherJetPtUp, MotherJetPtDown, RequireHeavyTag\n",
    "fakerate = ROOT.TH2D(\"fakerate_muon\", \"\", len(abseta_bins)-1, array('d', abseta_bins), len(ptcorr_bins)-1, array('d', ptcorr_bins))\n",
    "\n",
    "for abseta, ptcorr in product(abseta_bins[:-1], ptcorr_bins[:-1]):\n",
    "    suffix = \"Mu8\" if ptcorr < 30. else \"Mu17\"\n",
    "    h = f.Get(f\"fakerate_MeasFake{suffix}_Central\");   \n",
    "    h_prUp = f.Get(f\"fakerate_MeasFake{suffix}_PromptNormUp\")\n",
    "    h_prDown = f.Get(f\"fakerate_MeasFake{suffix}_PromptNormDown\")\n",
    "    h_jetup = f.Get(f\"fakerate_MeasFake{suffix}_MotherJetPtUp\")\n",
    "    h_jetdown = f.Get(f\"fakerate_MeasFake{suffix}_MotherJetPtDown\") \n",
    "    h_btag = f.Get(f\"fakerate_MeasFake{suffix}_RequireHeavyTag\")\n",
    "    h_qcd = f.Get(f\"fakerate_MeasFake{suffix}_QCD\")\n",
    "    \n",
    "    # get fake values\n",
    "    thisbin = h.FindBin(abseta+1e-5, ptcorr+1e-5)\n",
    "    thisContent = h.GetBinContent(thisbin) \n",
    "    err_pr = max(abs(h_jetup.GetBinContent(thisbin)-thisContent), abs(h_jetdown.GetBinContent(thisbin)-thisContent))\n",
    "    err_jetpt = max(abs(h_prUp.GetBinContent(thisbin)-thisContent), abs(h_prDown.GetBinContent(thisbin)-thisContent))\n",
    "    err_heavytag = abs(h_btag.GetBinContent(thisbin)-thisContent)\n",
    "    err_qcd = abs(h_qcd.GetBinContent(thisbin)-thisContent)\n",
    "    totalUnc = sqrt(pow(err_pr, 2) + pow(err_jetpt, 2) + pow(err_heavytag, 2))\n",
    "    if totalUnc > err_qcd: pass\n",
    "    else:                  totalUnc = err_qcd\n",
    "    #print(thisContent)\n",
    "    #print(err_pr)\n",
    "    #print(err_jetpt)\n",
    "    #print(err_heavytag)\n",
    "    #print(totalUnc)\n",
    "    #break\n",
    "    \n",
    "    fakerate.SetBinContent(thisbin, thisContent)\n",
    "    fakerate.SetBinError(thisbin, totalUnc)\n",
    "    print(f\"[{abseta}, {ptcorr}] total unc. = {totalUnc:.4f} ({totalUnc/thisContent*100:.2f})%\")\n",
    "\n"
   ]
  },
  {
   "cell_type": "code",
   "execution_count": 13,
   "metadata": {},
   "outputs": [
    {
     "name": "stderr",
     "output_type": "stream",
     "text": [
      "Warning in <TCanvas::Constructor>: Deleting canvas with same name: c\n"
     ]
    }
   ],
   "source": [
    "# prepare canvas and legend\n",
    "c = ROOT.TCanvas(\"c\", \"\", 720, 800)\n",
    "pad_up = ROOT.TPad(\"pad_up\", \"\", 0, 0.25, 1, 1)\n",
    "pad_up.SetBottomMargin(0.02)\n",
    "pad_down = ROOT.TPad(\"pad_down\", \"\", 0, 0, 1, 0.25)\n",
    "pad_down.SetTopMargin(0.08)\n",
    "pad_down.SetBottomMargin(0.3)\n",
    "pad_down.SetGrid()\n",
    "legend = ROOT.TLegend(0.65, 0.50, 0.9, 0.87)\n",
    "legend.SetFillStyle(0)\n",
    "legend.SetBorderSize(0)\n",
    "\n",
    "info = ROOT.TLatex()\n",
    "info.SetTextSize(0.035)\n",
    "info.SetTextFont(42)\n",
    "logo = ROOT.TLatex()\n",
    "logo.SetTextSize(0.04)\n",
    "logo.SetTextFont(61)\n",
    "extra_logo = ROOT.TLatex()\n",
    "extra_logo.SetTextSize(0.035)\n",
    "extra_logo.SetTextFont(52)"
   ]
  },
  {
   "cell_type": "code",
   "execution_count": 14,
   "metadata": {},
   "outputs": [],
   "source": [
    "h = fakerate; h.SetDirectory(0)\n",
    "projections = {}\n",
    "projections[\"eta1\"] = h.ProjectionY(f\"eta{str(abseta_bins[0])}to{str(abseta_bins[1])}\", 1, 1)\n",
    "projections[\"eta2\"] = h.ProjectionY(f\"eta{str(abseta_bins[1])}to{str(abseta_bins[2])}\", 2, 2)\n",
    "projections[\"eta3\"] = h.ProjectionY(f\"eta{str(abseta_bins[2])}to{str(abseta_bins[3])}\", 3, 3)\n",
    "\n",
    "projections[\"eta1\"].SetLineColor(ROOT.kRed)\n",
    "projections[\"eta2\"].SetLineColor(ROOT.kGreen)\n",
    "projections[\"eta3\"].SetLineColor(ROOT.kBlue)\n",
    "\n",
    "legend.AddEntry(projections[\"eta1\"], f\"{abseta_bins[0]} < |#eta| < {abseta_bins[1]}\", \"lep\")\n",
    "legend.AddEntry(projections[\"eta2\"], f\"{abseta_bins[1]} < |#eta| < {abseta_bins[2]}\", \"lep\")\n",
    "legend.AddEntry(projections[\"eta3\"], f\"{abseta_bins[2]} < |#eta| < {abseta_bins[3]}\", \"lep\")\n",
    "\n",
    "ratios = {}\n",
    "ratios['eta1'] = projections['eta1'].Clone(\"ratio1\")\n",
    "ratios['eta2'] = projections['eta2'].Clone(\"ratio2\")\n",
    "ratios['eta3'] = projections['eta3'].Clone(\"ratio3\")\n",
    "\n",
    "for bin in range(1, ratios['eta1'].GetNbinsX()+1):\n",
    "    content = ratios['eta1'].GetBinError(bin)/ratios['eta1'].GetBinContent(bin)\n",
    "    ratios['eta1'].SetBinContent(bin, content)\n",
    "    ratios['eta1'].SetBinError(bin, 0)\n",
    "    ratios['eta1'].SetMarkerColor(2)\n",
    "for bin in range(1, ratios['eta2'].GetNbinsX()+1):\n",
    "    content = ratios['eta2'].GetBinError(bin)/ratios['eta2'].GetBinContent(bin)\n",
    "    ratios['eta2'].SetBinContent(bin, content)\n",
    "    ratios['eta2'].SetBinError(bin, 0)\n",
    "    ratios['eta3'].SetMarkerColor(3)\n",
    "for bin in range(1, ratios['eta3'].GetNbinsX()+1):\n",
    "    content = ratios['eta3'].GetBinError(bin)/ratios['eta3'].GetBinContent(bin)\n",
    "    ratios['eta3'].SetBinContent(bin, content)\n",
    "    ratios['eta3'].SetBinError(bin, 0)\n",
    "    ratios['eta3'].SetMarkerColor(4)\n",
    "\n",
    "for hist in projections.values():\n",
    "    hist.SetTitle(\"\")\n",
    "    hist.SetStats(0)\n",
    "    hist.SetLineWidth(2)\n",
    "    hist.GetXaxis().SetLabelSize(0)\n",
    "    hist.GetXaxis().SetTitle(\"p_{T}^{corr}\")\n",
    "    hist.GetXaxis().SetRangeUser(10., 50.)\n",
    "    hist.GetYaxis().SetRangeUser(0., 1.) \n",
    "    hist.GetYaxis().SetTitle(\"fake rate (#mu)\")\n",
    "    \n",
    "for hist in ratios.values():\n",
    "    hist.SetStats(0)\n",
    "    hist.SetTitle(\"\")\n",
    "    hist.GetXaxis().SetTitle(\"p_{T}^{corr}\")\n",
    "    hist.GetXaxis().SetRangeUser(10., 50.)\n",
    "    hist.GetXaxis().SetTitleSize(0.1)\n",
    "    hist.GetXaxis().SetTitleOffset(0.8)\n",
    "    hist.GetXaxis().SetLabelSize(0.08)\n",
    "    hist.GetYaxis().SetRangeUser(0., 1.)\n",
    "    hist.GetYaxis().SetTitle(\"#Delta fr/fr\")\n",
    "    hist.GetYaxis().CenterTitle()\n",
    "    hist.GetYaxis().SetTitleSize(0.1)\n",
    "    hist.GetYaxis().SetTitleOffset(0.4)\n",
    "    hist.GetYaxis().SetLabelSize(0.08)\n",
    "    hist.SetMarkerStyle(8)\n",
    "    hist.SetMarkerSize(0.7)"
   ]
  },
  {
   "cell_type": "code",
   "execution_count": 15,
   "metadata": {},
   "outputs": [
    {
     "data": {
      "image/png": "[encoded data removed]",
      "text/plain": [
       "<IPython.core.display.Image object>"
      ]
     },
     "metadata": {},
     "output_type": "display_data"
    }
   ],
   "source": [
    "pad_up.cd()\n",
    "projections[\"eta1\"].Draw()\n",
    "projections[\"eta2\"].Draw(\"same\")\n",
    "projections[\"eta3\"].Draw(\"same\")\n",
    "legend.Draw(\"same\")\n",
    "info.DrawLatexNDC(0.80, 0.91, \"(13TeV)\")\n",
    "logo.DrawLatexNDC(0.15, 0.83, \"CMS\")\n",
    "extra_logo.DrawLatexNDC(0.15, 0.78, \"Work in progress\")\n",
    "pad_down.cd()\n",
    "#ratios[\"eta1\"].Draw(\"L\")\n",
    "ratios[\"eta1\"].Draw(\"P\")\n",
    "ratios[\"eta2\"].Draw(\"same&P\")\n",
    "ratios[\"eta3\"].Draw(\"same&P\")\n",
    "c.cd()\n",
    "pad_up.Draw()\n",
    "pad_down.Draw()\n",
    "c.Draw()"
   ]
  },
  {
   "cell_type": "code",
   "execution_count": null,
   "metadata": {},
   "outputs": [],
   "source": []
  }
 ],
 "metadata": {
  "kernelspec": {
   "display_name": "torch",
   "language": "python",
   "name": "python3"
  },
  "language_info": {
   "codemirror_mode": {
    "name": "ipython",
    "version": 3
   },
   "file_extension": ".py",
   "mimetype": "text/x-python",
   "name": "python",
   "nbconvert_exporter": "python",
   "pygments_lexer": "ipython3",
   "version": "3.11.4"
  },
  "orig_nbformat": 4
 },
 "nbformat": 4,
 "nbformat_minor": 2
}
