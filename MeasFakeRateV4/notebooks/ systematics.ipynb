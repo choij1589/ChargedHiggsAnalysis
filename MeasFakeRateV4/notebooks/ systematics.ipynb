{
 "cells": [
  {
   "cell_type": "code",
   "execution_count": 1,
   "metadata": {},
   "outputs": [
    {
     "name": "stdout",
     "output_type": "stream",
     "text": [
      "Welcome to JupyROOT 6.28/04\n"
     ]
    }
   ],
   "source": [
    "import ROOT"
   ]
  },
  {
   "cell_type": "code",
   "execution_count": 23,
   "metadata": {},
   "outputs": [
    {
     "name": "stdout",
     "output_type": "stream",
     "text": [
      "TFile**\t\t/home/choij/workspace/ChargedHiggsAnalysis/data/ClosFakeRate/2017/Skim1E2Mu__/ClosFakeRate_SkimTree_SS2lOR3l_TTLL_powheg.root\t\n",
      " TFile*\t\t/home/choij/workspace/ChargedHiggsAnalysis/data/ClosFakeRate/2017/Skim1E2Mu__/ClosFakeRate_SkimTree_SS2lOR3l_TTLL_powheg.root\t\n",
      "  KEY: TDirectoryFile\tSB1E2Mu;1\tSB1E2Mu/Central/METv\n",
      "  KEY: TDirectoryFile\tSR1E2Mu;1\tSR1E2Mu/Central/METv\n"
     ]
    }
   ],
   "source": [
    "f = ROOT.TFile(\"/home/choij/workspace/ChargedHiggsAnalysis/data/ClosFakeRate/2017/Skim1E2Mu__/ClosFakeRate_SkimTree_SS2lOR3l_TTLL_powheg.root\")\n",
    "f.ls()"
   ]
  },
  {
   "cell_type": "code",
   "execution_count": 51,
   "metadata": {},
   "outputs": [],
   "source": [
    "h_obs = f.Get(\"SR1E2Mu/Central/electrons/1/pt\"); h_obs.Rebin(5)\n",
    "h_exp = f.Get(\"SB1E2Mu/Central/electrons/1/pt\"); h_exp.Rebin(5); h_exp.SetLineColor(ROOT.kBlack)\n",
    "h_exp_up = h_exp.Clone(\"up\"); h_exp_up.Scale(1.8)\n",
    "h_exp_down = h_exp.Clone(\"down\"); h_exp_down.Scale(0.2)"
   ]
  },
  {
   "cell_type": "code",
   "execution_count": 52,
   "metadata": {},
   "outputs": [
    {
     "data": {
      "image/png": "[encoded data removed]",
      "text/plain": [
       "<IPython.core.display.Image object>"
      ]
     },
     "metadata": {},
     "output_type": "display_data"
    }
   ],
   "source": [
    "c = ROOT.TCanvas()\n",
    "c.cd()\n",
    "h_exp_up.Draw(\"hist\")\n",
    "h_exp.Draw(\"hist&same\")\n",
    "h_exp_down.Draw(\"hist&same\")\n",
    "h_obs.Draw(\"p&same\")\n",
    "c.Draw()"
   ]
  },
  {
   "cell_type": "code",
   "execution_count": null,
   "metadata": {},
   "outputs": [],
   "source": []
  }
 ],
 "metadata": {
  "kernelspec": {
   "display_name": "torch",
   "language": "python",
   "name": "python3"
  },
  "language_info": {
   "codemirror_mode": {
    "name": "ipython",
    "version": 3
   },
   "file_extension": ".py",
   "mimetype": "text/x-python",
   "name": "python",
   "nbconvert_exporter": "python",
   "pygments_lexer": "ipython3",
   "version": "3.11.4"
  },
  "orig_nbformat": 4
 },
 "nbformat": 4,
 "nbformat_minor": 2
}
