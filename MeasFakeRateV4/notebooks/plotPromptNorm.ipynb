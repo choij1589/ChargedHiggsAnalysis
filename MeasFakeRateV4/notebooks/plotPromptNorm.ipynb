{
 "cells": [
  {
   "cell_type": "code",
   "execution_count": 1,
   "metadata": {},
   "outputs": [
    {
     "name": "stdout",
     "output_type": "stream",
     "text": [
      "Welcome to JupyROOT 6.28/04\n"
     ]
    }
   ],
   "source": [
    "import os, sys; sys.path.append(\"/home/choij/workspace/ChargedHiggsAnalysis/libPython\")\n",
    "import ROOT\n",
    "from math import pow, sqrt\n",
    "from Plotter import ComparisonCanvas"
   ]
  },
  {
   "cell_type": "code",
   "execution_count": 74,
   "metadata": {},
   "outputs": [],
   "source": [
    "ERA = \"2017\"\n",
    "HLTPATH = \"MeasFakeEl8\"\n",
    "ID = \"tight\"\n",
    "\n",
    "WORKDIR = \"/home/choij/workspace/ChargedHiggsAnalysis\"\n",
    "\n",
    "trigpathDict = {\n",
    "    \"MeasFakeMu8\": \"HLT_Mu8_TrkIsoVVL_v\",\n",
    "    \"MeasFakeMu17\": \"HLT_Mu17_TrkIsoVVL_v\",\n",
    "    \"MeasFakeEl8\": \"HLT_Ele8_CaloIdL_TrackIdL_IsoVL_PFJet30_v\",\n",
    "    \"MeasFakeEl12\": \"HLT_Ele12_CaloIdL_TrackIdL_IsoVL_PFJet30_v\",\n",
    "    \"MeasFakeEl23\": \"HLT_Ele23_CaloIdL_TrackIdL_IsoVL_PFJet30_v\"\n",
    "}"
   ]
  },
  {
   "cell_type": "code",
   "execution_count": 85,
   "metadata": {},
   "outputs": [],
   "source": [
    "## sample lists\n",
    "DataStream = \"\"\n",
    "if \"El\" in HLTPATH:\n",
    "    if \"2016\" in ERA:  DataStream = \"DoubleEG\"\n",
    "    if \"2017\" in ERA:  DataStream = \"SingleElectron\"\n",
    "    if \"2018\" in ERA:  DataStream = \"EGamma\"\n",
    "if \"Mu\" in HLTPATH:\n",
    "    DataStream = \"DoubleMuon\"\n",
    "    \n",
    "W  = [\"WJets_MG\"]\n",
    "DY = [\"DYJets\", \"DYJets10to50_MG\"]\n",
    "TT = [\"TTLL_powheg\", \"TTLJ_powheg\"]\n",
    "VV = [\"WW_pythia\", \"WZ_pythia\", \"ZZ_pythia\"]\n",
    "ST = [\"SingleTop_sch_Lep\", \"SingleTop_tch_top_Incl\", \"SingleTop_tch_antitop_Incl\",\n",
    "      \"SingleTop_tW_top_NoFullyHad\", \"SingleTop_tW_antitop_NoFullyHad\"]\n",
    "MCList = W + DY + TT + VV + ST"
   ]
  },
  {
   "cell_type": "code",
   "execution_count": 86,
   "metadata": {},
   "outputs": [],
   "source": [
    "## systematics\n",
    "SYSTs = []\n",
    "if \"El\" in HLTPATH:\n",
    "    SYSTs.append((\"PileupReweight\"))\n",
    "    SYSTs.append((\"L1PrefireUp\", \"L1PrefireDown\"))\n",
    "    SYSTs.append((\"ElectronRecoSFUp\", \"ElectronRecoSFDown\"))\n",
    "    SYSTs.append((\"JetResUp\", \"JetResDown\"))\n",
    "    SYSTs.append((\"JetEnUp\", \"JetEnDown\"))\n",
    "    SYSTs.append((\"ElectronResUp\", \"ElectronResDown\"))\n",
    "    SYSTs.append((\"ElectronEnUp\", \"ElectronEnDown\"))\n",
    "    SYSTs.append((\"MuonEnUp\", \"MuonEnDown\"))\n",
    "if \"Mu\" in HLTPATH:\n",
    "    SYSTs.append((\"PileupReweight\"))\n",
    "    SYSTs.append((\"L1PrefireUp\", \"L1PrefireDown\"))\n",
    "    SYSTs.append((\"MuonRecoSFUp\", \"MuonRecoSFDown\"))\n",
    "    SYSTs.append((\"JetResUp\", \"JetResDown\"))\n",
    "    SYSTs.append((\"JetEnUp\", \"JetEnDown\"))\n",
    "    SYSTs.append((\"ElectronResUp\", \"ElectronResDown\"))\n",
    "    SYSTs.append((\"ElectronEnUp\", \"ElectronEnDown\"))\n",
    "    SYSTs.append((\"MuonEnUp\", \"MuonEnDown\"))"
   ]
  },
  {
   "cell_type": "code",
   "execution_count": 87,
   "metadata": {},
   "outputs": [
    {
     "name": "stdout",
     "output_type": "stream",
     "text": [
      "MC histograms scaled to 0.000128312657397313\n"
     ]
    }
   ],
   "source": [
    "## get histograms\n",
    "HISTs = {}\n",
    "COLORs = {}\n",
    "\n",
    "file_path = f\"{WORKDIR}/data/MeasFakeRateV4/{ERA}/{HLTPATH}__RunSyst__/DATA/MeasFakeRateV4_{DataStream}.root\"\n",
    "assert os.path.exists(file_path)\n",
    "f = ROOT.TFile.Open(file_path)\n",
    "data = f.Get(f\"ZEnriched/{ID}/Central/pair/mass\"); data.SetDirectory(0)\n",
    "f.Close()\n",
    "\n",
    "for sample in MCList:\n",
    "    file_path = f\"{WORKDIR}/data/MeasFakeRateV4/{ERA}/{HLTPATH}__RunSyst__/MeasFakeRateV4_{sample}.root\"\n",
    "    assert os.path.exists(file_path)\n",
    "    # get central histogram\n",
    "    try:\n",
    "        f = ROOT.TFile.Open(file_path)\n",
    "        h = f.Get(f\"ZEnriched/{ID}/Central/pair/mass\");   h.SetDirectory(0)\n",
    "        # get systematic histograms\n",
    "        hSysts = []\n",
    "        for systset in SYSTs:\n",
    "            if len(systset) == 2:\n",
    "                systUp, systDown = systset\n",
    "                h_up = f.Get(f\"ZEnriched/{ID}/{systUp}/pair/mass\"); h_up.SetDirectory(0)\n",
    "                h_down = f.Get(f\"ZEnriched/{ID}/{systDown}/pair/mass\"); h_down.SetDirectory(0) \n",
    "                hSysts.append((h_up, h_down))\n",
    "            else:\n",
    "                # only one systematic source\n",
    "                syst = systset\n",
    "                h_syst = f.Get(f\"ZEnriched/{ID}/{syst}/pair/mass\"); h_syst.SetDirectory(0)\n",
    "                hSysts.append((h_syst))\n",
    "        f.Close()\n",
    "    except:\n",
    "        print(sample)\n",
    "        continue\n",
    "    \n",
    "    # estimate total unc. bin by bin\n",
    "    for bin in range(h.GetNcells()):\n",
    "        stat_unc = h.GetBinError(bin)\n",
    "        envelops = []\n",
    "        for hset in hSysts:\n",
    "            if len(hset) == 2:\n",
    "                h_up, h_down = hset\n",
    "                systUp = abs(h_up.GetBinContent(bin) - h.GetBinContent(bin))\n",
    "                systDown = abs(h_up.GetBinContent(bin) - h.GetBinContent(bin))\n",
    "                envelops.append(max(systUp, systDown))\n",
    "            else:\n",
    "                h_syst = hset\n",
    "                syst = abs(h_syst.GetBinContent(bin) - h.GetBinContent(bin))\n",
    "                envelops.append(syst)\n",
    "\n",
    "            total_unc = pow(stat_unc, 2)\n",
    "            for unc in envelops:\n",
    "                total_unc += pow(unc, 2)\n",
    "            total_unc = sqrt(total_unc)\n",
    "            h.SetBinError(bin, total_unc)\n",
    "    HISTs[sample] = h.Clone(sample)\n",
    "\n",
    "# now scale MC histograms\n",
    "rate_data = data.Integral()\n",
    "rate_mc = 0.\n",
    "for sample in MCList:\n",
    "    rate_mc += HISTs[sample].Integral()\n",
    "print(f\"MC histograms scaled to {rate_data/rate_mc}\")\n",
    "for hist in HISTs.values(): hist.Scale(rate_data/rate_mc)"
   ]
  },
  {
   "cell_type": "code",
   "execution_count": 88,
   "metadata": {},
   "outputs": [],
   "source": [
    "#### merge backgrounds\n",
    "def add_hist(name, hist, histDict):\n",
    "    # content of dictionary should be initialized as \"None\"\n",
    "    if histDict[name] is None:\n",
    "        histDict[name] = hist.Clone(name)\n",
    "    else:\n",
    "        histDict[name].Add(hist)\n",
    "        \n",
    "temp_dict = {}\n",
    "temp_dict[\"W\"]  = None\n",
    "temp_dict[\"DY\"] = None\n",
    "temp_dict[\"TT\"] = None\n",
    "temp_dict[\"VV\"] = None \n",
    "temp_dict[\"ST\"] = None\n",
    "\n",
    "for sample in W:\n",
    "    if not sample in HISTs.keys(): continue\n",
    "    add_hist(\"W\", HISTs[sample], temp_dict)\n",
    "for sample in DY:\n",
    "    if not sample in HISTs.keys(): continue\n",
    "    add_hist(\"DY\", HISTs[sample], temp_dict)\n",
    "for sample in TT:\n",
    "    if not sample in HISTs.keys(): continue\n",
    "    add_hist(\"TT\", HISTs[sample], temp_dict)\n",
    "for sample in VV:\n",
    "    if not sample in HISTs.keys(): continue\n",
    "    add_hist(\"VV\", HISTs[sample], temp_dict)\n",
    "for sample in ST:\n",
    "    if not sample in HISTs.keys(): continue\n",
    "    add_hist(\"ST\", HISTs[sample], temp_dict)\n",
    "\n",
    "#### remove none histograms\n",
    "BKGs = {}\n",
    "for key, value in temp_dict.items():\n",
    "    if value is None: continue\n",
    "    BKGs[key] = value"
   ]
  },
  {
   "cell_type": "code",
   "execution_count": 89,
   "metadata": {},
   "outputs": [],
   "source": [
    "COLORs[\"data\"] = ROOT.kBlack\n",
    "COLORs[\"W\"]  = ROOT.kMagenta\n",
    "COLORs[\"DY\"] = ROOT.kGray\n",
    "COLORs[\"TT\"] = ROOT.kViolet\n",
    "COLORs[\"VV\"] = ROOT.kGreen\n",
    "COLORs[\"ST\"] = ROOT.kAzure"
   ]
  },
  {
   "cell_type": "code",
   "execution_count": 102,
   "metadata": {},
   "outputs": [],
   "source": [
    "xTitle = \"\"\n",
    "if \"Mu\" in HLTPATH:\n",
    "    xTitle = \"M(#mu^{+}#mu^{-})\"\n",
    "    xRange = [75., 108.]\n",
    "if \"El\" in HLTPATH:\n",
    "    xTitle = \"M(e^{+}e^{-})\"\n",
    "    xRange = [55., 125.]\n",
    "\n",
    "config = {\"era\": ERA,\n",
    "          \"xTitle\": xTitle,\n",
    "          \"yTitle\": \"Events / GeV\",\n",
    "          \"xRange\": xRange,}\n",
    "\n",
    "textInfo = {\n",
    "    \"CMS\": [0.04, 61, [0.12, 0.91]],\n",
    "    \"Work in progress\": [0.035, 52, [0.21, 0.91]],\n",
    "    \"Prescaled (13 TeV)\": [0.035, 42, [0.665, 0.91]],\n",
    "    trigpathDict[HLTPATH]: [0.035, 42, [0.17, 0.83]],\n",
    "    f\"{ERA} / {ID.upper()} ID\": [0.035, 42, [0.17, 0.77]]\n",
    "}"
   ]
  },
  {
   "cell_type": "code",
   "execution_count": 103,
   "metadata": {},
   "outputs": [
    {
     "name": "stderr",
     "output_type": "stream",
     "text": [
      "Warning in <TCanvas::Constructor>: Deleting canvas with same name: c\n"
     ]
    }
   ],
   "source": [
    "c = ComparisonCanvas(config=config)\n",
    "c.drawBackgrounds(BKGs, COLORs)\n",
    "c.drawData(data)\n",
    "c.drawRatio()\n",
    "c.drawLegend()\n",
    "c.finalize(textInfo=textInfo)"
   ]
  },
  {
   "cell_type": "code",
   "execution_count": 104,
   "metadata": {},
   "outputs": [
    {
     "data": {
      "image/png": "[encoded data removed]",
      "text/plain": [
       "<IPython.core.display.Image object>"
      ]
     },
     "metadata": {},
     "output_type": "display_data"
    }
   ],
   "source": [
    "c.draw()"
   ]
  },
  {
   "cell_type": "code",
   "execution_count": null,
   "metadata": {},
   "outputs": [],
   "source": []
  },
  {
   "cell_type": "code",
   "execution_count": null,
   "metadata": {},
   "outputs": [],
   "source": []
  }
 ],
 "metadata": {
  "kernelspec": {
   "display_name": "torch",
   "language": "python",
   "name": "python3"
  },
  "language_info": {
   "codemirror_mode": {
    "name": "ipython",
    "version": 3
   },
   "file_extension": ".py",
   "mimetype": "text/x-python",
   "name": "python",
   "nbconvert_exporter": "python",
   "pygments_lexer": "ipython3",
   "version": "3.11.4"
  },
  "orig_nbformat": 4
 },
 "nbformat": 4,
 "nbformat_minor": 2
}
