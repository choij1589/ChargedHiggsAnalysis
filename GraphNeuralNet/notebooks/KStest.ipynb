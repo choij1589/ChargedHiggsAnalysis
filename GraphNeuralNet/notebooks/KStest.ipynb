{
 "cells": [
  {
   "cell_type": "code",
   "execution_count": 1,
   "metadata": {},
   "outputs": [
    {
     "name": "stdout",
     "output_type": "stream",
     "text": [
      "Welcome to JupyROOT 6.26/08\n"
     ]
    }
   ],
   "source": [
    "import os, sys; sys.path.append(\"/home/choij/workspace/ChargedHiggsAnalysis/libPython\")\n",
    "import numpy as np\n",
    "import pandas as pd\n",
    "import torch\n",
    "from torch_geometric.loader import DataLoader\n",
    "from sklearn.utils import shuffle\n",
    "from ROOT import TFile, TTree, TH1D\n",
    "from Preprocess import rtfileToDataList, GraphDataset\n",
    "from Models import ParticleNet, ParticleNetLite\n",
    "\n",
    "WORKDIR = \"/home/choij/workspace/ChargedHiggsAnalysis\"\n",
    "CHANNEL = \"Skim3Mu\"\n",
    "SIG = \"MHc-70_MA-65\"\n",
    "BKG = \"TTLL_powheg\""
   ]
  },
  {
   "cell_type": "code",
   "execution_count": 2,
   "metadata": {},
   "outputs": [],
   "source": [
    "def readFitness(SIG, BKG):\n",
    "    BASEDIR = f\"{WORKDIR}/GraphNeuralNet/{CHANNEL}/{SIG}_vs_{BKG}\"\n",
    "    fitnessDict = {}\n",
    "    for i in range(5):\n",
    "        csv = pd.read_csv(f\"{BASEDIR}/CSV/GAOptimGen{i}.csv\").transpose()\n",
    "        thisFitness = []\n",
    "        for idx in csv.index: thisFitness.append(float(csv.loc[idx, 'fitness']))\n",
    "        fitnessDict[f\"Gen{i}\"] = thisFitness\n",
    "\n",
    "    return fitnessDict\n",
    "\n",
    "\n",
    "### Get chromosomes(i.e. hyperparameters) with best fintess generation\n",
    "def getChromosomes(SIG, BKG):\n",
    "    # get mean fitness values\n",
    "    fitness = readFitness(SIG, BKG)\n",
    "    meanFitness = {}\n",
    "    for key, value in fitness.items(): meanFitness[key] = np.mean(value)\n",
    "\n",
    "    # choose lowest mean fitness generation\n",
    "    minFitness = sorted(meanFitness.items(), key=lambda item: item[1])[0]\n",
    "    gen = minFitness[0]\n",
    "\n",
    "    # read csv file\n",
    "    BASEDIR = f\"{WORKDIR}/GraphNeuralNet/{CHANNEL}/{SIG}_vs_{BKG}\"\n",
    "    csv = pd.read_csv(f\"{BASEDIR}/CSV/GAOptim{gen}.csv\").transpose()\n",
    "\n",
    "    return gen, csv"
   ]
  },
  {
   "cell_type": "code",
   "execution_count": 3,
   "metadata": {},
   "outputs": [
    {
     "name": "stdout",
     "output_type": "stream",
     "text": [
      "@@@@ no. of dataList ends with 105000\n",
      "@@@@ no. of dataList ends with 105000\n"
     ]
    }
   ],
   "source": [
    "##### load datasets\n",
    "rtSig = TFile.Open(f\"{WORKDIR}/data/Combined/{CHANNEL}__/{SIG}.root\")\n",
    "rtBkg = TFile.Open(f\"{WORKDIR}/data/Combined/{CHANNEL}__/{BKG}.root\")\n",
    "sigDataList = shuffle(rtfileToDataList(rtSig, isSignal=True), random_state=42); rtSig.Close()\n",
    "bkgDataList = shuffle(rtfileToDataList(rtBkg, isSignal=False), random_state=42); rtBkg.Close()\n",
    "dataList = shuffle(sigDataList+bkgDataList, random_state=42)\n",
    "\n",
    "trainset = GraphDataset(dataList[:int(len(dataList)*0.6)])\n",
    "validset = GraphDataset(dataList[int(len(dataList)*0.6):int(len(dataList)*0.7)])\n",
    "testset  = GraphDataset(dataList[int(len(dataList)*0.7):])\n",
    "\n",
    "trainLoader = DataLoader(trainset, batch_size=1024, shuffle=False, pin_memory=True)\n",
    "validLoader = DataLoader(validset, batch_size=1024, shuffle=False, pin_memory=True)\n",
    "testLoader  = DataLoader(testset, batch_size=1024, shuffle=False, pin_memory=True)"
   ]
  },
  {
   "cell_type": "code",
   "execution_count": 4,
   "metadata": {},
   "outputs": [],
   "source": [
    "##### load models\n",
    "gen, csv = getChromosomes(SIG, BKG)\n",
    "models = {}\n",
    "for idx in csv.index:\n",
    "    modelName, optimizer, initLR, scheduler = eval(csv.loc[idx, 'chromosome'])\n",
    "    modelPath = f\"{WORKDIR}/GraphNeuralNet/{CHANNEL}/{SIG}_vs_{BKG}/models/{modelName}_{optimizer}_initLR-{str(initLR).replace('.', 'p')}_{scheduler}.pt\"\n",
    "    if modelName == \"ParticleNet\": model = ParticleNet(9, 2)\n",
    "    else:                          model = ParticleNetLite(9, 2)\n",
    "    model.load_state_dict(torch.load(modelPath, map_location=torch.device('cpu')))\n",
    "\n",
    "    models[idx] = model"
   ]
  },
  {
   "cell_type": "code",
   "execution_count": 34,
   "metadata": {},
   "outputs": [],
   "source": [
    "model = models['0']\n",
    "model.eval()\n",
    "\n",
    "hSigTrainDict = {}\n",
    "hSigTestDict = {}\n",
    "hBkgTrainDict = {}\n",
    "hBkgTestDict = {}\n",
    "hSigTrain = TH1D(\"hSigTrain\", \"\", 1000, 0., 1.)\n",
    "hSigTest = TH1D(\"hSigTest\", \"\", 1000, 0., 1.)\n",
    "\n",
    "for i in range(len(trainLoader)): \n",
    "    hSigTrainDict[i] = TH1D(f\"hSigTrain_{i}\", \"\", 1000, 0., 1.)\n",
    "    hBkgTrainDict[i] = TH1D(f\"hBkgTrain_{i}\", \"\", 1000, 0., 1.)\n",
    "for i in range(len(testLoader)): \n",
    "    hSigTestDict[i] = TH1D(f\"hSigTest_{i}\", \"\", 1000, 0., 1.)\n",
    "    hBkgTestDict[i] = TH1D(f\"hBkgTest_{i}\", \"\", 1000, 0., 1.)\n",
    "\n",
    "for i, data in enumerate(trainLoader):\n",
    "    with torch.no_grad():\n",
    "        out = model(data.x, data.edge_index, data.batch)\n",
    "        for j, score in enumerate(out):\n",
    "            if data.y[j]: \n",
    "                hSigTrainDict[i].Fill(score[1])\n",
    "                hSigTrain.Fill(score[1])\n",
    "            else:         hBkgTrainDict[i].Fill(score[1])\n",
    "            \n",
    "for i, data in enumerate(testLoader):\n",
    "    with torch.no_grad():\n",
    "        out = model(data.x, data.edge_index, data.batch)\n",
    "        for j, score in enumerate(out):\n",
    "            if data.y[j]: \n",
    "                hSigTestDict[i].Fill(score[1])\n",
    "                hSigTest.Fill(score[1])\n",
    "            else:         hBkgTestDict[i].Fill(score[1])"
   ]
  },
  {
   "cell_type": "code",
   "execution_count": 35,
   "metadata": {},
   "outputs": [
    {
     "data": {
      "text/plain": [
       "0.768"
      ]
     },
     "execution_count": 35,
     "metadata": {},
     "output_type": "execute_result"
    }
   ],
   "source": [
    "hSigTrain.KolmogorovTest(hSigTest, option=\"X\")"
   ]
  },
  {
   "cell_type": "code",
   "execution_count": 31,
   "metadata": {},
   "outputs": [
    {
     "name": "stderr",
     "output_type": "stream",
     "text": [
      "Warning in <TROOT::Append>: Replacing existing TH1: hKS (Potential memory leak).\n"
     ]
    }
   ],
   "source": [
    "import random\n",
    "\n",
    "h_ksprob = TH1D(\"hKS\", \"\", 100, 0., 1.)\n",
    "\n",
    "for _ in range(10000):\n",
    "    hSigTrain = random.choice(list(hSigTrainDict.values()))\n",
    "    hSigTest = random.choice(list(hSigTestDict.values())) \n",
    "    ksprob = hSigTrain.KolmogorovTest(hSigTest)\n",
    "    h_ksprob.Fill(ksprob)"
   ]
  },
  {
   "cell_type": "code",
   "execution_count": 32,
   "metadata": {},
   "outputs": [
    {
     "data": {
      "image/png": "[encoded data removed]",
      "text/plain": [
       "<IPython.core.display.Image object>"
      ]
     },
     "metadata": {},
     "output_type": "display_data"
    }
   ],
   "source": [
    "from ROOT import TCanvas\n",
    "\n",
    "can = TCanvas()\n",
    "can.cd()\n",
    "h_ksprob.Draw()\n",
    "can.Draw()"
   ]
  },
  {
   "cell_type": "code",
   "execution_count": null,
   "metadata": {},
   "outputs": [],
   "source": []
  }
 ],
 "metadata": {
  "kernelspec": {
   "display_name": "torch",
   "language": "python",
   "name": "python3"
  },
  "language_info": {
   "codemirror_mode": {
    "name": "ipython",
    "version": 3
   },
   "file_extension": ".py",
   "mimetype": "text/x-python",
   "name": "python",
   "nbconvert_exporter": "python",
   "pygments_lexer": "ipython3",
   "version": "3.10.6 | packaged by conda-forge | (main, Aug 22 2022, 20:35:26) [GCC 10.4.0]"
  },
  "orig_nbformat": 4,
  "vscode": {
   "interpreter": {
    "hash": "52271d38ade95bb6a13d6b9f62707b1e1d13e0b0d12317a3cb0ffc117384cb38"
   }
  }
 },
 "nbformat": 4,
 "nbformat_minor": 2
}
