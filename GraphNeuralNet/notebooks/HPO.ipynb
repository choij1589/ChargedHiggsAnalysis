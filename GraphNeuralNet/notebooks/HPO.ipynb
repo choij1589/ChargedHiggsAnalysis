{
 "cells": [
  {
   "cell_type": "code",
   "execution_count": 2,
   "metadata": {},
   "outputs": [
    {
     "ename": "ImportError",
     "evalue": "cannot import name 'Experiment' from 'syne_tune' (/home/choij/workspace/HPO/syne-tune/syne_tune/__init__.py)",
     "output_type": "error",
     "traceback": [
      "\u001b[0;31m---------------------------------------------------------------------------\u001b[0m",
      "\u001b[0;31mImportError\u001b[0m                               Traceback (most recent call last)",
      "\u001b[1;32m/home/choij/workspace/ChargedHiggsAnalysis/GraphNeuralNet/notebooks/HPO.ipynb Cell 1\u001b[0m line \u001b[0;36m3\n\u001b[1;32m      <a href='vscode-notebook-cell://ssh-remote%2Bchoij1/home/choij/workspace/ChargedHiggsAnalysis/GraphNeuralNet/notebooks/HPO.ipynb#W0sdnNjb2RlLXJlbW90ZQ%3D%3D?line=0'>1</a>\u001b[0m \u001b[39mimport\u001b[39;00m \u001b[39mtorch\u001b[39;00m\n\u001b[1;32m      <a href='vscode-notebook-cell://ssh-remote%2Bchoij1/home/choij/workspace/ChargedHiggsAnalysis/GraphNeuralNet/notebooks/HPO.ipynb#W0sdnNjb2RlLXJlbW90ZQ%3D%3D?line=1'>2</a>\u001b[0m \u001b[39mfrom\u001b[39;00m \u001b[39mtorch_geometric\u001b[39;00m\u001b[39m.\u001b[39;00m\u001b[39mnn\u001b[39;00m \u001b[39mimport\u001b[39;00m MessagePassing\n\u001b[0;32m----> <a href='vscode-notebook-cell://ssh-remote%2Bchoij1/home/choij/workspace/ChargedHiggsAnalysis/GraphNeuralNet/notebooks/HPO.ipynb#W0sdnNjb2RlLXJlbW90ZQ%3D%3D?line=2'>3</a>\u001b[0m \u001b[39mfrom\u001b[39;00m \u001b[39msyne_tune\u001b[39;00m \u001b[39mimport\u001b[39;00m Experiment, BayesianOptimization\n",
      "\u001b[0;31mImportError\u001b[0m: cannot import name 'Experiment' from 'syne_tune' (/home/choij/workspace/HPO/syne-tune/syne_tune/__init__.py)"
     ]
    }
   ],
   "source": [
    "import torch\n",
    "from torch_geometric.nn import MessagePassing\n",
    "from syne import Experiment, BayesianOptimization"
   ]
  },
  {
   "cell_type": "code",
   "execution_count": null,
   "metadata": {},
   "outputs": [],
   "source": []
  }
 ],
 "metadata": {
  "kernelspec": {
   "display_name": "pyg",
   "language": "python",
   "name": "python3"
  },
  "language_info": {
   "codemirror_mode": {
    "name": "ipython",
    "version": 3
   },
   "file_extension": ".py",
   "mimetype": "text/x-python",
   "name": "python",
   "nbconvert_exporter": "python",
   "pygments_lexer": "ipython3",
   "version": "3.1.0"
  }
 },
 "nbformat": 4,
 "nbformat_minor": 2
}
