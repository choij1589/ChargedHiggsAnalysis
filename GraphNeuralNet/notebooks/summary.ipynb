{
 "cells": [
  {
   "cell_type": "code",
   "execution_count": 2,
   "metadata": {},
   "outputs": [],
   "source": [
    "import os, shutil\n",
    "import pandas as pd\n",
    "from itertools import product"
   ]
  },
  {
   "cell_type": "code",
   "execution_count": 3,
   "metadata": {},
   "outputs": [],
   "source": [
    "WORKDIR = \"/home/choij/workspace/ChargedHiggsAnalysis\"\n",
    "\n",
    "CHANNEL = \"Skim3Mu\"\n",
    "\n",
    "SIGNALs = [\"MHc-70_MA-65\", \"MHc-100_MA-95\", \"MHc-130_MA-90\", \"MHc-160_MA-85\", \"MHc-160_MA-120\"]\n",
    "BACKGROUNDs = [\"nonprompt\", \"diboson\", \"ttZ\"]"
   ]
  },
  {
   "cell_type": "code",
   "execution_count": 8,
   "metadata": {},
   "outputs": [
    {
     "name": "stdout",
     "output_type": "stream",
     "text": [
      "0 128 Adam 0.001 CyclicLR\n",
      "0 128 AdamW 0.002 StepLR\n",
      "0 128 AdamW 0.002 StepLR\n",
      "0 128 Adam 0.0005 CyclicLR\n",
      "0 128 Adam 0.002 StepLR\n",
      "0 128 RMSprop 0.0005 CyclicLR\n",
      "2 128 Adam 0.001 StepLR\n",
      "0 128 AdamW 0.002 StepLR\n",
      "4 128 RMSprop 0.0001 CyclicLR\n",
      "0 128 AdamW 0.001 CyclicLR\n",
      "1 128 Adam 0.001 StepLR\n",
      "0 128 Adam 0.002 StepLR\n",
      "1 128 Adam 0.002 StepLR\n",
      "0 128 Adam 0.001 StepLR\n",
      "2 128 RMSprop 0.0001 CyclicLR\n"
     ]
    }
   ],
   "source": [
    "os.makedirs(f\"{WORKDIR}/summary/GraphNeuralNet/{CHANNEL}/models\", exist_ok=True)\n",
    "os.makedirs(f\"{WORKDIR}/summary/GraphNeuralNet/{CHANNEL}/summary\", exist_ok=True)\n",
    "\n",
    "for SIG, BKG in product(SIGNALs, BACKGROUNDs):\n",
    "    try:\n",
    "        csv = pd.Series(pd.read_csv(f\"{WORKDIR}/GraphNeuralNet/{CHANNEL}/{SIG}_vs_{BKG}/results/summary.txt\", header=None, sep=\",\\s\", engine=\"python\").transpose()[0])\n",
    "        modelIdx, nNodes, optimizer, initLR, scheduler = csv[2:7]\n",
    "        print(modelIdx, nNodes, optimizer, initLR, scheduler)\n",
    "        \n",
    "        init_path = f\"{WORKDIR}/GraphNeuralNet/{CHANNEL}/{SIG}_vs_{BKG}/results/summary.txt\"\n",
    "        remap_path = f\"{WORKDIR}/summary/GraphNeuralNet/{CHANNEL}/summary/info-{SIG}_vs_{BKG}.txt\"\n",
    "        shutil.copy2(init_path, remap_path)\n",
    "\n",
    "        init_path = f\"{WORKDIR}/GraphNeuralNet/{CHANNEL}/{SIG}_vs_{BKG}/results/ROC-model{modelIdx}.png\"\n",
    "        remap_path = f\"{WORKDIR}/summary/GraphNeuralNet/{CHANNEL}/summary/ROC-{SIG}_vs_{BKG}.png\"\n",
    "        shutil.copy2(init_path, remap_path)\n",
    "\n",
    "        init_path = f\"{WORKDIR}/GraphNeuralNet/{CHANNEL}/{SIG}_vs_{BKG}/results/training-model{modelIdx}.png\"\n",
    "        remap_path = f\"{WORKDIR}/summary/GraphNeuralNet/{CHANNEL}/summary/training-{SIG}_vs_{BKG}.png\"\n",
    "        shutil.copy2(init_path, remap_path)\n",
    "\n",
    "        model_path = f\"{WORKDIR}/GraphNeuralNet/{CHANNEL}/{SIG}_vs_{BKG}/models/ParticleNet-nNodes{nNodes}_{optimizer}_initLR-{str(initLR).replace('.', 'p')}_{scheduler}.pt\"\n",
    "        remap_path = f\"{WORKDIR}/summary/GraphNeuralNet/{CHANNEL}/models/{SIG}_vs_{BKG}.pt\"\n",
    "        shutil.copy2(model_path, remap_path)\n",
    "    except Exception as e:\n",
    "        print(e)\n",
    "        print(SIG, BKG)"
   ]
  },
  {
   "cell_type": "code",
   "execution_count": null,
   "metadata": {},
   "outputs": [],
   "source": []
  }
 ],
 "metadata": {
  "kernelspec": {
   "display_name": "torch",
   "language": "python",
   "name": "python3"
  },
  "language_info": {
   "codemirror_mode": {
    "name": "ipython",
    "version": 3
   },
   "file_extension": ".py",
   "mimetype": "text/x-python",
   "name": "python",
   "nbconvert_exporter": "python",
   "pygments_lexer": "ipython3",
   "version": "3.11.3"
  },
  "orig_nbformat": 4,
  "vscode": {
   "interpreter": {
    "hash": "52271d38ade95bb6a13d6b9f62707b1e1d13e0b0d12317a3cb0ffc117384cb38"
   }
  }
 },
 "nbformat": 4,
 "nbformat_minor": 2
}
