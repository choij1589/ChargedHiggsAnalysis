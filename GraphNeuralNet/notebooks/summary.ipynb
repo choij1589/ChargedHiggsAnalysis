{
 "cells": [
  {
   "cell_type": "code",
   "execution_count": 1,
   "metadata": {},
   "outputs": [],
   "source": [
    "import os, shutil\n",
    "import pandas as pd\n",
    "from itertools import product"
   ]
  },
  {
   "cell_type": "code",
   "execution_count": 2,
   "metadata": {},
   "outputs": [],
   "source": [
    "WORKDIR = \"/home/choij/workspace/ChargedHiggsAnalysis\"\n",
    "\n",
    "CHANNEL = \"Skim3Mu\"\n",
    "\n",
    "SIGNALs = [\"MHc-70_MA-15\", \"MHc-70_MA-40\", \"MHc-70_MA-65\",\n",
    "           \"MHc-100_MA-15\", \"MHc-100_MA-60\", \"MHc-100_MA-95\",\n",
    "           \"MHc-130_MA-15\", \"MHc-130_MA-55\", \"MHc-130_MA-90\", \"MHc-130_MA-125\",\n",
    "           \"MHc-160_MA-15\", \"MHc-160_MA-85\", \"MHc-160_MA-120\", \"MHc-160_MA-155\"]\n",
    "BACKGROUNDs = [\"TTLL_powheg\", \"ttX\"]"
   ]
  },
  {
   "cell_type": "code",
   "execution_count": 3,
   "metadata": {},
   "outputs": [
    {
     "name": "stdout",
     "output_type": "stream",
     "text": [
      "3 ParticleNet 0.4 mean Adam 0.0001 CyclicLR\n",
      "0 ParticleNet 0.4 mean Adam 0.005 ExponentialLR\n",
      "4 ParticleNetLite 0.4 max Adam 0.002 CyclicLR\n",
      "0 ParticleNetLite 0.4 mean AdamW 0.001 CyclicLR\n",
      "7 ParticleNet 0.2 max RMSprop 0.01 CyclicLR\n",
      "2 ParticleNetLite 0.4 mean Adam 0.02 StepLR\n",
      "2 ParticleNet 0.2 max AdamW 0.02 CyclicLR\n",
      "2 ParticleNet 0.4 mean Adam 0.002 StepLR\n",
      "4 ParticleNetLite 0.4 mean AdamW 0.005 CyclicLR\n",
      "2 ParticleNetLite 0.4 mean RMSprop 0.0001 CyclicLR\n",
      "9 ParticleNet 0.4 max AdamW 0.002 CyclicLR\n",
      "2 ParticleNetLite 0.4 mean Adam 0.0005 CyclicLR\n",
      "2 ParticleNetLite 0.2 mean AdamW 0.002 CyclicLR\n",
      "2 ParticleNet 0.4 mean AdamW 0.001 StepLR\n",
      "6 ParticleNet 0.4 max AdamW 0.02 CyclicLR\n",
      "2 ParticleNetLite 0.4 mean AdamW 0.01 ExponentialLR\n",
      "7 ParticleNetLite 0.4 max Adam 0.001 StepLR\n",
      "5 ParticleNetLite 0.4 mean AdamW 0.001 CyclicLR\n",
      "9 ParticleNet 0.4 mean Adam 0.02 CyclicLR\n",
      "0 ParticleNet 0.2 max AdamW 0.05 StepLR\n",
      "1 ParticleNetLite 0.2 mean AdamW 0.002 CyclicLR\n",
      "8 ParticleNet 0.4 mean RMSprop 0.0001 StepLR\n",
      "6 ParticleNetLite 0.4 mean AdamW 0.02 ExponentialLR\n",
      "0 ParticleNetLite 0.4 mean Adam 0.02 ExponentialLR\n",
      "9 ParticleNetLite 0.4 mean RMSprop 0.0001 StepLR\n",
      "2 ParticleNetLite 0.4 mean RMSprop 0.0002 CyclicLR\n",
      "8 ParticleNetLite 0.4 mean AdamW 0.002 CyclicLR\n",
      "1 ParticleNet 0.4 mean AdamW 0.0005 StepLR\n"
     ]
    }
   ],
   "source": [
    "os.makedirs(f\"{WORKDIR}/summary/GraphNeuralNet/{CHANNEL}/models\")\n",
    "os.makedirs(f\"{WORKDIR}/summary/GraphNeuralNet/{CHANNEL}/results\")\n",
    "\n",
    "for SIG, BKG in product(SIGNALs, BACKGROUNDs):\n",
    "    try:\n",
    "        csv = pd.Series(pd.read_csv(f\"{WORKDIR}/GraphNeuralNet/{CHANNEL}/{SIG}_vs_{BKG}/results/summary.txt\", header=None, sep=\",\\s\", engine=\"python\").transpose()[0])\n",
    "        modelIdx, model, dropout_p, readout, optimizer, initLR, scheduler = csv[2:9]\n",
    "        print(modelIdx, model, dropout_p, readout, optimizer, initLR, scheduler)\n",
    "    \n",
    "        init_path = f\"{WORKDIR}/GraphNeuralNet/{CHANNEL}/{SIG}_vs_{BKG}/results/summary.txt\"\n",
    "        remap_path = f\"{WORKDIR}/summary/GraphNeuralNet/{CHANNEL}/results/summary_{SIG}_vs_{BKG}.txt\"\n",
    "        shutil.copy2(init_path, remap_path)\n",
    "\n",
    "        init_path = f\"{WORKDIR}/GraphNeuralNet/{CHANNEL}/{SIG}_vs_{BKG}/results/ROC-model{modelIdx}.png\"\n",
    "        remap_path = f\"{WORKDIR}/summary/GraphNeuralNet/{CHANNEL}/results/ROC-{SIG}_vs_{BKG}.png\"\n",
    "        shutil.copy2(init_path, remap_path)\n",
    "\n",
    "        init_path = f\"{WORKDIR}/GraphNeuralNet/{CHANNEL}/{SIG}_vs_{BKG}/results/training-model{modelIdx}.png\"\n",
    "        remap_path = f\"{WORKDIR}/summary/GraphNeuralNet/{CHANNEL}/results/training-{SIG}_vs_{BKG}.png\"\n",
    "        shutil.copy2(init_path, remap_path)\n",
    "\n",
    "        model_path = f\"{WORKDIR}/GraphNeuralNet/{CHANNEL}/{SIG}_vs_{BKG}/models/{model}-{str(dropout_p).replace('.', 'p')}-readout{readout}_{optimizer}_initLR-{str(initLR).replace('.', 'p')}_{scheduler}.pt\"\n",
    "        remap_path = f\"{WORKDIR}/summary/GraphNeuralNet/{CHANNEL}/models/{SIG}_vs_{BKG}.pt\"\n",
    "        shutil.copy2(model_path, remap_path)\n",
    "    except Exception as e:\n",
    "        print(e)\n",
    "        print(SIG, BKG)"
   ]
  },
  {
   "cell_type": "code",
   "execution_count": null,
   "metadata": {},
   "outputs": [],
   "source": []
  }
 ],
 "metadata": {
  "kernelspec": {
   "display_name": "torch",
   "language": "python",
   "name": "python3"
  },
  "language_info": {
   "codemirror_mode": {
    "name": "ipython",
    "version": 3
   },
   "file_extension": ".py",
   "mimetype": "text/x-python",
   "name": "python",
   "nbconvert_exporter": "python",
   "pygments_lexer": "ipython3",
   "version": "3.10.6"
  },
  "orig_nbformat": 4,
  "vscode": {
   "interpreter": {
    "hash": "52271d38ade95bb6a13d6b9f62707b1e1d13e0b0d12317a3cb0ffc117384cb38"
   }
  }
 },
 "nbformat": 4,
 "nbformat_minor": 2
}
