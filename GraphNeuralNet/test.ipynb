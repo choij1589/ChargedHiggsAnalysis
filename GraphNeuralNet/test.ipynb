{
 "cells": [
  {
   "cell_type": "code",
   "execution_count": 1,
   "metadata": {},
   "outputs": [
    {
     "name": "stdout",
     "output_type": "stream",
     "text": [
      "Welcome to JupyROOT 6.28/00\n"
     ]
    }
   ],
   "source": [
    "WORKDIR = \"/home/choij/workspace/ChargedHiggsAnalysis/\"\n",
    "import sys; sys.path.append(f\"{WORKDIR}/libPython\")\n",
    "from sklearn.utils import shuffle\n",
    "from ROOT import TFile\n",
    "import torch\n",
    "from torch_geometric.loader import DataLoader\n",
    "\n",
    "from Preprocess import GraphDataset\n",
    "from Preprocess import rtfileToDataListV2\n",
    "from Models import ParticleNetV2"
   ]
  },
  {
   "cell_type": "code",
   "execution_count": 35,
   "metadata": {},
   "outputs": [
    {
     "name": "stdout",
     "output_type": "stream",
     "text": [
      "@@@@ no. of dataList ends with 140000\n",
      "@@@@ no. of dataList ends with 140000\n"
     ]
    }
   ],
   "source": [
    "CHANNEL = \"Skim3Mu\"\n",
    "SIGNAL = \"MHc-160_MA-85\"\n",
    "BACKGROUND = \"nonprompt\"\n",
    "NHIDDEN = 128\n",
    "OPTIMIZER = \"Adam\"\n",
    "INITLR = 0.001\n",
    "SCHEDULER = \"CyclicLR\"\n",
    "\n",
    "maxSize = -1\n",
    "# load dataset\n",
    "if CHANNEL == \"Combined\":\n",
    "    rtSig = TFile.Open(f\"{WORKDIR}/data/DataPreprocess/Combined/Skim1E2Mu__/{SIGNAL}.root\")\n",
    "    sigDataList1E2Mu = shuffle(rtfileToDataListV2(rtSig, isSignal=True, maxSize=maxSize), random_state=953); rtSig.Close()\n",
    "    rtSig = TFile.Open(f\"{WORKDIR}/data/DataPreprocess/Combined/Skim3Mu__/{SIGNAL}.root\")\n",
    "    sigDataList3Mu = shuffle(rtfileToDataListV2(rtSig, isSignal=True, maxSize=maxSize), random_state=953); rtSig.Close()\n",
    "    sigDataList = shuffle(sigDataList1E2Mu+sigDataList3Mu, random_state=953)\n",
    "\n",
    "    rtBkg = TFile.Open(f\"{WORKDIR}/data/DataPreprocess/Combined/Skim1E2Mu__/{BACKGROUND}.root\")\n",
    "    bkgDataList1E2Mu = shuffle(rtfileToDataListV2(rtBkg, isSignal=False, maxSize=maxSize), random_state=953); rtBkg.Close()\n",
    "    rtBkg = TFile.Open(f\"{WORKDIR}/data/DataPreprocess/Combined/Skim3Mu__/{BACKGROUND}.root\")\n",
    "    bkgDataList3Mu = shuffle(rtfileToDataListV2(rtBkg, isSignal=False, maxSize=maxSize), random_state=953); rtBkg.Close()\n",
    "    bkgDataList = shuffle(bkgDataList1E2Mu+bkgDataList3Mu, random_state=953)\n",
    "else:\n",
    "    rtSig = TFile.Open(f\"{WORKDIR}/data/DataPreprocess/Combined/{CHANNEL}__/{SIGNAL}.root\")\n",
    "    rtBkg = TFile.Open(f\"{WORKDIR}/data/DataPreprocess/Combined/{CHANNEL}__/{BACKGROUND}.root\")\n",
    "\n",
    "    sigDataList = shuffle(rtfileToDataListV2(rtSig, isSignal=True), random_state=953); rtSig.Close()\n",
    "    bkgDataList = shuffle(rtfileToDataListV2(rtBkg, isSignal=False), random_state=953); rtBkg.Close()\n",
    "dataList = shuffle(sigDataList+bkgDataList, random_state=42)\n",
    "\n",
    "trainset = GraphDataset(dataList[:int(len(dataList)*0.5)])\n",
    "validset = GraphDataset(dataList[int(len(dataList)*0.5):int(len(dataList)*0.7)])\n",
    "testset  = GraphDataset(dataList[int(len(dataList)*0.7):])\n",
    "\n",
    "trainLoader = DataLoader(trainset, batch_size=1024, pin_memory=True, shuffle=True)\n",
    "validLoader = DataLoader(validset, batch_size=1024, pin_memory=True, shuffle=False)\n",
    "testLoader = DataLoader(testset, batch_size=1024, pin_memory=True, shuffle=False)"
   ]
  },
  {
   "cell_type": "code",
   "execution_count": 43,
   "metadata": {},
   "outputs": [
    {
     "data": {
      "text/plain": [
       "ParticleNetV2(\n",
       "  (gn0): GraphNorm(9)\n",
       "  (bn0): BatchNorm1d(3, eps=1e-05, momentum=0.1, affine=True, track_running_stats=True)\n",
       "  (conv1): DynamicEdgeConv()\n",
       "  (conv2): DynamicEdgeConv()\n",
       "  (conv3): DynamicEdgeConv()\n",
       "  (dense1): Linear(in_features=131, out_features=128, bias=True)\n",
       "  (bn1): BatchNorm1d(128, eps=1e-05, momentum=0.1, affine=True, track_running_stats=True)\n",
       "  (dense2): Linear(in_features=128, out_features=128, bias=True)\n",
       "  (bn2): BatchNorm1d(128, eps=1e-05, momentum=0.1, affine=True, track_running_stats=True)\n",
       "  (output): Linear(in_features=128, out_features=2, bias=True)\n",
       ")"
      ]
     },
     "execution_count": 43,
     "metadata": {},
     "output_type": "execute_result"
    }
   ],
   "source": [
    "nFeatures = 9\n",
    "nGraphFeatures = 3\n",
    "nClasses = 2\n",
    "\n",
    "model = ParticleNetV2(nFeatures, nGraphFeatures, nClasses, NHIDDEN, 0.4)\n",
    "modelPath = f\"{WORKDIR}/GraphNeuralNet/{CHANNEL}/{SIGNAL}_vs_{BACKGROUND}/models/ParticleNet-nNodes{NHIDDEN}_{OPTIMIZER}_initLR-{str(INITLR).replace('.', 'p')}_{SCHEDULER}.pt\"\n",
    "model.load_state_dict(torch.load(modelPath, map_location=torch.device('cpu')))\n",
    "model.eval()"
   ]
  },
  {
   "cell_type": "code",
   "execution_count": 44,
   "metadata": {},
   "outputs": [
    {
     "name": "stderr",
     "output_type": "stream",
     "text": [
      "Warning in <TROOT::Append>: Replacing existing TH1: hSigTrain (Potential memory leak).\n",
      "Warning in <TROOT::Append>: Replacing existing TH1: hBkgTrain (Potential memory leak).\n",
      "Warning in <TROOT::Append>: Replacing existing TH1: hSigTest (Potential memory leak).\n",
      "Warning in <TROOT::Append>: Replacing existing TH1: hBkgTest (Potential memory leak).\n"
     ]
    }
   ],
   "source": [
    "# Prepare histograms\n",
    "from ROOT import TH1D\n",
    "hSigTrain = TH1D(\"hSigTrain\", \"\", 1000, 0., 1.)\n",
    "hBkgTrain = TH1D(\"hBkgTrain\", \"\", 1000, 0., 1.)\n",
    "hSigTest = TH1D(\"hSigTest\", \"\", 1000, 0., 1.)\n",
    "hBkgTest = TH1D(\"hBkgTest\", \"\", 1000, 0., 1.)"
   ]
  },
  {
   "cell_type": "code",
   "execution_count": 45,
   "metadata": {},
   "outputs": [],
   "source": [
    "with torch.no_grad():\n",
    "    for data in trainLoader:\n",
    "        scores = model(data.x, data.edge_index, data.graphInput, data.batch)\n",
    "        for idx, score in enumerate(scores):\n",
    "            score = score[1].numpy()\n",
    "            isSignal = data.y[idx] == 1\n",
    "            if isSignal: hSigTrain.Fill(score)\n",
    "            else:        hBkgTrain.Fill(score)\n",
    "            \n",
    "    for data in testLoader:\n",
    "        scores = model(data.x, data.edge_index, data.graphInput, data.batch)\n",
    "        for idx, score in enumerate(scores):\n",
    "            score = score[1].numpy()\n",
    "            isSignal = data.y[idx] == 1\n",
    "            if isSignal: hSigTest.Fill(score)\n",
    "            else:        hBkgTest.Fill(score)"
   ]
  },
  {
   "cell_type": "code",
   "execution_count": 46,
   "metadata": {},
   "outputs": [],
   "source": [
    "# scale distribution\n",
    "hSigTrain.Scale(1./hSigTrain.Integral())\n",
    "hSigTest.Scale(1./hSigTest.Integral())\n",
    "hBkgTrain.Scale(1./hBkgTrain.Integral())\n",
    "hBkgTest.Scale(1./hBkgTest.Integral())"
   ]
  },
  {
   "cell_type": "code",
   "execution_count": 47,
   "metadata": {},
   "outputs": [
    {
     "name": "stdout",
     "output_type": "stream",
     "text": [
      "0.189 0.001\n"
     ]
    }
   ],
   "source": [
    "ksprobSig = hSigTrain.KolmogorovTest(hSigTest, option=\"X\")\n",
    "ksprobBkg = hBkgTrain.KolmogorovTest(hBkgTest, option=\"X\")\n",
    "print(ksprobSig, ksprobBkg)"
   ]
  },
  {
   "cell_type": "code",
   "execution_count": 48,
   "metadata": {},
   "outputs": [],
   "source": [
    "from ROOT import TCanvas\n",
    "hBkgTrain.Scale(1./hBkgTrain.Integral())\n",
    "hBkgTest.Scale(1./hBkgTest.Integral())"
   ]
  },
  {
   "cell_type": "code",
   "execution_count": 49,
   "metadata": {},
   "outputs": [
    {
     "name": "stderr",
     "output_type": "stream",
     "text": [
      "Warning in <TCanvas::Constructor>: Deleting canvas with same name: c\n"
     ]
    },
    {
     "data": {
      "image/png": "[encoded data removed]",
      "text/plain": [
       "<IPython.core.display.Image object>"
      ]
     },
     "metadata": {},
     "output_type": "display_data"
    }
   ],
   "source": [
    "import ROOT\n",
    "from ROOT import TCanvas\n",
    "\n",
    "hSigTrainCum = hSigTrain.GetCumulative()\n",
    "hSigTestCum = hSigTest.GetCumulative()\n",
    "\n",
    "hBkgTrainCum = hBkgTrain.GetCumulative()\n",
    "hBkgTestCum = hBkgTest.GetCumulative()\n",
    "\n",
    "hSigTestCum.SetLineColor(ROOT.kRed)\n",
    "hBkgTestCum.SetLineColor(ROOT.kRed)\n",
    "\n",
    "hSigTrainCum.SetStats(0)\n",
    "hBkgTrainCum.SetStats(0)\n",
    "c = TCanvas(\"c\", \"\", 800, 1200)\n",
    "c.cd()\n",
    "#c.SetLogy()\n",
    "hSigTrainCum.Draw(\"hist\")\n",
    "hSigTestCum.Draw(\"same&hist\")\n",
    "hBkgTrainCum.Draw(\"same&hist\")\n",
    "hBkgTestCum.Draw(\"same&hist\")\n",
    "c.Draw()"
   ]
  },
  {
   "cell_type": "code",
   "execution_count": null,
   "metadata": {},
   "outputs": [],
   "source": []
  }
 ],
 "metadata": {
  "kernelspec": {
   "display_name": "torch",
   "language": "python",
   "name": "python3"
  },
  "language_info": {
   "codemirror_mode": {
    "name": "ipython",
    "version": 3
   },
   "file_extension": ".py",
   "mimetype": "text/x-python",
   "name": "python",
   "nbconvert_exporter": "python",
   "pygments_lexer": "ipython3",
   "version": "3.11.3"
  },
  "orig_nbformat": 4
 },
 "nbformat": 4,
 "nbformat_minor": 2
}
