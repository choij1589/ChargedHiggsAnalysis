{
 "cells": [
  {
   "cell_type": "code",
   "execution_count": 51,
   "metadata": {},
   "outputs": [],
   "source": [
    "import os\n",
    "import numpy as np\n",
    "import ROOT\n",
    "from pprint import pprint"
   ]
  },
  {
   "cell_type": "code",
   "execution_count": 59,
   "metadata": {},
   "outputs": [
    {
     "name": "stdout",
     "output_type": "stream",
     "text": [
      "1.3753781814035733\n"
     ]
    }
   ],
   "source": [
    "ERA = \"2018\"\n",
    "MASSPOINT = \"MHc-130_MA-90\"\n",
    "CHANNEL = \"Skim3Mu\"\n",
    "NETWORK = \"GraphNet\"\n",
    "\n",
    "DataStream = \"DoubleMuon\"\n",
    "conv        = [\"DYJets\", \"ZGToLLG\"]\n",
    "VV          = [\"WZTo3LNu_amcatnlo\",\"ZZTo4L_powheg\"]\n",
    "ttX         = [\"ttWToLNu\", \"ttZToLLNuNu\", \"ttHToNonbb\"]\n",
    "rare        = [\"WWW\", \"WWZ\", \"WZZ\", \"ZZZ\",\"WWG\", \"TTG\", \"TTTT\", \"tZq\", \"tHq\", \"VBF_HToZZTo4L\", \"GluGluHToZZTo4L\"]\n",
    "MCSamples   = conv + VV + ttX + rare\n",
    "\n",
    "MA = 90.\n",
    "SIGMA = 0.743059\n",
    "WIDTH = 1.15738\n",
    "WINDOW = np.sqrt(np.power(SIGMA, 2)+np.power(WIDTH, 2))\n",
    "print(WINDOW)\n",
    "\n",
    "WORKDIR = \"/home/choij/workspace/ChargedHiggsAnalysis\""
   ]
  },
  {
   "cell_type": "code",
   "execution_count": 60,
   "metadata": {},
   "outputs": [],
   "source": [
    "def getEventRates(fstring: str, histkey: str) -> float:\n",
    "    f = ROOT.TFile.Open(fstring)\n",
    "    # Get event rates\n",
    "    histkey = f\"SR3Mu/Central/{MASSPOINT}/3D\"\n",
    "    h = f.Get(histkey); h.SetDirectory(0)\n",
    "    f.Close()\n",
    "\n",
    "    xL = h.GetXaxis().FindBin(MA-WINDOW)\n",
    "    xR = h.GetXaxis().FindBin(MA+WINDOW)\n",
    "    h.GetXaxis().SetRange(xL, xR)\n",
    "\n",
    "    return h.Integral()"
   ]
  },
  {
   "cell_type": "code",
   "execution_count": 65,
   "metadata": {},
   "outputs": [
    {
     "name": "stdout",
     "output_type": "stream",
     "text": [
      "{'conversion': 0.34807202983737073,\n",
      " 'diboson': 48.88774773224065,\n",
      " 'nonprompt': 70.04833576705288,\n",
      " 'observation': 186.0,\n",
      " 'rare': 17.797327006892978,\n",
      " 'signal': 86.64258815794454,\n",
      " 'ttX': 43.18042173471089}\n"
     ]
    }
   ],
   "source": [
    "RATEs = {}\n",
    "# observation\n",
    "fstring = f\"{WORKDIR}/data/PromptEstimator/{ERA}/{CHANNEL}__{NETWORK}__/DATA/PromptEstimator_SkimTree_SS2lOR3l_{DataStream}.root\"\n",
    "histkey = f\"SR3Mu/Central/{MASSPOINT}/3D\"\n",
    "assert os.path.exists(fstring)\n",
    "RATEs[\"observation\"] = getEventRates(fstring, histkey)\n",
    "\n",
    "# signal\n",
    "fstring = f\"{WORKDIR}/data/PromptEstimator/{ERA}/{CHANNEL}__{NETWORK}__WeightVar__/PromptEstimator_TTToHcToWAToMuMu_{MASSPOINT}.root\"\n",
    "histkey = f\"SR3Mu/Central/{MASSPOINT}/3D\"\n",
    "assert os.path.exists(fstring)\n",
    "RATEs[\"signal\"] = getEventRates(fstring, histkey)\n",
    "\n",
    "# nonprompt\n",
    "fstring = f\"{WORKDIR}/data/NonpromptEstimator/{ERA}/{CHANNEL}__{NETWORK}__/DATA/NonpromptEstimator_SkimTree_SS2lOR3l_DoubleMuon.root\"\n",
    "histkey = f\"SR3Mu/Central/{MASSPOINT}/3D\"\n",
    "assert os.path.exists(fstring)\n",
    "RATEs[\"nonprompt\"] = getEventRates(fstring, histkey)\n",
    "\n",
    "# diboson\n",
    "rate = 0.\n",
    "for sample in VV:\n",
    "    fstring = f\"{WORKDIR}/data/PromptEstimator/{ERA}/{CHANNEL}__{NETWORK}__WeightVar__/PromptEstimator_SkimTree_SS2lOR3l_{sample}.root\" \n",
    "    histkey = f\"SR3Mu/Central/{MASSPOINT}/3D\"\n",
    "    assert os.path.exists(fstring)\n",
    "    rate += max(0., getEventRates(fstring, histkey))\n",
    "RATEs[\"diboson\"] = rate\n",
    "\n",
    "# conversion\n",
    "rate = 0.\n",
    "for sample in conv:\n",
    "    fstring = f\"{WORKDIR}/data/PromptEstimator/{ERA}/{CHANNEL}__{NETWORK}__WeightVar__/PromptEstimator_SkimTree_SS2lOR3l_{sample}.root\" \n",
    "    histkey = f\"SR3Mu/Central/{MASSPOINT}/3D\"\n",
    "    assert os.path.exists(fstring)\n",
    "    rate += max(0., getEventRates(fstring, histkey))\n",
    "RATEs[\"conversion\"] = rate\n",
    "\n",
    "# ttX\n",
    "rate = 0.\n",
    "for sample in ttX:\n",
    "    fstring = f\"{WORKDIR}/data/PromptEstimator/{ERA}/{CHANNEL}__{NETWORK}__WeightVar__/PromptEstimator_SkimTree_SS2lOR3l_{sample}.root\" \n",
    "    histkey = f\"SR3Mu/Central/{MASSPOINT}/3D\"\n",
    "    assert os.path.exists(fstring)\n",
    "    rate += max(0., getEventRates(fstring, histkey))\n",
    "RATEs[\"ttX\"] = rate\n",
    "\n",
    "# rare\n",
    "rate = 0.\n",
    "for sample in rare:\n",
    "    fstring = f\"{WORKDIR}/data/PromptEstimator/{ERA}/{CHANNEL}__{NETWORK}__WeightVar__/PromptEstimator_SkimTree_SS2lOR3l_{sample}.root\" \n",
    "    if not os.path.exists(fstring):\n",
    "         fstring = f\"{WORKDIR}/data/PromptEstimator/{ERA}/{CHANNEL}__{NETWORK}__WeightVar__/PromptEstimator_{sample}.root\" \n",
    "    histkey = f\"SR3Mu/Central/{MASSPOINT}/3D\"\n",
    "    assert os.path.exists(fstring)\n",
    "    rate += max(0., getEventRates(fstring, histkey))\n",
    "RATEs[\"rare\"] = rate\n",
    "\n",
    "pprint(RATEs)"
   ]
  },
  {
   "cell_type": "code",
   "execution_count": 66,
   "metadata": {},
   "outputs": [
    {
     "name": "stdout",
     "output_type": "stream",
     "text": [
      "imax\t1 number of bins\n",
      "jmax\t5 number of processes minus 1\n",
      "kmax\t* number of nuisance parameters\n",
      "--------------------------------------------------------------------------\n",
      "--------------------------------------------------------------------------\n",
      "bin\tsignal_region\n",
      "observation\t186.0\n",
      "bin\tsignal_region\tsignal_region\tsignal_region\tsignal_region\tsignal_region\tsignal_region\n",
      "process\tnonprompt\tdiboson\tconversion\ttt+X\trare\tsignal\n",
      "process\t1\t2\t3\t4\t5\t0\n",
      "rate\t70.04833576705288\t48.88774773224065\t0.34807202983737073\t43.18042173471089\t17.797327006892978\t86.64258815794454\n",
      "--------------------------------------------------------------------------\n"
     ]
    }
   ],
   "source": [
    "print(\"imax\\t1 number of bins\")\n",
    "print(\"jmax\\t5 number of processes minus 1\")\n",
    "print(\"kmax\\t* number of nuisance parameters\")\n",
    "print(\"--------------------------------------------------------------------------\")\n",
    "print(\"--------------------------------------------------------------------------\")\n",
    "print(\"bin\\tsignal_region\")\n",
    "print(f\"observation\\t{RATEs['observation']}\")\n",
    "print(\"bin\\tsignal_region\\tsignal_region\\tsignal_region\\tsignal_region\\tsignal_region\\tsignal_region\")\n",
    "print(\"process\\tnonprompt\\tdiboson\\tconversion\\ttt+X\\trare\\tsignal\")\n",
    "print(\"process\\t1\\t2\\t3\\t4\\t5\\t0\")\n",
    "print(f\"rate\\t{RATEs['nonprompt']}\\t{RATEs['diboson']}\\t{RATEs['conversion']}\\t{RATEs['ttX']}\\t{RATEs['rare']}\\t{RATEs['signal']}\")\n",
    "print(\"--------------------------------------------------------------------------\")"
   ]
  },
  {
   "cell_type": "code",
   "execution_count": null,
   "metadata": {},
   "outputs": [],
   "source": []
  }
 ],
 "metadata": {
  "kernelspec": {
   "display_name": "torch",
   "language": "python",
   "name": "python3"
  },
  "language_info": {
   "codemirror_mode": {
    "name": "ipython",
    "version": 3
   },
   "file_extension": ".py",
   "mimetype": "text/x-python",
   "name": "python",
   "nbconvert_exporter": "python",
   "pygments_lexer": "ipython3",
   "version": "3.10.6"
  },
  "orig_nbformat": 4,
  "vscode": {
   "interpreter": {
    "hash": "52271d38ade95bb6a13d6b9f62707b1e1d13e0b0d12317a3cb0ffc117384cb38"
   }
  }
 },
 "nbformat": 4,
 "nbformat_minor": 2
}
