{
 "cells": [
  {
   "cell_type": "code",
   "execution_count": 1,
   "metadata": {},
   "outputs": [
    {
     "name": "stdout",
     "output_type": "stream",
     "text": [
      "Welcome to JupyROOT 6.28/00\n"
     ]
    }
   ],
   "source": [
    "import json\n",
    "import ROOT"
   ]
  },
  {
   "cell_type": "code",
   "execution_count": 2,
   "metadata": {},
   "outputs": [],
   "source": [
    "ERA = \"2018\"\n",
    "CHANNEL = \"Skim3Mu\"\n",
    "MASSPOINTs = [\"MHc-130_MA-15\", \"MHc-70_MA-40\", \"MHc-130_MA-55\", \"MHc-100_MA-60\",\n",
    "              \"MHc-70_MA-65\", \"MHc-160_MA-85\", \"MHc-130_MA-90\", \"MHc-100_MA-95\",\n",
    "              \"MHc-160_MA-120\", \"MHc-130_MA-125\", \"MHc-160_MA-155\"]\n",
    "METHOD = \"AsymptoticLimits\""
   ]
  },
  {
   "cell_type": "code",
   "execution_count": 3,
   "metadata": {},
   "outputs": [],
   "source": [
    "def parseAsymptoticLimit(MASSPOINT):\n",
    "    BASEDIR = f\"results/{ERA}/{CHANNEL}__/{MASSPOINT}\"\n",
    "    f = ROOT.TFile(f\"{BASEDIR}/higgsCombineTest.AsymptoticLimits.mH120.root\")\n",
    "    limit = f.Get(\"limit\")\n",
    "    values = {}\n",
    "    for idx, entry in enumerate(limit): values[idx] = entry.limit\n",
    "    f.Close()\n",
    "    \n",
    "    out = {}\n",
    "    out[\"exp-2\"] = values[0] * 5\n",
    "    out[\"exp-1\"] = values[1] * 5\n",
    "    out[\"exp0\"] = values[2] * 5\n",
    "    out[\"exp+1\"] = values[3] * 5\n",
    "    out[\"exp+2\"] = values[4] * 5\n",
    "    out[\"obs\"] = values[5] * 5\n",
    "    return out"
   ]
  },
  {
   "cell_type": "code",
   "execution_count": 4,
   "metadata": {},
   "outputs": [],
   "source": [
    "def readHybridNewResult(path):\n",
    "    f = ROOT.TFile(path)\n",
    "    limit = f.Get(\"limit\")\n",
    "    for entry in limit:\n",
    "        out = entry.limit\n",
    "    return out * 5 \n",
    "\n",
    "def parseHybridNewLimit(MASSPOINT):\n",
    "    BASEDIR = f\"results/{ERA}/{CHANNEL}__/{MASSPOINT}\"\n",
    "    out = {}\n",
    "    out[\"exp-2\"] = readHybridNewResult(f\"{BASEDIR}/higgsCombineTest.HybridNew.mH120.quant0.025.root\")\n",
    "    out[\"exp-1\"] = readHybridNewResult(f\"{BASEDIR}/higgsCombineTest.HybridNew.mH120.quant0.160.root\")\n",
    "    out[\"exp0\"] = readHybridNewResult(f\"{BASEDIR}/higgsCombineTest.HybridNew.mH120.quant0.500.root\")\n",
    "    out[\"exp+1\"] = readHybridNewResult(f\"{BASEDIR}/higgsCombineTest.HybridNew.mH120.quant0.840.root\")\n",
    "    out[\"exp+2\"] = readHybridNewResult(f\"{BASEDIR}/higgsCombineTest.HybridNew.mH120.quant0.975.root\")\n",
    "    out[\"obs\"] = readHybridNewResult(f\"{BASEDIR}/higgsCombineTest.HybridNew.mH120.root\")\n",
    "    return out"
   ]
  },
  {
   "cell_type": "code",
   "execution_count": 6,
   "metadata": {},
   "outputs": [
    {
     "name": "stdout",
     "output_type": "stream",
     "text": [
      "{'15': {'exp-2': 1.171875, 'exp-1': 1.171875, 'exp0': 1.3128616526715509, 'exp+1': 1.830956114720252, 'exp+2': 2.4783671624926806, 'obs': 1.349475827875177}, '40': {'exp-2': 1.171875, 'exp-1': 1.9371577500100077, 'exp0': 2.377838824658893, 'exp+1': 3.225601459960481, 'exp+2': 4.264815136635372, 'obs': 2.417126431274828}, '55': {'exp-2': 1.171875, 'exp-1': 1.6692898790102464, 'exp0': 2.370430291628762, 'exp+1': 3.2444597828508592, 'exp+2': 4.210635071623873, 'obs': 2.0902366496201794}, '60': {'exp-2': 1.6099584174115533, 'exp-1': 2.0667079617340574, 'exp0': 2.5294270777896033, 'exp+1': 3.531798361325294, 'exp+2': 4.541901089232015, 'obs': 2.6097882274008413}, '65': {'exp-2': 1.171875, 'exp-1': 1.9902589465692533, 'exp0': 2.7550401197051433, 'exp+1': 4.104782977329183, 'exp+2': 5.213836941003988, 'obs': 2.852868722796341}, '85': {'exp-2': 1.171875, 'exp-1': 2.1108884703980273, 'exp0': 2.7374046505944345, 'exp+1': 3.9619158107243773, 'exp+2': 5.077633131079061, 'obs': 2.711069582736006}, '90': {'exp-2': 3.515625, 'exp-1': 4.668746250029828, 'exp0': 6.201196836882364, 'exp+1': 8.74294893557602, 'exp+2': 11.634036927289653, 'obs': 6.234078238991816}, '95': {'exp-2': 2.17364546726382, 'exp-1': 2.8340659639274772, 'exp0': 3.891648904693197, 'exp+1': 5.344629855104125, 'exp+2': 7.310617378994147, 'obs': 3.8689758660532174}, '120': {'exp-2': 1.171875, 'exp-1': 1.3477990414253236, 'exp0': 1.9016951876044113, 'exp+1': 2.820315216454846, 'exp+2': 3.43630900630302, 'obs': 1.9993477878065709}, '125': {'exp-2': 1.171875, 'exp-1': 1.6211870790985448, 'exp0': 2.2039005072454976, 'exp+1': 2.995584779448959, 'exp+2': 4.16084444874874, 'obs': 2.2674415780391968}, '155': {'exp-2': 1.171875, 'exp-1': 1.3039777030083155, 'exp0': 1.8845508458639004, 'exp+1': 2.686469366944475, 'exp+2': 3.7449970006211313, 'obs': 1.8737695425486043}}\n"
     ]
    }
   ],
   "source": [
    "limits = {}\n",
    "\n",
    "for masspoint in MASSPOINTs:\n",
    "    mA = masspoint.split(\"_\")[1].split(\"-\")[1]\n",
    "    limits[mA] = parseHybridNewLimit(masspoint)\n",
    "\n",
    "print(limits)\n",
    "with open(f\"limits.{ERA}.{CHANNEL}.HybridNew.json\", \"w\") as f:\n",
    "    json.dump(limits, f, indent=2)"
   ]
  },
  {
   "cell_type": "code",
   "execution_count": null,
   "metadata": {},
   "outputs": [],
   "source": []
  }
 ],
 "metadata": {
  "kernelspec": {
   "display_name": "torch",
   "language": "python",
   "name": "python3"
  },
  "language_info": {
   "codemirror_mode": {
    "name": "ipython",
    "version": 3
   },
   "file_extension": ".py",
   "mimetype": "text/x-python",
   "name": "python",
   "nbconvert_exporter": "python",
   "pygments_lexer": "ipython3",
   "version": "3.11.2"
  },
  "orig_nbformat": 4
 },
 "nbformat": 4,
 "nbformat_minor": 2
}
