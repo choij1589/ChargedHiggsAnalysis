{
 "cells": [
  {
   "cell_type": "code",
   "execution_count": 1,
   "metadata": {},
   "outputs": [
    {
     "name": "stdout",
     "output_type": "stream",
     "text": [
      "Welcome to JupyROOT 6.28/00\n"
     ]
    }
   ],
   "source": [
    "import ROOT as R\n",
    "from array import array\n",
    "R.gROOT.SetBatch(True)"
   ]
  },
  {
   "cell_type": "code",
   "execution_count": 2,
   "metadata": {},
   "outputs": [],
   "source": [
    "# Global variables\n",
    "SIGNAL = \"MHc-160_MA-85\"\n",
    "ERA = \"2018\"\n",
    "CHANNEL = \"Skim3Mu\"\n",
    "NETWORK = \"GraphNet\"\n",
    "\n",
    "# List of backgrounds\n",
    "nonprompt = [\"nonprompt\"]\n",
    "conversion = [\"DYJets\", \"DYJets10to50_MG\", \"ZGToLLG\"]\n",
    "diboson = [\"WZTo3LNu_amcatnlo\", \"ZZTo4L_powheg\"]\n",
    "ttX = [\"ttWToLNu\", \"ttZToLLNuNu\", \"ttHToNonbb\"]\n",
    "others = [\"GluGluHToZZTo4L\", \"VBF_HToZZTo4L\",\n",
    "          \"WWW\", \"WWZ\", \"WZZ\", \"ZZZ\", \"WWG\",\n",
    "          \"tZq\", \"tHq\", \"TTG\", \"TTTT\"]\n",
    "backgrounds = nonprompt + conversion + diboson + ttX + others\n",
    "\n",
    "# fit results\n",
    "sigma_dict = {65: 0.76,\n",
    "              85: 1.03,\n",
    "              90: 1.08,\n",
    "              95: 1.19,\n",
    "              120: 1.58}"
   ]
  },
  {
   "cell_type": "code",
   "execution_count": 3,
   "metadata": {},
   "outputs": [],
   "source": [
    "def getScoreDistribution(sampleName, target):\n",
    "    mA = int(SIGNAL.split(\"_\")[1].split(\"-\")[1])\n",
    "    sigma = sigma_dict[mA]\n",
    "    \n",
    "    filepath = \"\"\n",
    "    if sampleName == SIGNAL:\n",
    "        filepath = f\"/home/choij/workspace/ChargedHiggsAnalysis/data/PromptUnbinned/{ERA}/{CHANNEL}__{NETWORK}__/PromptUnbinned_TTToHcToWAToMuMu_{SIGNAL}.root\" \n",
    "    elif sampleName == \"nonprompt\":\n",
    "        filepath = f\"/home/choij/workspace/ChargedHiggsAnalysis/data/MatrixUnbinned/{ERA}/{CHANNEL}__{NETWORK}__/DATA/MatrixUnbinned_SkimTree_SS2lOR3l_DoubleMuon.root\"\n",
    "    else:\n",
    "        filepath = f\"/home/choij/workspace/ChargedHiggsAnalysis/data/PromptUnbinned/{ERA}/{CHANNEL}__{NETWORK}__/PromptUnbinned_SkimTree_SS2lOR3l_{sampleName}.root\"\n",
    "    f = R.TFile(filepath)\n",
    "    tree = f.Get(\"Events_Central\")\n",
    "    \n",
    "    mass1 = array(\"d\", [0.]);       tree.SetBranchAddress(\"mass1\", mass1)\n",
    "    mass2 = array(\"d\", [0.]);       tree.SetBranchAddress(\"mass2\", mass2) \n",
    "    score = array(\"d\", [0.]);   tree.SetBranchAddress(f\"score_{SIGNAL}_vs_{target}\", score) \n",
    "    weight = array(\"d\", [0.]);  tree.SetBranchAddress(\"weight\", weight) \n",
    "    \n",
    "    h = R.TH1D(f\"score_{sampleName}\", \"\", 1000, 0., 1.)\n",
    "    for evt in range(tree.GetEntries()):\n",
    "        tree.GetEntry(evt)\n",
    "        condition = (mA - 5*sigma < mass1[0] < mA + 5*sigma) or (mA - 5*sigma < mass2[0] < mA + 5*sigma)\n",
    "        if not condition: continue\n",
    "        h.Fill(score[0], weight[0])\n",
    "    h.SetDirectory(0)\n",
    "    f.Close()\n",
    "    return h"
   ]
  },
  {
   "cell_type": "code",
   "execution_count": 4,
   "metadata": {},
   "outputs": [],
   "source": [
    "# nonprompt\n",
    "h_sig = getScoreDistribution(SIGNAL, target=\"nonprompt\")\n",
    "h_nonprompt = getScoreDistribution(\"nonprompt\", target=\"nonprompt\")\n",
    "roc_nonprompt = R.TGraph()\n",
    "for bin in range(1, h_sig.GetNbinsX()+1):\n",
    "    sig_eff = h_sig.Integral(bin, 1000) / h_sig.Integral(0, 1000)\n",
    "    bkg_rej = 1. - h_nonprompt.Integral(bin, 1000) / h_nonprompt.Integral(0, 1000)\n",
    "    roc_nonprompt.AddPoint(sig_eff, bkg_rej)\n",
    "\n",
    "# diboson\n",
    "h_sig = getScoreDistribution(SIGNAL, target=\"diboson\")\n",
    "h_WZ = getScoreDistribution(\"WZTo3LNu_amcatnlo\", target=\"diboson\")\n",
    "h_ZZ = getScoreDistribution(\"ZZTo4L_powheg\", target=\"diboson\")\n",
    "h_VV = h_WZ.Clone(\"diboson\")\n",
    "h_VV.Add(h_ZZ)\n",
    "roc_diboson = R.TGraph()\n",
    "for bin in range(1, h_sig.GetNbinsX()+1):\n",
    "    sig_eff = h_sig.Integral(bin, 1000) / h_sig.Integral(0, 1000)\n",
    "    bkg_rej = 1. - h_VV.Integral(bin, 1000) / h_VV.Integral(0, 1000)\n",
    "    roc_diboson.AddPoint(sig_eff, bkg_rej)\n",
    "\n",
    "\n",
    "# ttZ\n",
    "h_sig = getScoreDistribution(SIGNAL, target=\"ttZ\")\n",
    "h_ttW = getScoreDistribution(\"ttWToLNu\", target=\"ttZ\")\n",
    "h_ttZ = getScoreDistribution(\"ttZToLLNuNu\", target=\"ttZ\")\n",
    "h_ttH = getScoreDistribution(\"ttHToNonbb\", target=\"ttZ\")\n",
    "\n",
    "h_ttX = h_ttW.Clone(\"ttX\")\n",
    "h_ttX.Add(h_ttZ)\n",
    "h_ttX.Add(h_ttH)\n",
    "roc_ttX = R.TGraph()\n",
    "for bin in range(1, h_sig.GetNbinsX()+1):\n",
    "    sig_eff = h_sig.Integral(bin, 1000) / h_sig.Integral(0, 1000)\n",
    "    bkg_rej = 1. - h_ttX.Integral(bin, 1000) / h_ttX.Integral(0, 1000)\n",
    "    roc_ttX.AddPoint(sig_eff, bkg_rej)"
   ]
  },
  {
   "cell_type": "code",
   "execution_count": 5,
   "metadata": {},
   "outputs": [
    {
     "data": {
      "image/png": "[encoded data removed]",
      "text/plain": [
       "<IPython.core.display.Image object>"
      ]
     },
     "metadata": {},
     "output_type": "display_data"
    }
   ],
   "source": [
    "roc_nonprompt.GetXaxis().SetRangeUser(0., 1.); roc_nonprompt.GetXaxis().SetTitle(\"sig. eff.\")\n",
    "roc_nonprompt.GetYaxis().SetRangeUser(0., 1.); roc_nonprompt.GetYaxis().SetTitle(\"bkg. rej.\")\n",
    "\n",
    "roc_nonprompt.SetLineColor(R.kBlack)\n",
    "roc_diboson.SetLineColor(R.kBlue)\n",
    "roc_ttX.SetLineColor(R.kRed)\n",
    "\n",
    "c = R.TCanvas(\"c\", \"\", 600, 600)\n",
    "#c.SetLogy()\n",
    "c.cd()\n",
    "roc_nonprompt.Draw()\n",
    "roc_diboson.Draw(\"same\")\n",
    "roc_ttX.Draw(\"same\")\n",
    "c.Draw()"
   ]
  },
  {
   "cell_type": "code",
   "execution_count": 6,
   "metadata": {},
   "outputs": [],
   "source": [
    "# estimate with total backgrounds\n",
    "h_sig = getScoreDistribution(SIGNAL, target=\"nonprompt\")\n",
    "h_nonprompt = None\n",
    "for bkg in backgrounds:\n",
    "    h = getScoreDistribution(bkg, target=\"nonprompt\")\n",
    "    if h_nonprompt is None:\n",
    "        h_nonprompt = h.Clone(\"score_bkg_nonprompt\")\n",
    "    else:\n",
    "        h_nonprompt.Add(h)\n",
    "\n",
    "roc_nonprompt = R.TGraph()\n",
    "for bin in range(1, h_sig.GetNbinsX()+1):\n",
    "    sig_eff = h_sig.Integral(bin, 1000) / h_sig.Integral(0, 1000)\n",
    "    bkg_rej = 1. - h_nonprompt.Integral(bin, 1000) / h_nonprompt.Integral(0, 1000)\n",
    "    roc_nonprompt.AddPoint(sig_eff, bkg_rej)\n",
    "\n",
    "h_sig = getScoreDistribution(SIGNAL, target=\"diboson\")\n",
    "h_diboson = None\n",
    "for bkg in backgrounds:\n",
    "    h = getScoreDistribution(bkg, target=\"diboson\")\n",
    "    if h_diboson is None:\n",
    "        h_diboson = h.Clone(\"score_bkg_diboson\")\n",
    "    else:\n",
    "        h_diboson.Add(h)\n",
    "\n",
    "roc_diboson = R.TGraph()\n",
    "for bin in range(1, h_sig.GetNbinsX()+1):\n",
    "    sig_eff = h_sig.Integral(bin, 1000) / h_sig.Integral(0, 1000)\n",
    "    bkg_rej = 1. - h_VV.Integral(bin, 1000) / h_VV.Integral(0, 1000)\n",
    "    roc_diboson.AddPoint(sig_eff, bkg_rej)\n",
    "    \n",
    "h_sig = getScoreDistribution(SIGNAL, target=\"ttZ\")\n",
    "h_ttZ = None\n",
    "for bkg in backgrounds:\n",
    "    h = getScoreDistribution(bkg, target=\"ttZ\")\n",
    "    if h_ttZ is None:\n",
    "        h_ttZ = h.Clone(\"score_bkg_ttZ\")\n",
    "    else:\n",
    "        h_ttZ.Add(h)\n",
    "        \n",
    "roc_ttZ = R.TGraph()\n",
    "for bin in range(1, h_sig.GetNbinsX()+1):\n",
    "    sig_eff = h_sig.Integral(bin, 1000) / h_sig.Integral(0, 1000)\n",
    "    bkg_rej = 1. - h_ttZ.Integral(bin, 1000) / h_ttZ.Integral(0, 1000)\n",
    "    roc_ttZ.AddPoint(sig_eff, bkg_rej)"
   ]
  },
  {
   "cell_type": "code",
   "execution_count": 7,
   "metadata": {},
   "outputs": [
    {
     "name": "stderr",
     "output_type": "stream",
     "text": [
      "Warning in <TCanvas::Constructor>: Deleting canvas with same name: c\n"
     ]
    },
    {
     "data": {
      "image/png": "[encoded data removed]",
      "text/plain": [
       "<IPython.core.display.Image object>"
      ]
     },
     "metadata": {},
     "output_type": "display_data"
    }
   ],
   "source": [
    "roc_nonprompt.GetXaxis().SetRangeUser(0., 1.); roc_nonprompt.GetXaxis().SetTitle(\"sig. eff.\")\n",
    "roc_nonprompt.GetYaxis().SetRangeUser(0., 1.); roc_nonprompt.GetYaxis().SetTitle(\"bkg. rej.\")\n",
    "\n",
    "roc_nonprompt.SetLineColor(R.kBlack)\n",
    "roc_diboson.SetLineColor(R.kBlue)\n",
    "roc_ttZ.SetLineColor(R.kRed)\n",
    "\n",
    "c = R.TCanvas(\"c\", \"\", 600, 600)\n",
    "#c.SetLogy()\n",
    "c.cd()\n",
    "roc_nonprompt.Draw()\n",
    "roc_diboson.Draw(\"same\")\n",
    "roc_ttZ.Draw(\"same\")\n",
    "c.Draw()"
   ]
  },
  {
   "cell_type": "code",
   "execution_count": null,
   "metadata": {},
   "outputs": [],
   "source": []
  }
 ],
 "metadata": {
  "kernelspec": {
   "display_name": "torch",
   "language": "python",
   "name": "python3"
  },
  "language_info": {
   "codemirror_mode": {
    "name": "ipython",
    "version": 3
   },
   "file_extension": ".py",
   "mimetype": "text/x-python",
   "name": "python",
   "nbconvert_exporter": "python",
   "pygments_lexer": "ipython3",
   "version": "3.11.3"
  },
  "orig_nbformat": 4
 },
 "nbformat": 4,
 "nbformat_minor": 2
}
