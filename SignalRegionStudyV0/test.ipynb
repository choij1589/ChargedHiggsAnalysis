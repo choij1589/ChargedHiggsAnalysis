{
 "cells": [
  {
   "cell_type": "code",
   "execution_count": 1,
   "metadata": {},
   "outputs": [
    {
     "name": "stdout",
     "output_type": "stream",
     "text": [
      "Welcome to JupyROOT 6.28/00\n"
     ]
    }
   ],
   "source": [
    "import ROOT as R\n",
    "from array import array\n",
    "R.gROOT.SetBatch(True)"
   ]
  },
  {
   "cell_type": "code",
   "execution_count": 2,
   "metadata": {},
   "outputs": [],
   "source": [
    "# Global variables\n",
    "SIGNAL = \"MHc-100_MA-95\"\n",
    "ERA = \"2018\"\n",
    "CHANNEL = \"Skim3Mu\"\n",
    "NETWORK = \"GraphNet\"\n",
    "\n",
    "# List of backgrounds\n",
    "nonprompt = [\"nonprompt\"]\n",
    "conversion = [\"DYJets\", \"DYJets10to50_MG\", \"ZGToLLG\"]\n",
    "diboson = [\"WZTo3LNu_amcatnlo\", \"ZZTo4L_powheg\"]\n",
    "ttX = [\"ttWToLNu\", \"ttZToLLNuNu\", \"ttHToNonbb\"]\n",
    "others = [\"GluGluHToZZTo4L\", \"VBF_HToZZTo4L\",\n",
    "          \"WWW\", \"WWZ\", \"WZZ\", \"ZZZ\", \"WWG\",\n",
    "          \"tZq\", \"tHq\", \"TTG\", \"TTTT\"]\n",
    "backgrounds = nonprompt + conversion + diboson + ttX + others\n",
    "\n",
    "# fit results\n",
    "sigma_dict = {65: 0.76,\n",
    "              85: 1.03,\n",
    "              90: 1.08,\n",
    "              95: 1.19,\n",
    "              120: 1.58}"
   ]
  },
  {
   "cell_type": "code",
   "execution_count": 3,
   "metadata": {},
   "outputs": [],
   "source": [
    "def getScoreDistribution(sampleName):\n",
    "    mA = int(SIGNAL.split(\"_\")[1].split(\"-\")[1])\n",
    "    sigma = sigma_dict[mA]\n",
    "    \n",
    "    filepath = \"\"\n",
    "    if sampleName == SIGNAL:\n",
    "        filepath = f\"/home/choij/workspace/ChargedHiggsAnalysis/data/PromptUnbinned/{ERA}/{CHANNEL}__{NETWORK}__/PromptUnbinned_TTToHcToWAToMuMu_{SIGNAL}.root\" \n",
    "    elif sampleName == \"nonprompt\":\n",
    "        filepath = f\"/home/choij/workspace/ChargedHiggsAnalysis/data/MatrixUnbinned/{ERA}/{CHANNEL}__{NETWORK}__/DATA/MatrixUnbinned_SkimTree_SS2lOR3l_DoubleMuon.root\"\n",
    "    else:\n",
    "        filepath = f\"/home/choij/workspace/ChargedHiggsAnalysis/data/PromptUnbinned/{ERA}/{CHANNEL}__{NETWORK}__/PromptUnbinned_SkimTree_SS2lOR3l_{sampleName}.root\"\n",
    "    f = R.TFile(filepath)\n",
    "    tree = f.Get(\"Events_Central\")\n",
    "    \n",
    "    mass1 = array(\"d\", [0.]);       tree.SetBranchAddress(\"mass1\", mass1)\n",
    "    mass2 = array(\"d\", [0.]);       tree.SetBranchAddress(\"mass2\", mass2)\n",
    "    scoreX = array(\"d\", [0.]);      tree.SetBranchAddress(f\"score_{SIGNAL}_vs_nonprompt\", scoreX)\n",
    "    scoreY = array(\"d\", [0.]);      tree.SetBranchAddress(f\"score_{SIGNAL}_vs_diboson\", scoreY)\n",
    "    scoreZ = array(\"d\", [0.]);      tree.SetBranchAddress(f\"score_{SIGNAL}_vs_ttZ\", scoreZ)\n",
    "    weight = array(\"d\", [0.]);      tree.SetBranchAddress(\"weight\", weight)\n",
    "    \n",
    "    h = R.TH3D(f\"score_{sampleName}\", \"\", 100, 0., 1., 100, 0., 1., 100, 0., 1.)\n",
    "    for evt in range(tree.GetEntries()):\n",
    "        tree.GetEntry(evt)\n",
    "        condition = (mA - 5*sigma < mass1[0] < mA + 5*sigma) or (mA - 5*sigma < mass2[0] < mA + 5*sigma)\n",
    "        if not condition: continue\n",
    "        \n",
    "        h.Fill(scoreX[0], scoreY[0], scoreZ[0], weight[0])\n",
    "    h.SetDirectory(0)\n",
    "    f.Close()\n",
    "    return h"
   ]
  },
  {
   "cell_type": "code",
   "execution_count": 4,
   "metadata": {},
   "outputs": [],
   "source": [
    "h_sig = getScoreDistribution(SIGNAL)\n",
    "\n",
    "h_bkg = None\n",
    "for bkg in backgrounds:\n",
    "    h = getScoreDistribution(bkg)\n",
    "    if h_bkg is None: h_bkg = h.Clone(\"score_bkg\")\n",
    "    else:             h_bkg.Add(h)"
   ]
  },
  {
   "cell_type": "code",
   "execution_count": 6,
   "metadata": {},
   "outputs": [
    {
     "name": "stdout",
     "output_type": "stream",
     "text": [
      "1.8888359065968936\n"
     ]
    }
   ],
   "source": [
    "from itertools import product\n",
    "from math import sqrt, log\n",
    "nbinsX = h_sig.GetNbinsX()\n",
    "nbinsY = h_sig.GetNbinsY()\n",
    "nbinsZ = h_sig.GetNbinsZ()\n",
    "\n",
    "nSig = h_sig.Integral(0, nbinsX+1, 0, nbinsY+1, 0, nbinsZ+1) / 3\n",
    "nBkg = h_bkg.Integral(0, nbinsX+1, 0, nbinsY+1, 0, nbinsZ+1)\n",
    "initMetric = sqrt(2*((nSig+nBkg)*log(1+nSig/nBkg)-nSig))\n",
    "print(initMetric)\n",
    "\n",
    "bestBinX = 0\n",
    "bestBinY = 0\n",
    "bestBinZ = 0\n",
    "bestMetric = initMetric\n",
    "for binX, binY, binZ in product(range(nbinsX+1), range(nbinsY+1), range(nbinsZ+1)):\n",
    "    nSig = h_sig.Integral(binX, nbinsX, binY, nbinsY, binZ, nbinsZ) / 3\n",
    "    nBkg = h_bkg.Integral(binX, nbinsX, binY, nbinsY, binZ, nbinsZ)\n",
    "    metric = sqrt(2*((nSig+nBkg)*log(1+nSig/nBkg)-nSig))\n",
    "    \n",
    "    if metric > bestMetric:\n",
    "        bestBinX = binX\n",
    "        bestBinY = binY\n",
    "        bestBinZ = binZ\n",
    "        bestMetric = metric\n",
    "print(bestBinX, bestBinY, bestBinZ, bestMetric)\n",
    "print((bestMetric-initMetric) / initMetric)"
   ]
  },
  {
   "cell_type": "code",
   "execution_count": null,
   "metadata": {},
   "outputs": [],
   "source": []
  }
 ],
 "metadata": {
  "kernelspec": {
   "display_name": "torch",
   "language": "python",
   "name": "python3"
  },
  "language_info": {
   "codemirror_mode": {
    "name": "ipython",
    "version": 3
   },
   "file_extension": ".py",
   "mimetype": "text/x-python",
   "name": "python",
   "nbconvert_exporter": "python",
   "pygments_lexer": "ipython3",
   "version": "3.11.3"
  },
  "orig_nbformat": 4
 },
 "nbformat": 4,
 "nbformat_minor": 2
}
