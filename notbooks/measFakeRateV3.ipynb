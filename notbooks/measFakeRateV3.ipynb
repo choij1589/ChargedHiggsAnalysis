{
 "cells": [
  {
   "cell_type": "code",
   "execution_count": 1,
   "metadata": {},
   "outputs": [
    {
     "name": "stdout",
     "output_type": "stream",
     "text": [
      "Welcome to JupyROOT 6.28/04\n"
     ]
    }
   ],
   "source": [
    "import os\n",
    "import ROOT\n",
    "from math import pow, sqrt"
   ]
  },
  {
   "cell_type": "code",
   "execution_count": 4,
   "metadata": {},
   "outputs": [],
   "source": [
    "WORKDIR = \"/home/choij/workspace/ChargedHiggsAnalysis\"\n",
    "ERA     = \"2016preVFP\"\n",
    "CHANNEL = \"MeasFakeMu17\""
   ]
  },
  {
   "cell_type": "code",
   "execution_count": 5,
   "metadata": {},
   "outputs": [],
   "source": [
    "ScaleDict = {\"MeasFakeMu8_loose\": 0.00045052908036432963,\n",
    "             \"MeasFakeMu8_tight\": 0.00044480904623369185,\n",
    "             \"MeasFakeMu17_loose\": 0.009525518960064231,\n",
    "             \"MeasFakeMu17_tight\": 0.009408704436355296,}"
   ]
  },
  {
   "cell_type": "code",
   "execution_count": 6,
   "metadata": {},
   "outputs": [],
   "source": [
    "#### sample list\n",
    "if \"El\" in CHANNEL:\n",
    "    if \"2016\" in ERA:  DataStream = \"DoubleEG\"\n",
    "    if \"2017\" in ERA:  DataStream = \"SingleElectron\"\n",
    "    if \"2018\" in ERA:  DataStream = \"EGamma\"\n",
    "if \"Mu\" in CHANNEL:\n",
    "    DataStream = \"DoubleMuon\"\n",
    "    \n",
    "W  = [\"WJets_MG\"]\n",
    "DY = [\"DYJets\", \"DYJets10to50_MG\"]\n",
    "TT = [\"TTLL_powheg\"]\n",
    "VV = [\"WW_pythia\", \"WZ_pythia\", \"ZZ_pythia\"]\n",
    "ST = [\"SingleTop_sch_Lep\", \"SingleTop_tch_top_Incl\", \"SingleTop_tch_antitop_Incl\",\n",
    "      \"SingleTop_tW_top_NoFullyHad\", \"SingleTop_tW_antitop_NoFullyHad\"]\n",
    "MCList = W + DY + TT + VV + ST"
   ]
  },
  {
   "cell_type": "code",
   "execution_count": 7,
   "metadata": {},
   "outputs": [],
   "source": [
    "SYSTs = [\"Central\",\n",
    "         (\"PromptNormUp\", \"PromptNormDown\"),\n",
    "         (\"MotherJetPtUp\", \"MotherJetPtDown\"),\n",
    "         \"RequireHeavyTag\"]"
   ]
  },
  {
   "cell_type": "code",
   "execution_count": 8,
   "metadata": {},
   "outputs": [],
   "source": [
    "# data\n",
    "def get_data_hists(syst=\"Central\"):\n",
    "    if syst == \"Central\" or \"PromptNorm\" in syst: syststr = \"Central\"\n",
    "    else:                                         syststr = syst    \n",
    "    file_path = f\"{WORKDIR}/data/MeasFakeRateV3/{ERA}/{CHANNEL}__/DATA/MeasFakeRateV3_{DataStream}.root\"\n",
    "    assert os.path.exists(file_path)\n",
    "    f = ROOT.TFile.Open(file_path)\n",
    "    data_loose = f.Get(f\"QCDEnriched/loose/{syststr}/abseta_ptcorr\"); data_loose.SetDirectory(0)\n",
    "    data_tight = f.Get(f\"QCDEnriched/tight/{syststr}/abseta_ptcorr\"); data_tight.SetDirectory(0)\n",
    "    f.Close()\n",
    "    return data_loose, data_tight"
   ]
  },
  {
   "cell_type": "code",
   "execution_count": 9,
   "metadata": {},
   "outputs": [],
   "source": [
    "def get_prompt_hists(syst=\"Central\"):\n",
    "    if syst == \"Central\" or \"PromptNorm\" in syst: syststr = \"Central\"\n",
    "    else:                                         syststr = syst\n",
    "    mc_loose = None\n",
    "    mc_tight = None\n",
    "    for sample in MCList:\n",
    "        file_path = f\"{WORKDIR}/data/MeasFakeRateV3/{ERA}/{CHANNEL}__RunSyst__/MeasFakeRateV3_{sample}.root\"\n",
    "        assert os.path.exists(file_path)\n",
    "        f = ROOT.TFile.Open(file_path)\n",
    "        try:\n",
    "            h_loose = f.Get(f\"QCDEnriched/loose/{syststr}/abseta_ptcorr\"); h_loose.SetDirectory(0)\n",
    "            h_tight = f.Get(f\"QCDEnriched/tight/{syststr}/abseta_ptcorr\"); h_tight.SetDirectory(0)\n",
    "            scale_loose = ScaleDict[f\"{CHANNEL}_loose\"]\n",
    "            scale_tight = ScaleDict[f\"{CHANNEL}_tight\"]\n",
    "            if syst == \"PromptNormUp\": \n",
    "                scale_loose *= 1.15\n",
    "                scale_tight *= 1.15\n",
    "            if syst == \"PromptNormDown\":\n",
    "                scale_loose *= 0.85\n",
    "                scale_tight *= 0.85\n",
    "            h_loose.Scale(scale_loose)\n",
    "            h_tight.Scale(scale_tight)\n",
    "            if mc_loose is None:\n",
    "                mc_loose = h_loose.Clone(\"mc_loose\")\n",
    "                mc_loose.SetDirectory(0)\n",
    "            else:\n",
    "                mc_loose.Add(h_loose)\n",
    "            if mc_tight is None:\n",
    "                mc_tight = h_tight.Clone(\"mc_tight\")\n",
    "                mc_tight.SetDirectory(0)\n",
    "            else:\n",
    "                mc_tight.Add(h_tight)\n",
    "        except Exception as e:\n",
    "            print(e)\n",
    "            print(sample)\n",
    "        f.Close()\n",
    "    return mc_loose, mc_tight"
   ]
  },
  {
   "cell_type": "code",
   "execution_count": 10,
   "metadata": {},
   "outputs": [
    {
     "data": {
      "text/plain": [
       "True"
      ]
     },
     "execution_count": 10,
     "metadata": {},
     "output_type": "execute_result"
    }
   ],
   "source": [
    "# Central fake rate\n",
    "data_loose, data_tight = get_data_hists(\"Central\")\n",
    "prompt_loose, prompt_tight = get_prompt_hists(\"Central\")\n",
    "\n",
    "nonprompt_loose = data_loose.Clone(\"nonprompt_loose\")\n",
    "nonprompt_loose.Add(prompt_loose, -1)\n",
    "\n",
    "nonprompt_tight = data_tight.Clone(\"nonprompt_tight\")\n",
    "nonprompt_tight.Add(prompt_tight, -1)\n",
    "\n",
    "fakerate_central = nonprompt_tight.Clone(\"fakerate_central\")\n",
    "fakerate_central.Divide(nonprompt_loose)"
   ]
  },
  {
   "cell_type": "code",
   "execution_count": 11,
   "metadata": {},
   "outputs": [
    {
     "data": {
      "image/png": "[encoded data removed]",
      "text/plain": [
       "<IPython.core.display.Image object>"
      ]
     },
     "metadata": {},
     "output_type": "display_data"
    }
   ],
   "source": [
    "fakerate_central.SetStats(0)\n",
    "c = ROOT.TCanvas()\n",
    "c.cd()\n",
    "fakerate_central.Draw(\"colz\")\n",
    "c.Draw()"
   ]
  },
  {
   "cell_type": "code",
   "execution_count": 12,
   "metadata": {},
   "outputs": [
    {
     "data": {
      "image/png": "[encoded data removed]",
      "text/plain": [
       "<IPython.core.display.Image object>"
      ]
     },
     "metadata": {},
     "output_type": "display_data"
    }
   ],
   "source": [
    "proj_y1 = fakerate_central.ProjectionY(\"y1\", 1, 1); proj_y1.SetLineColor(ROOT.kBlack)\n",
    "proj_y2 = fakerate_central.ProjectionY(\"y2\", 2, 2); proj_y2.SetLineColor(ROOT.kBlue)\n",
    "proj_y3 = fakerate_central.ProjectionY(\"y3\", 3, 3); proj_y3.SetLineColor(ROOT.kRed)\n",
    "\n",
    "proj_y1.SetStats(0)\n",
    "proj_y1.GetYaxis().SetRangeUser(0., 0.5)\n",
    "c = ROOT.TCanvas()\n",
    "c.cd()\n",
    "proj_y1.Draw()\n",
    "proj_y2.Draw(\"same\")\n",
    "proj_y3.Draw(\"same\")\n",
    "c.Draw()"
   ]
  },
  {
   "cell_type": "code",
   "execution_count": 17,
   "metadata": {},
   "outputs": [
    {
     "data": {
      "text/plain": [
       "True"
      ]
     },
     "execution_count": 17,
     "metadata": {},
     "output_type": "execute_result"
    }
   ],
   "source": [
    "# Prompt norm variation\n",
    "data_loose, data_tight = get_data_hists(\"PromptNormUp\")\n",
    "prompt_loose, prompt_tight = get_prompt_hists(\"PromptNormUp\")\n",
    "\n",
    "nonprompt_loose = data_loose.Clone(\"nonprompt_loose\")\n",
    "nonprompt_loose.Add(prompt_loose, -1)\n",
    "\n",
    "nonprompt_tight = data_tight.Clone(\"nonprompt_tight\")\n",
    "nonprompt_tight.Add(prompt_tight, -1)\n",
    "\n",
    "fakerate_promptnormup = nonprompt_tight.Clone(\"fakerate_promptnormup\")\n",
    "fakerate_promptnormup.Divide(nonprompt_loose)\n",
    "\n",
    "# Prompt norm variation\n",
    "data_loose, data_tight = get_data_hists(\"PromptNormDown\")\n",
    "prompt_loose, prompt_tight = get_prompt_hists(\"PromptNormDown\")\n",
    "\n",
    "nonprompt_loose = data_loose.Clone(\"nonprompt_loose\")\n",
    "nonprompt_loose.Add(prompt_loose, -1)\n",
    "\n",
    "nonprompt_tight = data_tight.Clone(\"nonprompt_tight\")\n",
    "nonprompt_tight.Add(prompt_tight, -1)\n",
    "\n",
    "fakerate_promptnormdown = nonprompt_tight.Clone(\"fakerate_promptnormdown\")\n",
    "fakerate_promptnormdown.Divide(nonprompt_loose)"
   ]
  },
  {
   "cell_type": "code",
   "execution_count": 24,
   "metadata": {},
   "outputs": [
    {
     "data": {
      "image/png": "[encoded data removed]",
      "text/plain": [
       "<IPython.core.display.Image object>"
      ]
     },
     "metadata": {},
     "output_type": "display_data"
    }
   ],
   "source": [
    "proj_y1 = fakerate_central.ProjectionY(\"y1\", 3, 3); proj_y1.SetLineColor(ROOT.kBlack)\n",
    "proj_y2 = fakerate_promptnormup.ProjectionY(\"y2\", 3, 3); proj_y2.SetLineColor(ROOT.kBlue)\n",
    "proj_y3 = fakerate_promptnormdown.ProjectionY(\"y3\", 3, 3); proj_y3.SetLineColor(ROOT.kRed)\n",
    "\n",
    "proj_y1.SetStats(0)\n",
    "proj_y1.GetYaxis().SetRangeUser(0., 0.8)\n",
    "c = ROOT.TCanvas()\n",
    "c.cd()\n",
    "proj_y1.Draw()\n",
    "proj_y2.Draw(\"same\")\n",
    "proj_y3.Draw(\"same\")\n",
    "c.Draw()"
   ]
  },
  {
   "cell_type": "code",
   "execution_count": null,
   "metadata": {},
   "outputs": [],
   "source": []
  }
 ],
 "metadata": {
  "kernelspec": {
   "display_name": "torch",
   "language": "python",
   "name": "python3"
  },
  "language_info": {
   "codemirror_mode": {
    "name": "ipython",
    "version": 3
   },
   "file_extension": ".py",
   "mimetype": "text/x-python",
   "name": "python",
   "nbconvert_exporter": "python",
   "pygments_lexer": "ipython3",
   "version": "3.11.4"
  },
  "orig_nbformat": 4
 },
 "nbformat": 4,
 "nbformat_minor": 2
}
