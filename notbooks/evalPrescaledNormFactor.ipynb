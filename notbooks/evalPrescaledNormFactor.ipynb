{
 "cells": [
  {
   "cell_type": "code",
   "execution_count": 1,
   "metadata": {},
   "outputs": [
    {
     "name": "stdout",
     "output_type": "stream",
     "text": [
      "Welcome to JupyROOT 6.28/04\n"
     ]
    }
   ],
   "source": [
    "import os\n",
    "import ROOT\n",
    "from math import pow, sqrt\n",
    "from ctypes import c_double"
   ]
  },
  {
   "cell_type": "markdown",
   "metadata": {},
   "source": [
    "#### Calculate normalization factor for fake rate measurement\n",
    "#### Based on M(ll) distribution"
   ]
  },
  {
   "cell_type": "code",
   "execution_count": 16,
   "metadata": {},
   "outputs": [],
   "source": [
    "WORKDIR = \"/home/choij/workspace/ChargedHiggsAnalysis\"\n",
    "ERA     = \"2016preVFP\"\n",
    "CHANNEL = \"MeasFakeMu17\"\n",
    "ID      = \"loose\""
   ]
  },
  {
   "cell_type": "code",
   "execution_count": 17,
   "metadata": {},
   "outputs": [],
   "source": [
    "#### sample list\n",
    "DataStream = \"\"\n",
    "if \"El\" in CHANNEL:\n",
    "    if \"2016\" in ERA:  DataStream = \"DoubleEG\"\n",
    "    if \"2017\" in ERA:  DataStream = \"SingleElectron\"\n",
    "    if \"2018\" in ERA:  DataStream = \"EGamma\"\n",
    "if \"Mu\" in CHANNEL:\n",
    "    DataStream = \"DoubleMuon\""
   ]
  },
  {
   "cell_type": "code",
   "execution_count": 18,
   "metadata": {},
   "outputs": [],
   "source": [
    "W  = [\"WJets_MG\"]\n",
    "DY = [\"DYJets\", \"DYJets10to50_MG\"]\n",
    "TT = [\"TTLL_powheg\"]\n",
    "VV = [\"WW_pythia\", \"WZ_pythia\", \"ZZ_pythia\"]\n",
    "ST = [\"SingleTop_sch_Lep\", \"SingleTop_tch_top_Incl\", \"SingleTop_tch_antitop_Incl\",\n",
    "      \"SingleTop_tW_top_NoFullyHad\", \"SingleTop_tW_antitop_NoFullyHad\"]\n",
    "MCList = W + DY + TT + VV + ST"
   ]
  },
  {
   "cell_type": "code",
   "execution_count": 19,
   "metadata": {},
   "outputs": [],
   "source": [
    "SYSTs = []\n",
    "if \"MeasFakeEl\" in CHANNEL:\n",
    "    SYSTs.append((\"PileupReweight\"))\n",
    "    SYSTs.append((\"L1PrefireUp\", \"L1PrefireDown\"))\n",
    "    SYSTs.append((\"ElectronRecoSFUp\", \"ElectronRecoSFDown\"))\n",
    "    SYSTs.append((\"HeavyTagUpUnCorr\", \"HeavyTagDownUnCorr\"))\n",
    "    SYSTs.append((\"LightTagUpUnCorr\", \"LightTagDownUnCorr\"))\n",
    "    SYSTs.append((\"JetResUp\", \"JetResDown\"))\n",
    "    SYSTs.append((\"JetEnUp\", \"JetEnDown\"))\n",
    "    SYSTs.append((\"ElectronResUp\", \"ElectronResDown\"))\n",
    "    SYSTs.append((\"ElectronEnUp\", \"ElectronEnDown\"))\n",
    "    SYSTs.append((\"MuonEnUp\", \"MuonEnDown\"))\n",
    "if \"MeasFakeMu\" in CHANNEL:\n",
    "    SYSTs.append((\"PileupReweight\"))\n",
    "    SYSTs.append((\"L1PrefireUp\", \"L1PrefireDown\"))\n",
    "    SYSTs.append((\"MuonRecoSFUp\", \"MuonRecoSFDown\"))\n",
    "    SYSTs.append((\"HeavyTagUpUnCorr\", \"HeavyTagDownUnCorr\"))\n",
    "    SYSTs.append((\"LightTagUpUnCorr\", \"LightTagDownUnCorr\"))\n",
    "    SYSTs.append((\"JetResUp\", \"JetResDown\"))\n",
    "    SYSTs.append((\"JetEnUp\", \"JetEnDown\"))\n",
    "    SYSTs.append((\"ElectronResUp\", \"ElectronResDown\"))\n",
    "    SYSTs.append((\"ElectronEnUp\", \"ElectronEnDown\"))\n",
    "    SYSTs.append((\"MuonEnUp\", \"MuonEnDown\"))"
   ]
  },
  {
   "cell_type": "code",
   "execution_count": 20,
   "metadata": {},
   "outputs": [],
   "source": [
    "# data\n",
    "file_path = f\"{WORKDIR}/data/MeasFakeRateV3/{ERA}/{CHANNEL}__/DATA/MeasFakeRateV3_{DataStream}.root\"\n",
    "assert os.path.exists(file_path)\n",
    "f = ROOT.TFile.Open(file_path)\n",
    "data = f.Get(f\"ZEnriched/{ID}/Central/pair/mass\"); data.SetDirectory(0)\n",
    "f.Close()"
   ]
  },
  {
   "cell_type": "code",
   "execution_count": 21,
   "metadata": {},
   "outputs": [],
   "source": [
    "err_data = c_double()\n",
    "sum_data = data.IntegralAndError(data.FindBin(50), data.FindBin(150), err_data)\n",
    "err_data = err_data.value"
   ]
  },
  {
   "cell_type": "code",
   "execution_count": 22,
   "metadata": {},
   "outputs": [],
   "source": [
    "def getSumMC(syst=\"Central\"):\n",
    "    sum = 0.\n",
    "    error = 0.\n",
    "    for sample in MCList:\n",
    "        file_path = f\"{WORKDIR}/data/MeasFakeRateV3/{ERA}/{CHANNEL}__RunSyst__/MeasFakeRateV3_{sample}.root\"\n",
    "        assert os.path.exists(file_path)\n",
    "        f = ROOT.TFile.Open(file_path)\n",
    "        try:\n",
    "            h = f.Get(f\"ZEnriched/{ID}/{syst}/pair/mass\");   h.SetDirectory(0)\n",
    "            thiserr = c_double()\n",
    "            sum += h.IntegralAndError(h.FindBin(50), h.FindBin(150), thiserr)\n",
    "            error += pow(thiserr.value, 2)\n",
    "        except:\n",
    "            print(sample)\n",
    "            continue\n",
    "    f.Close()\n",
    "    return sum, sqrt(error)"
   ]
  },
  {
   "cell_type": "code",
   "execution_count": 23,
   "metadata": {},
   "outputs": [],
   "source": [
    "### Get central scale\n",
    "sumMC = {}\n",
    "errMC = {}\n",
    "sum, error = getSumMC()\n",
    "sumMC[\"Central\"] = sum\n",
    "errMC[\"Central\"] = error"
   ]
  },
  {
   "cell_type": "code",
   "execution_count": 24,
   "metadata": {},
   "outputs": [
    {
     "name": "stdout",
     "output_type": "stream",
     "text": [
      "142357.0 377.30226609444054\n",
      "14944802.545334505 7292.135259134853\n"
     ]
    }
   ],
   "source": [
    "sum_mc, err_mc = sumMC['Central'], errMC[\"Central\"]\n",
    "print(sum_data, err_data)\n",
    "print(sum_mc, err_mc)"
   ]
  },
  {
   "cell_type": "code",
   "execution_count": 25,
   "metadata": {},
   "outputs": [
    {
     "name": "stdout",
     "output_type": "stream",
     "text": [
      "0.009525518960064231 0.009555427802066665 0.009495639291141018\n",
      "0.003139864833383497\n"
     ]
    }
   ],
   "source": [
    "scale = sum_data / sum_mc\n",
    "scaleUp = (sum_data + err_data) / (sum_mc - err_mc)\n",
    "scaleDown = (sum_data - err_data) / (sum_mc + err_mc)\n",
    "print(scale, scaleUp, scaleDown)\n",
    "print(max(scaleUp-scale, scale-scaleDown)/scale)"
   ]
  },
  {
   "cell_type": "code",
   "execution_count": 26,
   "metadata": {},
   "outputs": [],
   "source": [
    "### Get central scale\n",
    "sumMC = {}\n",
    "errMC = {}\n",
    "sum, error = getSumMC()\n",
    "sumMC[\"Central\"] = sum\n",
    "errMC[\"Central\"] = error\n",
    "for systset in SYSTs:\n",
    "    if len(systset) == 2:\n",
    "        systUp, systDown = systset\n",
    "        sumMC[systUp], errMC[systUp] = getSumMC(systUp)\n",
    "        sumMC[systDown], errMC[systDown] = getSumMC(systDown)\n",
    "    else:\n",
    "        syst = systset\n",
    "        sumMC[syst], errMC[syst] = getSumMC(syst)"
   ]
  },
  {
   "cell_type": "code",
   "execution_count": 27,
   "metadata": {},
   "outputs": [],
   "source": [
    "# get scale values\n",
    "scaleMC = {}\n",
    "for syst, sum in sumMC.items():\n",
    "    scaleMC[syst] = sum_data / sum\n",
    "    \n",
    "diffMC = {}\n",
    "for syst, sum in scaleMC.items():\n",
    "    diffMC[syst] = (scaleMC[syst] - scaleMC[\"Central\"]) / scaleMC[\"Central\"]"
   ]
  },
  {
   "cell_type": "code",
   "execution_count": 28,
   "metadata": {},
   "outputs": [],
   "source": [
    "totalUnc = 0.\n",
    "for systset in SYSTs:\n",
    "    if len(systset) == 2:\n",
    "        systUp, systDown = systset\n",
    "        diffUp = abs(scaleMC[systUp] - scaleMC[\"Central\"])\n",
    "        diffDown = abs(scaleMC[systDown] - scaleMC[\"Central\"])\n",
    "        totalUnc += pow(max(diffUp, diffDown), 2)\n",
    "    else:\n",
    "        totalUnc += pow(scaleMC[systset]-scaleMC[\"Central\"], 2)\n",
    "totalUnc = sqrt(totalUnc)"
   ]
  },
  {
   "cell_type": "code",
   "execution_count": 29,
   "metadata": {},
   "outputs": [
    {
     "name": "stdout",
     "output_type": "stream",
     "text": [
      "0.009525518960064231 0.00012096592731433805\n",
      "1.2699142988585512\n"
     ]
    }
   ],
   "source": [
    "scale = scaleMC[\"Central\"]\n",
    "print(scale, totalUnc)\n",
    "print(totalUnc/scale * 100)"
   ]
  },
  {
   "cell_type": "code",
   "execution_count": null,
   "metadata": {},
   "outputs": [],
   "source": []
  },
  {
   "cell_type": "code",
   "execution_count": null,
   "metadata": {},
   "outputs": [],
   "source": []
  }
 ],
 "metadata": {
  "kernelspec": {
   "display_name": "torch",
   "language": "python",
   "name": "python3"
  },
  "language_info": {
   "codemirror_mode": {
    "name": "ipython",
    "version": 3
   },
   "file_extension": ".py",
   "mimetype": "text/x-python",
   "name": "python",
   "nbconvert_exporter": "python",
   "pygments_lexer": "ipython3",
   "version": "3.11.4"
  },
  "orig_nbformat": 4
 },
 "nbformat": 4,
 "nbformat_minor": 2
}
