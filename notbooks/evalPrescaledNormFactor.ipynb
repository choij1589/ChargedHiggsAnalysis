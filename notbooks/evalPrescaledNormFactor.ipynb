{
 "cells": [
  {
   "cell_type": "code",
   "execution_count": 1,
   "metadata": {},
   "outputs": [
    {
     "name": "stdout",
     "output_type": "stream",
     "text": [
      "Welcome to JupyROOT 6.28/04\n"
     ]
    }
   ],
   "source": [
    "import os\n",
    "import ROOT\n",
    "from math import pow, sqrt"
   ]
  },
  {
   "cell_type": "markdown",
   "metadata": {},
   "source": [
    "#### Calculate normalization factor for fake rate measurement\n",
    "#### Based on M(ll) distribution"
   ]
  },
  {
   "cell_type": "code",
   "execution_count": 2,
   "metadata": {},
   "outputs": [],
   "source": [
    "WORKDIR = \"/home/choij/workspace/ChargedHiggsAnalysis\"\n",
    "ERA     = \"2016preVFP\"\n",
    "CHANNEL = \"MeasFakeEl\"\n",
    "HLTPATH = \"Ele8\"\n",
    "ID      = \"tight\""
   ]
  },
  {
   "cell_type": "code",
   "execution_count": 3,
   "metadata": {},
   "outputs": [],
   "source": [
    "#### sample list\n",
    "DataStream = \"\"\n",
    "if \"El\" in CHANNEL:\n",
    "    if \"2016\" in ERA:  DataStream = \"DoubleEG\"\n",
    "    if \"2017\" in ERA:  DataStream = \"SingleElectron\"\n",
    "    if \"2018\" in ERA:  DataStream = \"EGamma\"\n",
    "if \"Mu\" in CHANNEL:\n",
    "    DataStream = \"DoubleMuon\""
   ]
  },
  {
   "cell_type": "code",
   "execution_count": 4,
   "metadata": {},
   "outputs": [],
   "source": [
    "W  = [\"WJets_MG\"]\n",
    "DY = [\"DYJets\", \"DYJets10to50_MG\"]\n",
    "TT = [\"TTLL_powheg\", \"TTLJ_powheg\"]\n",
    "VV = [\"WW_pythia\", \"WZ_pythia\", \"ZZ_pythia\"]\n",
    "ST = [\"SingleTop_sch_Lep\", \"SingleTop_tch_top_Incl\", \"SingleTop_tch_antitop_Incl\",\n",
    "      \"SingleTop_tW_top_NoFullyHad\", \"SingleTop_tW_antitop_NoFullyHad\"]\n",
    "MCList = W + DY + TT + VV + ST"
   ]
  },
  {
   "cell_type": "code",
   "execution_count": 5,
   "metadata": {},
   "outputs": [],
   "source": [
    "SYSTs = []\n",
    "if CHANNEL == \"MeasNormEl\":\n",
    "    SYSTs.append((\"PileupReweight\"))\n",
    "    SYSTs.append((\"L1PrefireUp\", \"L1PrefireDown\"))\n",
    "    SYSTs.append((\"ElectronRecoSFUp\", \"ElectronRecoSFDown\"))\n",
    "    SYSTs.append((\"HeavyTagUpUnCorr\", \"HeavyTagDownUnCorr\"))\n",
    "    SYSTs.append((\"LightTagUpUnCorr\", \"LightTagDownUnCorr\"))\n",
    "    SYSTs.append((\"JetResUp\", \"JetResDown\"))\n",
    "    SYSTs.append((\"JetEnUp\", \"JetEnDown\"))\n",
    "    SYSTs.append((\"ElectronResUp\", \"ElectronResDown\"))\n",
    "    SYSTs.append((\"ElectronEnUp\", \"ElectronEnDown\"))\n",
    "    SYSTs.append((\"MuonEnUp\", \"MuonEnDown\"))\n",
    "if CHANNEL == \"MeasNormMu\":\n",
    "    SYSTs.append((\"PileupReweight\"))\n",
    "    SYSTs.append((\"L1PrefireUp\", \"L1PrefireDown\"))\n",
    "    SYSTs.append((\"MuonRecoSFUp\", \"MuonRecoSFDown\"))\n",
    "    SYSTs.append((\"HeavyTagUpUnCorr\", \"HeavyTagDownUnCorr\"))\n",
    "    SYSTs.append((\"LightTagUpUnCorr\", \"LightTagDownUnCorr\"))\n",
    "    SYSTs.append((\"JetResUp\", \"JetResDown\"))\n",
    "    SYSTs.append((\"JetEnUp\", \"JetEnDown\"))\n",
    "    SYSTs.append((\"ElectronResUp\", \"ElectronResDown\"))\n",
    "    SYSTs.append((\"ElectronEnUp\", \"ElectronEnDown\"))\n",
    "    SYSTs.append((\"MuonEnUp\", \"MuonEnDown\"))"
   ]
  },
  {
   "cell_type": "code",
   "execution_count": 6,
   "metadata": {},
   "outputs": [
    {
     "name": "stdout",
     "output_type": "stream",
     "text": [
      "/home/choij/workspace/ChargedHiggsAnalysis/data/MeasFakeRateV2/2016preVFP/MeasFakeEl__/DATA/MeasFakeRateV2_DoubleEG.root\n"
     ]
    }
   ],
   "source": [
    "# data\n",
    "file_path = f\"{WORKDIR}/data/MeasFakeRateV2/{ERA}/{CHANNEL}__/DATA/MeasFakeRateV2_{DataStream}.root\"\n",
    "print(file_path)\n",
    "assert os.path.exists(file_path)\n",
    "f = ROOT.TFile.Open(file_path)\n",
    "data = f.Get(f\"ZEnriched_{HLTPATH}/{ID}/Central/pair/mass\"); data.SetDirectory(0)\n",
    "f.Close()"
   ]
  },
  {
   "cell_type": "code",
   "execution_count": 7,
   "metadata": {},
   "outputs": [
    {
     "data": {
      "text/plain": [
       "1987.0"
      ]
     },
     "execution_count": 7,
     "metadata": {},
     "output_type": "execute_result"
    }
   ],
   "source": [
    "data.Integral()"
   ]
  },
  {
   "cell_type": "code",
   "execution_count": 15,
   "metadata": {},
   "outputs": [],
   "source": [
    "def getSumMC(syst=\"Central\"):\n",
    "    sum = 0.\n",
    "    for sample in MCList:\n",
    "        file_path = f\"{WORKDIR}/data/MeasFakeRateV2/{ERA}/{CHANNEL}__RunSyst__/MeasFakeRateV2_{sample}.root\"\n",
    "        assert os.path.exists(file_path)\n",
    "        f = ROOT.TFile.Open(file_path)\n",
    "        try:\n",
    "            h = f.Get(f\"ZEnriched_{HLTPATH}/{ID}/{syst}/pair/mass\");   h.SetDirectory(0)\n",
    "            sum += h.Integral()\n",
    "        except:\n",
    "            print(sample)\n",
    "            continue\n",
    "    f.Close()\n",
    "    print(sum)\n",
    "    return sum"
   ]
  },
  {
   "cell_type": "code",
   "execution_count": 16,
   "metadata": {},
   "outputs": [
    {
     "name": "stdout",
     "output_type": "stream",
     "text": [
      "nan\n"
     ]
    }
   ],
   "source": [
    "### Get central scale\n",
    "sumMC = {}\n",
    "sumMC[\"Central\"] = getSumMC()\n",
    "for systset in SYSTs:\n",
    "    if len(systset) == 2:\n",
    "        systUp, systDown = systset\n",
    "        sumMC[systUp] = getSumMC(systUp)\n",
    "        sumMC[systDown] = getSumMC(systDown)\n",
    "    else:\n",
    "        syst = systset\n",
    "        sumMC[syst] = getSumMC(syst)"
   ]
  },
  {
   "cell_type": "code",
   "execution_count": 10,
   "metadata": {},
   "outputs": [],
   "source": [
    "# get scale values\n",
    "scaleMC = {}\n",
    "for syst, sum in sumMC.items():\n",
    "    scaleMC[syst] = data.Integral() / sum\n",
    "    \n",
    "diffMC = {}\n",
    "for syst, sum in scaleMC.items():\n",
    "    diffMC[syst] = (scaleMC[syst] - scaleMC[\"Central\"]) / scaleMC[\"Central\"]\n"
   ]
  },
  {
   "cell_type": "code",
   "execution_count": 11,
   "metadata": {},
   "outputs": [
    {
     "name": "stdout",
     "output_type": "stream",
     "text": [
      "{'Central': nan}\n"
     ]
    }
   ],
   "source": [
    "from pprint import pprint\n",
    "pprint(diffMC)"
   ]
  },
  {
   "cell_type": "code",
   "execution_count": 12,
   "metadata": {},
   "outputs": [
    {
     "name": "stdout",
     "output_type": "stream",
     "text": [
      "nan\n"
     ]
    }
   ],
   "source": [
    "print(scaleMC[\"Central\"])"
   ]
  },
  {
   "cell_type": "code",
   "execution_count": null,
   "metadata": {},
   "outputs": [],
   "source": []
  }
 ],
 "metadata": {
  "kernelspec": {
   "display_name": "torch",
   "language": "python",
   "name": "python3"
  },
  "language_info": {
   "codemirror_mode": {
    "name": "ipython",
    "version": 3
   },
   "file_extension": ".py",
   "mimetype": "text/x-python",
   "name": "python",
   "nbconvert_exporter": "python",
   "pygments_lexer": "ipython3",
   "version": "3.11.4"
  },
  "orig_nbformat": 4
 },
 "nbformat": 4,
 "nbformat_minor": 2
}
