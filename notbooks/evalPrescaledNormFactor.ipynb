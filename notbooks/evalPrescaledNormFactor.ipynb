{
 "cells": [
  {
   "cell_type": "code",
   "execution_count": 1,
   "metadata": {},
   "outputs": [
    {
     "name": "stdout",
     "output_type": "stream",
     "text": [
      "Welcome to JupyROOT 6.28/04\n"
     ]
    }
   ],
   "source": [
    "import os\n",
    "import ROOT\n",
    "from math import pow, sqrt"
   ]
  },
  {
   "cell_type": "markdown",
   "metadata": {},
   "source": [
    "#### Calculate normalization factor for fake rate measurement\n",
    "#### Based on M(ll) distribution"
   ]
  },
  {
   "cell_type": "code",
   "execution_count": 2,
   "metadata": {},
   "outputs": [],
   "source": [
    "WORKDIR = \"/home/choij/workspace/ChargedHiggsAnalysis\"\n",
    "ERA     = \"2016preVFP\"\n",
    "CHANNEL = \"MeasFakeMu\"\n",
    "HLTPATH = \"Mu17\"\n",
    "ID      = \"tight\""
   ]
  },
  {
   "cell_type": "code",
   "execution_count": 3,
   "metadata": {},
   "outputs": [],
   "source": [
    "#### sample list\n",
    "DataStream = \"\"\n",
    "if \"El\" in CHANNEL:\n",
    "    if \"2016\" in ERA:  DataStream = \"DoubleEG\"\n",
    "    if \"2017\" in ERA:  DataStream = \"SingleElectron\"\n",
    "    if \"2018\" in ERA:  DataStream = \"EGamma\"\n",
    "if \"Mu\" in CHANNEL:\n",
    "    DataStream = \"DoubleMuon\""
   ]
  },
  {
   "cell_type": "code",
   "execution_count": 11,
   "metadata": {},
   "outputs": [],
   "source": [
    "W  = [\"WJets_MG\"]\n",
    "DY = [\"DYJets\", \"DYJets10to50_MG\"]\n",
    "#DY = [\"DYJets10to50_MG\"]\n",
    "TT = [\"TTLL_powheg\"]\n",
    "VV = [\"WW_pythia\", \"WZ_pythia\", \"ZZ_pythia\"]\n",
    "#VV = [\"WW_pythia\", \"ZZ_pythia\"]\n",
    "ST = [\"SingleTop_sch_Lep\", \"SingleTop_tch_top_Incl\", \"SingleTop_tch_antitop_Incl\",\n",
    "      \"SingleTop_tW_top_NoFullyHad\", \"SingleTop_tW_antitop_NoFullyHad\"]\n",
    "MCList = W + DY + TT + VV + ST"
   ]
  },
  {
   "cell_type": "code",
   "execution_count": 12,
   "metadata": {},
   "outputs": [],
   "source": [
    "SYSTs = []\n",
    "if CHANNEL == \"MeasFakeEl\":\n",
    "    SYSTs.append((\"PileupReweight\"))\n",
    "    SYSTs.append((\"L1PrefireUp\", \"L1PrefireDown\"))\n",
    "    SYSTs.append((\"ElectronRecoSFUp\", \"ElectronRecoSFDown\"))\n",
    "    SYSTs.append((\"HeavyTagUpUnCorr\", \"HeavyTagDownUnCorr\"))\n",
    "    SYSTs.append((\"LightTagUpUnCorr\", \"LightTagDownUnCorr\"))\n",
    "    SYSTs.append((\"JetResUp\", \"JetResDown\"))\n",
    "    SYSTs.append((\"JetEnUp\", \"JetEnDown\"))\n",
    "    SYSTs.append((\"ElectronResUp\", \"ElectronResDown\"))\n",
    "    SYSTs.append((\"ElectronEnUp\", \"ElectronEnDown\"))\n",
    "    SYSTs.append((\"MuonEnUp\", \"MuonEnDown\"))\n",
    "if CHANNEL == \"MeasFakeMu\":\n",
    "    SYSTs.append((\"PileupReweight\"))\n",
    "    SYSTs.append((\"L1PrefireUp\", \"L1PrefireDown\"))\n",
    "    SYSTs.append((\"MuonRecoSFUp\", \"MuonRecoSFDown\"))\n",
    "    SYSTs.append((\"HeavyTagUpUnCorr\", \"HeavyTagDownUnCorr\"))\n",
    "    SYSTs.append((\"LightTagUpUnCorr\", \"LightTagDownUnCorr\"))\n",
    "    SYSTs.append((\"JetResUp\", \"JetResDown\"))\n",
    "    SYSTs.append((\"JetEnUp\", \"JetEnDown\"))\n",
    "    SYSTs.append((\"ElectronResUp\", \"ElectronResDown\"))\n",
    "    SYSTs.append((\"ElectronEnUp\", \"ElectronEnDown\"))\n",
    "    SYSTs.append((\"MuonEnUp\", \"MuonEnDown\"))"
   ]
  },
  {
   "cell_type": "code",
   "execution_count": 13,
   "metadata": {},
   "outputs": [
    {
     "name": "stdout",
     "output_type": "stream",
     "text": [
      "/home/choij/workspace/ChargedHiggsAnalysis/data/MeasFakeRateV2/2016preVFP/MeasFakeMu__/DATA/MeasFakeRateV2_DoubleMuon.root\n"
     ]
    }
   ],
   "source": [
    "# data\n",
    "file_path = f\"{WORKDIR}/data/MeasFakeRateV2/{ERA}/{CHANNEL}__/DATA/MeasFakeRateV2_{DataStream}.root\"\n",
    "print(file_path)\n",
    "assert os.path.exists(file_path)\n",
    "f = ROOT.TFile.Open(file_path)\n",
    "data = f.Get(f\"ZEnriched_{HLTPATH}/{ID}/Central/pair/mass\"); data.SetDirectory(0)\n",
    "f.Close()"
   ]
  },
  {
   "cell_type": "code",
   "execution_count": 14,
   "metadata": {},
   "outputs": [
    {
     "data": {
      "text/plain": [
       "128916.0"
      ]
     },
     "execution_count": 14,
     "metadata": {},
     "output_type": "execute_result"
    }
   ],
   "source": [
    "data.Integral()"
   ]
  },
  {
   "cell_type": "code",
   "execution_count": 15,
   "metadata": {},
   "outputs": [],
   "source": [
    "def getSumMC(syst=\"Central\"):\n",
    "    sum = 0.\n",
    "    for sample in MCList:\n",
    "        file_path = f\"{WORKDIR}/data/MeasFakeRateV2/{ERA}/{CHANNEL}__RunSyst__/MeasFakeRateV2_{sample}.root\"\n",
    "        assert os.path.exists(file_path)\n",
    "        f = ROOT.TFile.Open(file_path)\n",
    "        try:\n",
    "            h = f.Get(f\"ZEnriched_{HLTPATH}/{ID}/{syst}/pair/mass\");   h.SetDirectory(0)\n",
    "            print(sample, h.Integral())\n",
    "            sum += h.Integral()\n",
    "        except:\n",
    "            print(sample)\n",
    "            continue\n",
    "    f.Close()\n",
    "    print(sum)\n",
    "    return sum"
   ]
  },
  {
   "cell_type": "code",
   "execution_count": 16,
   "metadata": {},
   "outputs": [
    {
     "name": "stdout",
     "output_type": "stream",
     "text": [
      "WJets_MG 869.5875139787346\n"
     ]
    },
    {
     "ename": "AssertionError",
     "evalue": "",
     "output_type": "error",
     "traceback": [
      "\u001b[0;31m---------------------------------------------------------------------------\u001b[0m",
      "\u001b[0;31mAssertionError\u001b[0m                            Traceback (most recent call last)",
      "Cell \u001b[0;32mIn[16], line 3\u001b[0m\n\u001b[1;32m      1\u001b[0m \u001b[39m### Get central scale\u001b[39;00m\n\u001b[1;32m      2\u001b[0m sumMC \u001b[39m=\u001b[39m {}\n\u001b[0;32m----> 3\u001b[0m sumMC[\u001b[39m\"\u001b[39m\u001b[39mCentral\u001b[39m\u001b[39m\"\u001b[39m] \u001b[39m=\u001b[39m getSumMC()\n\u001b[1;32m      4\u001b[0m \u001b[39mfor\u001b[39;00m systset \u001b[39min\u001b[39;00m SYSTs:\n\u001b[1;32m      5\u001b[0m     \u001b[39mif\u001b[39;00m \u001b[39mlen\u001b[39m(systset) \u001b[39m==\u001b[39m \u001b[39m2\u001b[39m:\n",
      "Cell \u001b[0;32mIn[15], line 5\u001b[0m, in \u001b[0;36mgetSumMC\u001b[0;34m(syst)\u001b[0m\n\u001b[1;32m      3\u001b[0m \u001b[39mfor\u001b[39;00m sample \u001b[39min\u001b[39;00m MCList:\n\u001b[1;32m      4\u001b[0m     file_path \u001b[39m=\u001b[39m \u001b[39mf\u001b[39m\u001b[39m\"\u001b[39m\u001b[39m{\u001b[39;00mWORKDIR\u001b[39m}\u001b[39;00m\u001b[39m/data/MeasFakeRateV2/\u001b[39m\u001b[39m{\u001b[39;00mERA\u001b[39m}\u001b[39;00m\u001b[39m/\u001b[39m\u001b[39m{\u001b[39;00mCHANNEL\u001b[39m}\u001b[39;00m\u001b[39m__RunSyst__/MeasFakeRateV2_\u001b[39m\u001b[39m{\u001b[39;00msample\u001b[39m}\u001b[39;00m\u001b[39m.root\u001b[39m\u001b[39m\"\u001b[39m\n\u001b[0;32m----> 5\u001b[0m     \u001b[39massert\u001b[39;00m os\u001b[39m.\u001b[39mpath\u001b[39m.\u001b[39mexists(file_path)\n\u001b[1;32m      6\u001b[0m     f \u001b[39m=\u001b[39m ROOT\u001b[39m.\u001b[39mTFile\u001b[39m.\u001b[39mOpen(file_path)\n\u001b[1;32m      7\u001b[0m     \u001b[39mtry\u001b[39;00m:\n",
      "\u001b[0;31mAssertionError\u001b[0m: "
     ]
    }
   ],
   "source": [
    "### Get central scale\n",
    "sumMC = {}\n",
    "sumMC[\"Central\"] = getSumMC()\n",
    "for systset in SYSTs:\n",
    "    if len(systset) == 2:\n",
    "        systUp, systDown = systset\n",
    "        sumMC[systUp] = getSumMC(systUp)\n",
    "        sumMC[systDown] = getSumMC(systDown)\n",
    "    else:\n",
    "        syst = systset\n",
    "        sumMC[syst] = getSumMC(syst)"
   ]
  },
  {
   "cell_type": "code",
   "execution_count": 61,
   "metadata": {},
   "outputs": [],
   "source": [
    "# get scale values\n",
    "scaleMC = {}\n",
    "for syst, sum in sumMC.items():\n",
    "    scaleMC[syst] = data.Integral() / sum\n",
    "    \n",
    "diffMC = {}\n",
    "for syst, sum in scaleMC.items():\n",
    "    diffMC[syst] = (scaleMC[syst] - scaleMC[\"Central\"]) / scaleMC[\"Central\"]\n"
   ]
  },
  {
   "cell_type": "code",
   "execution_count": 62,
   "metadata": {},
   "outputs": [
    {
     "name": "stdout",
     "output_type": "stream",
     "text": [
      "{'Central': 0.0,\n",
      " 'ElectronEnDown': -2.7941238625517497e-06,\n",
      " 'ElectronEnUp': 1.3132469169650061e-05,\n",
      " 'ElectronResDown': 0.0,\n",
      " 'ElectronResUp': 0.0,\n",
      " 'HeavyTagDownUnCorr': 0.0015102749607894237,\n",
      " 'HeavyTagUpUnCorr': -0.001497234904265211,\n",
      " 'JetEnDown': 4.7259781151163166e-05,\n",
      " 'JetEnUp': -3.063882122540463e-05,\n",
      " 'JetResDown': 2.159293819600332e-06,\n",
      " 'JetResUp': 1.141191115781099e-05,\n",
      " 'L1PrefireDown': -0.007520174564165288,\n",
      " 'L1PrefireUp': 0.00775920620685325,\n",
      " 'LightTagDownUnCorr': -0.00040876775394527696,\n",
      " 'LightTagUpUnCorr': 0.0004086061936796051,\n",
      " 'MuonEnDown': -7.295800535211774e-05,\n",
      " 'MuonEnUp': 8.872217937818777e-05,\n",
      " 'MuonRecoSFDown': 0.0028552176123275127,\n",
      " 'MuonRecoSFUp': -0.0028430416399660044,\n",
      " 'PileupReweight': 0.011557422533506511}\n"
     ]
    }
   ],
   "source": [
    "from pprint import pprint\n",
    "pprint(diffMC)"
   ]
  },
  {
   "cell_type": "code",
   "execution_count": 63,
   "metadata": {},
   "outputs": [
    {
     "name": "stdout",
     "output_type": "stream",
     "text": [
      "0.5086982702325775\n"
     ]
    }
   ],
   "source": [
    "print(scaleMC[\"Central\"])"
   ]
  },
  {
   "cell_type": "code",
   "execution_count": null,
   "metadata": {},
   "outputs": [],
   "source": []
  }
 ],
 "metadata": {
  "kernelspec": {
   "display_name": "torch",
   "language": "python",
   "name": "python3"
  },
  "language_info": {
   "codemirror_mode": {
    "name": "ipython",
    "version": 3
   },
   "file_extension": ".py",
   "mimetype": "text/x-python",
   "name": "python",
   "nbconvert_exporter": "python",
   "pygments_lexer": "ipython3",
   "version": "3.11.4"
  },
  "orig_nbformat": 4
 },
 "nbformat": 4,
 "nbformat_minor": 2
}
