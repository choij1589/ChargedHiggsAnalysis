{
 "cells": [
  {
   "cell_type": "code",
   "execution_count": 5,
   "metadata": {},
   "outputs": [
    {
     "name": "stdout",
     "output_type": "stream",
     "text": [
      "Welcome to JupyROOT 6.28/00\n"
     ]
    }
   ],
   "source": [
    "import json\n",
    "import ROOT"
   ]
  },
  {
   "cell_type": "code",
   "execution_count": 14,
   "metadata": {},
   "outputs": [],
   "source": [
    "ERA = \"2016postVFP\"\n",
    "CHANNEL = \"Skim3Mu\"\n",
    "NETWORK = \"GraphNet\"\n",
    "MASSPOINTs = [\"MHc-130_MA-15\", \"MHc-70_MA-40\", \"MHc-130_MA-55\", \"MHc-100_MA-60\",\n",
    "              \"MHc-70_MA-65\", \"MHc-160_MA-85\", \"MHc-130_MA-90\", \"MHc-100_MA-95\",\n",
    "              \"MHc-160_MA-120\", \"MHc-130_MA-125\", \"MHc-160_MA-155\"]\n",
    "MASSPOINTsWithCut = [\"MHc-70_MA-65\", \"MHc-160_MA-85\", \"MHc-130_MA-90\", \"MHc-100_MA-95\",]\n",
    "METHOD = \"HybridNew\""
   ]
  },
  {
   "cell_type": "code",
   "execution_count": 15,
   "metadata": {},
   "outputs": [],
   "source": [
    "def parseAsymptoticLimit(MASSPOINT):\n",
    "    BASEDIR = f\"results/{ERA}/{CHANNEL}__{NETWORK}__/{MASSPOINT}\"\n",
    "    f = ROOT.TFile(f\"{BASEDIR}/higgsCombineTest.AsymptoticLimits.mH120.root\")\n",
    "    limit = f.Get(\"limit\")\n",
    "    values = {}\n",
    "    for idx, entry in enumerate(limit): values[idx] = entry.limit\n",
    "    f.Close()\n",
    "    \n",
    "    out = {}\n",
    "    out[\"exp-2\"] = values[0] * 3\n",
    "    out[\"exp-1\"] = values[1] * 3\n",
    "    out[\"exp0\"] = values[2] * 3\n",
    "    out[\"exp+1\"] = values[3] * 3\n",
    "    out[\"exp+2\"] = values[4] * 3\n",
    "    out[\"obs\"] = values[5] * 3\n",
    "    return out"
   ]
  },
  {
   "cell_type": "code",
   "execution_count": 16,
   "metadata": {},
   "outputs": [],
   "source": [
    "def readHybridNewResult(path):\n",
    "    #print(path)\n",
    "    f = ROOT.TFile(path)\n",
    "    limit = f.Get(\"limit\")\n",
    "    try:\n",
    "        for entry in limit:\n",
    "            out = entry.limit\n",
    "            #print(out)\n",
    "    except Exception as e:\n",
    "        print(path)\n",
    "        print(e)\n",
    "    return out * 5\n",
    "\n",
    "def parseHybridNewLimit(MASSPOINT, doCnC=False, withCut=False):\n",
    "    if doCnC:\n",
    "        BASEDIR = f\"../HiggsCombineV1/results/{ERA}/{CHANNEL}__/{MASSPOINT}\"\n",
    "    elif withCut:\n",
    "        BASEDIR = f\"results/{ERA}/{CHANNEL}__{NETWORK}__/{MASSPOINT}\"\n",
    "    else:\n",
    "        BASEDIR = f\"../HiggsCombineV2/results/{ERA}/{CHANNEL}__/{MASSPOINT}\"\n",
    "    out = {}\n",
    "    out[\"exp-2\"] = readHybridNewResult(f\"{BASEDIR}/higgsCombineTest.HybridNew.mH120.quant0.025.root\")\n",
    "    out[\"exp-1\"] = readHybridNewResult(f\"{BASEDIR}/higgsCombineTest.HybridNew.mH120.quant0.160.root\")\n",
    "    out[\"exp0\"] = readHybridNewResult(f\"{BASEDIR}/higgsCombineTest.HybridNew.mH120.quant0.500.root\")\n",
    "    out[\"exp+1\"] = readHybridNewResult(f\"{BASEDIR}/higgsCombineTest.HybridNew.mH120.quant0.840.root\")\n",
    "    out[\"exp+2\"] = readHybridNewResult(f\"{BASEDIR}/higgsCombineTest.HybridNew.mH120.quant0.975.root\")\n",
    "    out[\"obs\"] = readHybridNewResult(f\"{BASEDIR}/higgsCombineTest.HybridNew.mH120.root\")\n",
    "    return out"
   ]
  },
  {
   "cell_type": "code",
   "execution_count": 17,
   "metadata": {},
   "outputs": [
    {
     "name": "stdout",
     "output_type": "stream",
     "text": [
      "{'15': {'exp-2': 1.953125, 'exp-1': 2.2300378786287482, 'exp0': 2.755477365073654, 'exp+1': 3.7770293490878544, 'exp+2': 5.346515772017247, 'obs': 3.13892827960405}, '40': {'exp-2': 2.734375, 'exp-1': 3.961018723551146, 'exp0': 5.363720691661368, 'exp+1': 7.5744374663205765, 'exp+2': 10.006237895487955, 'obs': 5.4477656968376245}, '55': {'exp-2': 2.3028081436922863, 'exp-1': 2.4887354025718023, 'exp0': 3.8297509644247074, 'exp+1': 5.318819082308941, 'exp+2': 7.36890295479445, 'obs': 3.9916642253939605}, '60': {'exp-2': 2.734375, 'exp-1': 3.447135450525077, 'exp0': 4.980006402866664, 'exp+1': 6.704175269929581, 'exp+2': 8.714893981867524, 'obs': 5.025887161226796}, '65': {'exp-2': 1.171875, 'exp-1': 3.4436883299760224, 'exp0': 4.473565378039767, 'exp+1': 6.237573502270655, 'exp+2': 8.685400821809443, 'obs': 4.703025381431614}, '85': {'exp-2': 3.0656524734215114, 'exp-1': 4.15068611813223, 'exp0': 5.34125950812051, 'exp+1': 6.819734286628311, 'exp+2': 9.833107679382968, 'obs': 5.482771180711673}, '90': {'exp-2': 5.859375, 'exp-1': 8.22049519690683, 'exp0': 11.31736074416612, 'exp+1': 15.826869716182973, 'exp+2': 20.95682948111051, 'obs': 11.447758637799392}, '95': {'exp-2': 2.734375, 'exp-1': 5.459489499806828, 'exp0': 7.7768738151239925, 'exp+1': 11.115707105086372, 'exp+2': 14.845323009095864, 'obs': 7.737884408751114}, '120': {'exp-2': 1.171875, 'exp-1': 2.734375, 'exp0': 3.7179663418103024, 'exp+1': 5.086745782895542, 'exp+2': 7.4162253584954225, 'obs': 3.9731359846450505}, '125': {'exp-2': 1.9695970714151678, 'exp-1': 2.8874171351305726, 'exp0': 3.7732810648231077, 'exp+1': 5.44895343177802, 'exp+2': 7.093500082412378, 'obs': 3.82373628696901}, '155': {'exp-2': 1.953125, 'exp-1': 3.4805306114601047, 'exp0': 4.912075289006368, 'exp+1': 6.377185988330964, 'exp+2': 8.779470953695991, 'obs': 4.898949981500565}}\n",
      "MHc-70_MA-65\n",
      "MHc-160_MA-85\n",
      "MHc-130_MA-90\n",
      "MHc-100_MA-95\n",
      "{'15': {'exp-2': 1.953125, 'exp-1': 2.2300378786287482, 'exp0': 2.755477365073654, 'exp+1': 3.7770293490878544, 'exp+2': 5.346515772017247, 'obs': 3.13892827960405}, '40': {'exp-2': 2.734375, 'exp-1': 3.961018723551146, 'exp0': 5.363720691661368, 'exp+1': 7.5744374663205765, 'exp+2': 10.006237895487955, 'obs': 5.4477656968376245}, '55': {'exp-2': 2.3028081436922863, 'exp-1': 2.4887354025718023, 'exp0': 3.8297509644247074, 'exp+1': 5.318819082308941, 'exp+2': 7.36890295479445, 'obs': 3.9916642253939605}, '60': {'exp-2': 2.734375, 'exp-1': 3.447135450525077, 'exp0': 4.980006402866664, 'exp+1': 6.704175269929581, 'exp+2': 8.714893981867524, 'obs': 5.025887161226796}, '65': {'exp-2': 2.734375, 'exp-1': 3.1699565797018807, 'exp0': 4.304910401785827, 'exp+1': 6.011480053230085, 'exp+2': 8.46851144003784, 'obs': 4.470689217255531}, '85': {'exp-2': 2.487486851751223, 'exp-1': 2.734375, 'exp0': 4.027735116975957, 'exp+1': 5.619359044833879, 'exp+2': 7.927834769126098, 'obs': 4.2061667183238445}, '90': {'exp-2': 3.515625, 'exp-1': 5.135023921511084, 'exp0': 6.6774259949689085, 'exp+1': 9.576607913588486, 'exp+2': 13.465758038995084, 'obs': 6.727142261347762}, '95': {'exp-2': 2.734375, 'exp-1': 4.535492147598886, 'exp0': 5.981813374244787, 'exp+1': 8.834641694357739, 'exp+2': 11.613961457382844, 'obs': 6.352322136348234}, '120': {'exp-2': 1.171875, 'exp-1': 2.734375, 'exp0': 3.7179663418103024, 'exp+1': 5.086745782895542, 'exp+2': 7.4162253584954225, 'obs': 3.9731359846450505}, '125': {'exp-2': 1.9695970714151678, 'exp-1': 2.8874171351305726, 'exp0': 3.7732810648231077, 'exp+1': 5.44895343177802, 'exp+2': 7.093500082412378, 'obs': 3.82373628696901}, '155': {'exp-2': 1.953125, 'exp-1': 3.4805306114601047, 'exp0': 4.912075289006368, 'exp+1': 6.377185988330964, 'exp+2': 8.779470953695991, 'obs': 4.898949981500565}}\n"
     ]
    },
    {
     "name": "stderr",
     "output_type": "stream",
     "text": [
      "Error in <TString::ReadBuffer>: found case with nwh=255 and nchars=-28\n"
     ]
    }
   ],
   "source": [
    "limits = {}\n",
    "\n",
    "#for masspoint in MASSPOINTs:\n",
    "#    mA = masspoint.split(\"_\")[1].split(\"-\")[1]\n",
    "##    limits[mA] = parseHybridNewLimit(masspoint, doCnC=True)\n",
    "#print(limits)\n",
    "#with open(f\"limits.{ERA}.{CHANNEL}.HybridNew.doCnC.json\", \"w\") as f:\n",
    "#    json.dump(limits, f, indent=2)\n",
    "\n",
    "#for masspoint in MASSPOINTs:\n",
    "#    mA =  masspoint.split(\"_\")[1].split(\"-\")[1]\n",
    "#    limits[mA] = parseHybridNewLimit(masspoint, doCnC=True)\n",
    "#print(limits)\n",
    "#with open(f\"limits.{ERA}.{CHANNEL}.HybridNew.CnC.json\", \"w\") as f:\n",
    "#    json.dump(limits, f, indent=2) \n",
    "\n",
    "for masspoint in MASSPOINTs:\n",
    "    mA = masspoint.split(\"_\")[1].split(\"-\")[1]\n",
    "    limits[mA] = parseHybridNewLimit(masspoint)\n",
    "\n",
    "print(limits)\n",
    "with open(f\"limits.{ERA}.{CHANNEL}.HybridNew.NoCut.json\", \"w\") as f:\n",
    "    json.dump(limits, f, indent=2)\n",
    "    \n",
    "for masspoint in MASSPOINTsWithCut:\n",
    "    print(masspoint)\n",
    "    mA = masspoint.split(\"_\")[1].split(\"-\")[1]\n",
    "    limits[mA] = parseHybridNewLimit(masspoint, withCut=True)\n",
    "\n",
    "print(limits)\n",
    "with open(f\"limits.{ERA}.{CHANNEL}.HybridNew.WithCut.json\", \"w\") as f:\n",
    "    json.dump(limits, f, indent=2) "
   ]
  },
  {
   "cell_type": "code",
   "execution_count": null,
   "metadata": {},
   "outputs": [],
   "source": []
  }
 ],
 "metadata": {
  "kernelspec": {
   "display_name": "torch",
   "language": "python",
   "name": "python3"
  },
  "language_info": {
   "codemirror_mode": {
    "name": "ipython",
    "version": 3
   },
   "file_extension": ".py",
   "mimetype": "text/x-python",
   "name": "python",
   "nbconvert_exporter": "python",
   "pygments_lexer": "ipython3",
   "version": "3.11.3"
  },
  "orig_nbformat": 4
 },
 "nbformat": 4,
 "nbformat_minor": 2
}
