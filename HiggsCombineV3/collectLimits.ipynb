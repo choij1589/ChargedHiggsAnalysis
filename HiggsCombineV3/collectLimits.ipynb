{
 "cells": [
  {
   "cell_type": "code",
   "execution_count": 1,
   "metadata": {},
   "outputs": [
    {
     "name": "stdout",
     "output_type": "stream",
     "text": [
      "Welcome to JupyROOT 6.28/00\n"
     ]
    }
   ],
   "source": [
    "import json\n",
    "import ROOT"
   ]
  },
  {
   "cell_type": "code",
   "execution_count": 2,
   "metadata": {},
   "outputs": [],
   "source": [
    "ERA = \"2017\"\n",
    "CHANNEL = \"Skim3Mu\"\n",
    "NETWORK = \"GraphNet\"\n",
    "MASSPOINTs = [\"MHc-130_MA-15\", \"MHc-70_MA-40\", \"MHc-130_MA-55\", \"MHc-100_MA-60\",\n",
    "              \"MHc-70_MA-65\", \"MHc-160_MA-85\", \"MHc-130_MA-90\", \"MHc-100_MA-95\",\n",
    "              \"MHc-160_MA-120\", \"MHc-130_MA-125\", \"MHc-160_MA-155\"]\n",
    "MASSPOINTsWithCut = [\"MHc-70_MA-65\", \"MHc-160_MA-85\", \"MHc-130_MA-90\", \"MHc-100_MA-95\", \"MHc-160_MA-120\"]\n",
    "METHOD = \"HybridNew\""
   ]
  },
  {
   "cell_type": "code",
   "execution_count": 3,
   "metadata": {},
   "outputs": [],
   "source": [
    "def parseAsymptoticLimit(MASSPOINT):\n",
    "    BASEDIR = f\"results/{ERA}/{CHANNEL}__{NETWORK}__/{MASSPOINT}\"\n",
    "    f = ROOT.TFile(f\"{BASEDIR}/higgsCombineTest.AsymptoticLimits.mH120.root\")\n",
    "    limit = f.Get(\"limit\")\n",
    "    values = {}\n",
    "    for idx, entry in enumerate(limit): values[idx] = entry.limit\n",
    "    f.Close()\n",
    "    \n",
    "    out = {}\n",
    "    out[\"exp-2\"] = values[0] * 3\n",
    "    out[\"exp-1\"] = values[1] * 3\n",
    "    out[\"exp0\"] = values[2] * 3\n",
    "    out[\"exp+1\"] = values[3] * 3\n",
    "    out[\"exp+2\"] = values[4] * 3\n",
    "    out[\"obs\"] = values[5] * 3\n",
    "    return out"
   ]
  },
  {
   "cell_type": "code",
   "execution_count": 6,
   "metadata": {},
   "outputs": [],
   "source": [
    "def readHybridNewResult(path):\n",
    "    f = ROOT.TFile(path)\n",
    "    limit = f.Get(\"limit\")\n",
    "    try:\n",
    "        for entry in limit:\n",
    "            out = entry.limit\n",
    "    except Exception as e:\n",
    "        print(path)\n",
    "        print(e)\n",
    "    return out * 3\n",
    "\n",
    "def parseHybridNewLimit(MASSPOINT, doCnC=False, withCut=False):\n",
    "    if doCnC:\n",
    "        BASEDIR = f\"../HiggsCombineV1/results/{ERA}/{CHANNEL}__/{MASSPOINT}\"\n",
    "    elif withCut:\n",
    "        BASEDIR = f\"results/{ERA}/{CHANNEL}__{NETWORK}__/{MASSPOINT}\"\n",
    "    else:\n",
    "        BASEDIR = f\"../HiggsCombineV2/results/{ERA}/{CHANNEL}__/{MASSPOINT}\"\n",
    "    out = {}\n",
    "    out[\"exp-2\"] = readHybridNewResult(f\"{BASEDIR}/higgsCombineTest.HybridNew.mH120.quant0.025.root\")\n",
    "    out[\"exp-1\"] = readHybridNewResult(f\"{BASEDIR}/higgsCombineTest.HybridNew.mH120.quant0.160.root\")\n",
    "    out[\"exp0\"] = readHybridNewResult(f\"{BASEDIR}/higgsCombineTest.HybridNew.mH120.quant0.500.root\")\n",
    "    out[\"exp+1\"] = readHybridNewResult(f\"{BASEDIR}/higgsCombineTest.HybridNew.mH120.quant0.840.root\")\n",
    "    out[\"exp+2\"] = readHybridNewResult(f\"{BASEDIR}/higgsCombineTest.HybridNew.mH120.quant0.975.root\")\n",
    "    out[\"obs\"] = readHybridNewResult(f\"{BASEDIR}/higgsCombineTest.HybridNew.mH120.root\")\n",
    "    return out"
   ]
  },
  {
   "cell_type": "code",
   "execution_count": 8,
   "metadata": {},
   "outputs": [
    {
     "name": "stdout",
     "output_type": "stream",
     "text": [
      "{'15': {'exp-2': 0.3389340400940256, 'exp-1': 0.26411848139450267, 'exp0': 0.4244873001523678, 'exp+1': 0.5919798985113787, 'exp+2': 0.8685633046328678, 'obs': 0.45613504600728194}, '40': {'exp-2': 0.703125, 'exp-1': 0.7272545125831066, 'exp0': 1.038950179012978, 'exp+1': 1.2568260111718352, 'exp+2': 1.812879366148605, 'obs': 1.0235268358571246}, '55': {'exp-2': 0.47791095408098183, 'exp-1': 0.6220843595928242, 'exp0': 0.7249963521054257, 'exp+1': 1.1645721760815437, 'exp+2': 1.4453918630766305, 'obs': 0.8391602545306256}, '60': {'exp-2': 0.234375, 'exp-1': 0.5253043070377199, 'exp0': 0.8880695269266174, 'exp+1': 1.2115997625905497, 'exp+2': 1.6014950551483964, 'obs': 0.9288896487168466}, '65': {'exp-2': 0.660212215617568, 'exp-1': 0.7295429137704903, 'exp0': 1.171875, 'exp+1': 1.4798671395579297, 'exp+2': 1.8608660923336602, 'obs': 1.007996331436249}, '85': {'exp-2': 0.8242802725312659, 'exp-1': 0.9697945050866399, 'exp0': 1.201095291432194, 'exp+1': 1.6419174076070635, 'exp+2': 2.178579003880862, 'obs': 1.1959034644133177}, '90': {'exp-2': 1.171875, 'exp-1': 1.8450657451287866, 'exp0': 2.432270685332048, 'exp+1': 3.3819645369985825, 'exp+2': 4.615864897990065, 'obs': 2.4638602952435824}, '95': {'exp-2': 0.703125, 'exp-1': 0.9964929026862346, 'exp0': 1.5090271544418308, 'exp+1': 2.152598577149733, 'exp+2': 2.7760459196150884, 'obs': 1.5594261554479973}, '120': {'exp-2': 0.234375, 'exp-1': 0.31866096129030985, 'exp0': 0.7799092780390421, 'exp+1': 1.0201456213561755, 'exp+2': 1.384526322490295, 'obs': 0.7956240152235292}, '125': {'exp-2': 0.4431894977904363, 'exp-1': 0.703125, 'exp0': 0.8233943772514978, 'exp+1': 1.1369577303328677, 'exp+2': 1.4553066726237174, 'obs': 0.8304310007686257}, '155': {'exp-2': 0.4429792198558656, 'exp-1': 0.5859757507813683, 'exp0': 0.7906566767053607, 'exp+1': 1.161832321025717, 'exp+2': 1.6053853905053757, 'obs': 0.7919805399909186}}\n",
      "MHc-70_MA-65\n",
      "MHc-160_MA-85\n",
      "MHc-130_MA-90\n",
      "MHc-100_MA-95\n",
      "MHc-160_MA-120\n",
      "{'15': {'exp-2': 0.3389340400940256, 'exp-1': 0.26411848139450267, 'exp0': 0.4244873001523678, 'exp+1': 0.5919798985113787, 'exp+2': 0.8685633046328678, 'obs': 0.45613504600728194}, '40': {'exp-2': 0.703125, 'exp-1': 0.7272545125831066, 'exp0': 1.038950179012978, 'exp+1': 1.2568260111718352, 'exp+2': 1.812879366148605, 'obs': 1.0235268358571246}, '55': {'exp-2': 0.47791095408098183, 'exp-1': 0.6220843595928242, 'exp0': 0.7249963521054257, 'exp+1': 1.1645721760815437, 'exp+2': 1.4453918630766305, 'obs': 0.8391602545306256}, '60': {'exp-2': 0.234375, 'exp-1': 0.5253043070377199, 'exp0': 0.8880695269266174, 'exp+1': 1.2115997625905497, 'exp+2': 1.6014950551483964, 'obs': 0.9288896487168466}, '65': {'exp-2': 0.234375, 'exp-1': 0.4494293410040169, 'exp0': 0.594144583847221, 'exp+1': 0.849554058055755, 'exp+2': 1.208055796450421, 'obs': 0.6290452622294616}, '85': {'exp-2': 0.47434800643965874, 'exp-1': 0.703125, 'exp0': 0.8947614555461281, 'exp+1': 1.278750914609645, 'exp+2': 1.4977370031402613, 'obs': 0.9039698617071044}, '90': {'exp-2': 0.9391003566802915, 'exp-1': 1.0789149599461245, 'exp0': 1.8288904227491196, 'exp+1': 2.4498846895348345, 'exp+2': 3.426251251084226, 'obs': 1.803814915450685}, '95': {'exp-2': 0.703125, 'exp-1': 0.6646214583431045, 'exp0': 0.9597931492680908, 'exp+1': 1.2714543584362075, 'exp+2': 1.798547757939216, 'obs': 1.0288043412720873}, '120': {'exp-2': 0.234375, 'exp-1': 0.362742566845013, 'exp0': 0.4876571658703842, 'exp+1': 0.6955882799320885, 'exp+2': 1.0106471361448788, 'obs': 0.703125}, '125': {'exp-2': 0.4431894977904363, 'exp-1': 0.703125, 'exp0': 0.8233943772514978, 'exp+1': 1.1369577303328677, 'exp+2': 1.4553066726237174, 'obs': 0.8304310007686257}, '155': {'exp-2': 0.4429792198558656, 'exp-1': 0.5859757507813683, 'exp0': 0.7906566767053607, 'exp+1': 1.161832321025717, 'exp+2': 1.6053853905053757, 'obs': 0.7919805399909186}}\n"
     ]
    },
    {
     "name": "stderr",
     "output_type": "stream",
     "text": [
      "Error in <TString::ReadBuffer>: found case with nwh=255 and nchars=-1760432728\n"
     ]
    }
   ],
   "source": [
    "limits = {}\n",
    "\n",
    "#for masspoint in MASSPOINTs:\n",
    "#    mA = masspoint.split(\"_\")[1].split(\"-\")[1]\n",
    "##    limits[mA] = parseHybridNewLimit(masspoint, doCnC=True)\n",
    "#print(limits)\n",
    "#with open(f\"limits.{ERA}.{CHANNEL}.HybridNew.doCnC.json\", \"w\") as f:\n",
    "#    json.dump(limits, f, indent=2)\n",
    "\n",
    "for masspoint in MASSPOINTs:\n",
    "    mA = masspoint.split(\"_\")[1].split(\"-\")[1]\n",
    "    limits[mA] = parseHybridNewLimit(masspoint)\n",
    "\n",
    "print(limits)\n",
    "with open(f\"limits.{ERA}.{CHANNEL}.HybridNew.NoCut.json\", \"w\") as f:\n",
    "    json.dump(limits, f, indent=2)\n",
    "    \n",
    "for masspoint in MASSPOINTsWithCut:\n",
    "    print(masspoint)\n",
    "    mA = masspoint.split(\"_\")[1].split(\"-\")[1]\n",
    "    limits[mA] = parseHybridNewLimit(masspoint, withCut=True)\n",
    "\n",
    "print(limits)\n",
    "with open(f\"limits.{ERA}.{CHANNEL}.HybridNew.WithCut.json\", \"w\") as f:\n",
    "    json.dump(limits, f, indent=2) "
   ]
  },
  {
   "cell_type": "code",
   "execution_count": null,
   "metadata": {},
   "outputs": [],
   "source": []
  }
 ],
 "metadata": {
  "kernelspec": {
   "display_name": "torch",
   "language": "python",
   "name": "python3"
  },
  "language_info": {
   "codemirror_mode": {
    "name": "ipython",
    "version": 3
   },
   "file_extension": ".py",
   "mimetype": "text/x-python",
   "name": "python",
   "nbconvert_exporter": "python",
   "pygments_lexer": "ipython3",
   "version": "3.11.3"
  },
  "orig_nbformat": 4
 },
 "nbformat": 4,
 "nbformat_minor": 2
}
