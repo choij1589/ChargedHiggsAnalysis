{
 "cells": [
  {
   "cell_type": "code",
   "execution_count": 1,
   "metadata": {},
   "outputs": [
    {
     "name": "stdout",
     "output_type": "stream",
     "text": [
      "Welcome to JupyROOT 6.28/00\n"
     ]
    }
   ],
   "source": [
    "import json\n",
    "import ROOT"
   ]
  },
  {
   "cell_type": "code",
   "execution_count": 2,
   "metadata": {},
   "outputs": [],
   "source": [
    "ERA = \"2018\"\n",
    "CHANNEL = \"Skim3Mu\"\n",
    "NETWORK = \"GraphNet\"\n",
    "MASSPOINTs = [\"MHc-70_MA-65\", \"MHc-160_MA-85\", \"MHc-130_MA-90\", \"MHc-100_MA-95\", \"MHc-160_MA-120\"]\n",
    "METHOD = \"HybridNew\""
   ]
  },
  {
   "cell_type": "code",
   "execution_count": 3,
   "metadata": {},
   "outputs": [],
   "source": [
    "def parseAsymptoticLimit(MASSPOINT):\n",
    "    BASEDIR = f\"results/{ERA}/{CHANNEL}__{NETWORK}__/{MASSPOINT}\"\n",
    "    f = ROOT.TFile(f\"{BASEDIR}/higgsCombineTest.AsymptoticLimits.mH120.root\")\n",
    "    limit = f.Get(\"limit\")\n",
    "    values = {}\n",
    "    for idx, entry in enumerate(limit): values[idx] = entry.limit\n",
    "    f.Close()\n",
    "    \n",
    "    out = {}\n",
    "    out[\"exp-2\"] = values[0] * 5\n",
    "    out[\"exp-1\"] = values[1] * 5\n",
    "    out[\"exp0\"] = values[2] * 5\n",
    "    out[\"exp+1\"] = values[3] * 5\n",
    "    out[\"exp+2\"] = values[4] * 5\n",
    "    out[\"obs\"] = values[5] * 5\n",
    "    return out"
   ]
  },
  {
   "cell_type": "code",
   "execution_count": 4,
   "metadata": {},
   "outputs": [],
   "source": [
    "def readHybridNewResult(path):\n",
    "    f = ROOT.TFile(path)\n",
    "    limit = f.Get(\"limit\")\n",
    "    for entry in limit:\n",
    "        out = entry.limit\n",
    "    return out * 5 \n",
    "\n",
    "def parseHybridNewLimit(MASSPOINT):\n",
    "    BASEDIR = f\"results/{ERA}/{CHANNEL}__{NETWORK}__/{MASSPOINT}\"\n",
    "    out = {}\n",
    "    out[\"exp-2\"] = readHybridNewResult(f\"{BASEDIR}/higgsCombineTest.HybridNew.mH120.quant0.025.root\")\n",
    "    out[\"exp-1\"] = readHybridNewResult(f\"{BASEDIR}/higgsCombineTest.HybridNew.mH120.quant0.160.root\")\n",
    "    out[\"exp0\"] = readHybridNewResult(f\"{BASEDIR}/higgsCombineTest.HybridNew.mH120.quant0.500.root\")\n",
    "    out[\"exp+1\"] = readHybridNewResult(f\"{BASEDIR}/higgsCombineTest.HybridNew.mH120.quant0.840.root\")\n",
    "    out[\"exp+2\"] = readHybridNewResult(f\"{BASEDIR}/higgsCombineTest.HybridNew.mH120.quant0.975.root\")\n",
    "    out[\"obs\"] = readHybridNewResult(f\"{BASEDIR}/higgsCombineTest.HybridNew.mH120.root\")\n",
    "    return out"
   ]
  },
  {
   "cell_type": "code",
   "execution_count": 5,
   "metadata": {},
   "outputs": [
    {
     "name": "stdout",
     "output_type": "stream",
     "text": [
      "{'65': {'exp-2': 0.8183833849941219, 'exp-1': 1.3335086027621847, 'exp0': 1.8036958766087317, 'exp+1': 2.5814148245291957, 'exp+2': 3.401694768079632, 'obs': 1.7600353598989766}, '85': {'exp-2': 1.5625, 'exp-1': 1.818173552016442, 'exp0': 2.2889485903960543, 'exp+1': 3.1438242093508153, 'exp+2': 4.888208158378926, 'obs': 2.142944716019298}, '90': {'exp-2': 1.953125, 'exp-1': 3.1753491048551807, 'exp0': 4.471942896365041, 'exp+1': 6.572951176638531, 'exp+2': 8.363040532953255, 'obs': 4.454064709764616}, '95': {'exp-2': 1.171875, 'exp-1': 1.769640634660603, 'exp0': 2.4828352019649476, 'exp+1': 3.553288687500143, 'exp+2': 4.804156168677304, 'obs': 2.752250008779744}, '120': {'exp-2': 1.171875, 'exp-1': 1.2255879997232948, 'exp0': 1.5743245952492158, 'exp+1': 2.1037531486851697, 'exp+2': 3.0350910063952585, 'obs': 1.6675051559738479}}\n"
     ]
    }
   ],
   "source": [
    "limits = {}\n",
    "\n",
    "for masspoint in MASSPOINTs:\n",
    "    mA = masspoint.split(\"_\")[1].split(\"-\")[1]\n",
    "    limits[mA] = parseHybridNewLimit(masspoint)\n",
    "\n",
    "print(limits)\n",
    "with open(f\"limits.{ERA}.{CHANNEL}.HybridNew.json\", \"w\") as f:\n",
    "    json.dump(limits, f, indent=2)"
   ]
  }
 ],
 "metadata": {
  "kernelspec": {
   "display_name": "torch",
   "language": "python",
   "name": "python3"
  },
  "language_info": {
   "codemirror_mode": {
    "name": "ipython",
    "version": 3
   },
   "file_extension": ".py",
   "mimetype": "text/x-python",
   "name": "python",
   "nbconvert_exporter": "python",
   "pygments_lexer": "ipython3",
   "version": "3.11.3"
  },
  "orig_nbformat": 4
 },
 "nbformat": 4,
 "nbformat_minor": 2
}
